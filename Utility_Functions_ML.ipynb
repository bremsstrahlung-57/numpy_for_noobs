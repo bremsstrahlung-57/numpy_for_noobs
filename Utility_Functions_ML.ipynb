{
  "nbformat": 4,
  "nbformat_minor": 0,
  "metadata": {
    "colab": {
      "provenance": []
    },
    "kernelspec": {
      "name": "python3",
      "display_name": "Python 3"
    },
    "language_info": {
      "name": "python"
    }
  },
  "cells": [
    {
      "cell_type": "markdown",
      "source": [
        "# Utility Functions For ML"
      ],
      "metadata": {
        "id": "xi56Z5YEGkhx"
      }
    },
    {
      "cell_type": "code",
      "execution_count": 1,
      "metadata": {
        "colab": {
          "base_uri": "https://localhost:8080/"
        },
        "id": "zA2JAL30FWDV",
        "outputId": "0e65fff6-e774-424a-b8e6-2bed8fa8b888"
      },
      "outputs": [
        {
          "output_type": "stream",
          "name": "stdout",
          "text": [
            "Requirement already satisfied: numpy in /usr/local/lib/python3.11/dist-packages (2.2.3)\n"
          ]
        }
      ],
      "source": [
        "!pip install numpy --upgrade"
      ]
    },
    {
      "cell_type": "code",
      "source": [
        "import numpy as np"
      ],
      "metadata": {
        "id": "bmsKuDXnFcAE"
      },
      "execution_count": 2,
      "outputs": []
    },
    {
      "cell_type": "markdown",
      "source": [
        "### clip\n",
        "- Clip (limit) the values in an array.\n",
        "- **Syntax**: `numpy.clip(a, a_min=<no value>, a_max=<no value>, out=None, *, min=<no value>, max=<no value>, **kwargs)`\n",
        "- Equivalent to but faster than `np.minimum(a_max, np.maximum(a, a_min))`\n",
        "\n"
      ],
      "metadata": {
        "id": "GqouSoI5Gs7o"
      }
    },
    {
      "cell_type": "markdown",
      "source": [
        "If an interval of [0, 1] is specified, values smaller than 0 become 0, and values larger than 1 become 1"
      ],
      "metadata": {
        "id": "F2NBe5YOHEKH"
      }
    },
    {
      "cell_type": "code",
      "source": [
        "a = np.arange(10)\n",
        "a"
      ],
      "metadata": {
        "colab": {
          "base_uri": "https://localhost:8080/"
        },
        "id": "GfmUkn39GokH",
        "outputId": "014cdb2c-1c3c-43d9-b6fb-6eb6dcac1f0e"
      },
      "execution_count": 4,
      "outputs": [
        {
          "output_type": "execute_result",
          "data": {
            "text/plain": [
              "array([0, 1, 2, 3, 4, 5, 6, 7, 8, 9])"
            ]
          },
          "metadata": {},
          "execution_count": 4
        }
      ]
    },
    {
      "cell_type": "code",
      "source": [
        "np.clip(a, 1, 8)"
      ],
      "metadata": {
        "colab": {
          "base_uri": "https://localhost:8080/"
        },
        "id": "jyNlvUJJHHY7",
        "outputId": "18788f79-d0a1-4eca-cbae-fd2f71aea2ff"
      },
      "execution_count": 5,
      "outputs": [
        {
          "output_type": "execute_result",
          "data": {
            "text/plain": [
              "array([1, 1, 2, 3, 4, 5, 6, 7, 8, 8])"
            ]
          },
          "metadata": {},
          "execution_count": 5
        }
      ]
    },
    {
      "cell_type": "code",
      "source": [
        "np.clip(a, 8, 1)"
      ],
      "metadata": {
        "colab": {
          "base_uri": "https://localhost:8080/"
        },
        "id": "8AEyblRtHNKa",
        "outputId": "7108afc1-5c0e-44c2-be70-eee258b7b57e"
      },
      "execution_count": 6,
      "outputs": [
        {
          "output_type": "execute_result",
          "data": {
            "text/plain": [
              "array([1, 1, 1, 1, 1, 1, 1, 1, 1, 1])"
            ]
          },
          "metadata": {},
          "execution_count": 6
        }
      ]
    },
    {
      "cell_type": "markdown",
      "source": [
        "When `a_min` is greater than `a_max`, clip returns an array in which all values are equal to `a_max`, as shown in the second example."
      ],
      "metadata": {
        "id": "GxkxdQs2Hjdm"
      }
    },
    {
      "cell_type": "code",
      "source": [
        "np.clip(a, 3, 6, out=a)\n",
        "a"
      ],
      "metadata": {
        "colab": {
          "base_uri": "https://localhost:8080/"
        },
        "id": "7ih5CyQwHfhN",
        "outputId": "1b90ff69-7692-44c4-ac58-e0788d58effa"
      },
      "execution_count": 9,
      "outputs": [
        {
          "output_type": "execute_result",
          "data": {
            "text/plain": [
              "array([3, 3, 3, 3, 4, 5, 6, 6, 6, 6])"
            ]
          },
          "metadata": {},
          "execution_count": 9
        }
      ]
    },
    {
      "cell_type": "code",
      "source": [
        "a = np.arange(10)\n",
        "a"
      ],
      "metadata": {
        "colab": {
          "base_uri": "https://localhost:8080/"
        },
        "id": "3kdilcSfIE0w",
        "outputId": "cc992c84-e92d-46a2-d575-5a8637defde6"
      },
      "execution_count": 10,
      "outputs": [
        {
          "output_type": "execute_result",
          "data": {
            "text/plain": [
              "array([0, 1, 2, 3, 4, 5, 6, 7, 8, 9])"
            ]
          },
          "metadata": {},
          "execution_count": 10
        }
      ]
    },
    {
      "cell_type": "code",
      "source": [
        "np.clip(a, [3, 4, 1, 1, 1, 4, 4, 4, 4, 4], 8)"
      ],
      "metadata": {
        "colab": {
          "base_uri": "https://localhost:8080/"
        },
        "id": "fcSAgYguIFxy",
        "outputId": "595b994f-1322-4263-9ee4-b443531d6b69"
      },
      "execution_count": 11,
      "outputs": [
        {
          "output_type": "execute_result",
          "data": {
            "text/plain": [
              "array([3, 4, 2, 3, 4, 5, 6, 7, 8, 8])"
            ]
          },
          "metadata": {},
          "execution_count": 11
        }
      ]
    },
    {
      "cell_type": "markdown",
      "source": [
        "### unique\n",
        "- Find unique values in an array\n",
        "- **Syntax**: `numpy.unique(ar, return_index=False, return_inverse=False, return_counts=False, axis=None, *, equal_nan=True)`\n",
        "  - ar - Input array.\n",
        "  - return_index - If True, also return the indices of ar\n",
        "  - return_inverse - If True, also return the indices of the unique array\n",
        "  - return_counts - If True, also return the number of times each unique item appears in ar.\n",
        "  - equal_nan - If True, collapses multiple NaN values in the return array into one."
      ],
      "metadata": {
        "id": "ubnqkBNeISEn"
      }
    },
    {
      "cell_type": "code",
      "source": [
        "np.unique([1, 1, 2, 2, 3, 3])"
      ],
      "metadata": {
        "colab": {
          "base_uri": "https://localhost:8080/"
        },
        "id": "9LVzmDerIOME",
        "outputId": "2f2d79f8-5ab1-4546-b755-cc15508725f0"
      },
      "execution_count": 12,
      "outputs": [
        {
          "output_type": "execute_result",
          "data": {
            "text/plain": [
              "array([1, 2, 3])"
            ]
          },
          "metadata": {},
          "execution_count": 12
        }
      ]
    },
    {
      "cell_type": "code",
      "source": [
        "a = np.array([[1,2],[3,4]])\n",
        "np.unique(a)"
      ],
      "metadata": {
        "colab": {
          "base_uri": "https://localhost:8080/"
        },
        "id": "DCAtBQa9I81o",
        "outputId": "73d91f45-1e4e-4f3b-c335-183ed39ceee1"
      },
      "execution_count": 13,
      "outputs": [
        {
          "output_type": "execute_result",
          "data": {
            "text/plain": [
              "array([1, 2, 3, 4])"
            ]
          },
          "metadata": {},
          "execution_count": 13
        }
      ]
    },
    {
      "cell_type": "code",
      "source": [
        "a = np.array([[1, 0, 0], [1, 0, 0], [2, 3, 4]])\n",
        "np.unique(a, axis=0)"
      ],
      "metadata": {
        "colab": {
          "base_uri": "https://localhost:8080/"
        },
        "id": "bcpMOAu5JDD7",
        "outputId": "c54998d7-9d4d-4d24-8bf1-8faed72b96c5"
      },
      "execution_count": 16,
      "outputs": [
        {
          "output_type": "execute_result",
          "data": {
            "text/plain": [
              "array([[1, 0, 0],\n",
              "       [2, 3, 4]])"
            ]
          },
          "metadata": {},
          "execution_count": 16
        }
      ]
    },
    {
      "cell_type": "code",
      "source": [
        "a = np.array(['a', 'b', 'b', 'c', 'a'])\n",
        "u, indices = np.unique(a, return_index=True)\n",
        "u, indices"
      ],
      "metadata": {
        "colab": {
          "base_uri": "https://localhost:8080/"
        },
        "id": "VqaxQM0gJF8w",
        "outputId": "a2eb0bcc-d55a-4ad8-c64b-3740e069c8dd"
      },
      "execution_count": 17,
      "outputs": [
        {
          "output_type": "execute_result",
          "data": {
            "text/plain": [
              "(array(['a', 'b', 'c'], dtype='<U1'), array([0, 1, 3]))"
            ]
          },
          "metadata": {},
          "execution_count": 17
        }
      ]
    },
    {
      "cell_type": "code",
      "source": [
        "a = np.array([1,2,5,3,5,7,1,4])\n",
        "u, indices = np.unique(a, return_inverse=True)\n",
        "u, indices"
      ],
      "metadata": {
        "colab": {
          "base_uri": "https://localhost:8080/"
        },
        "id": "_V_OB0qzJZZN",
        "outputId": "474286ea-340e-4fb8-aef7-4b088717ff19"
      },
      "execution_count": 21,
      "outputs": [
        {
          "output_type": "execute_result",
          "data": {
            "text/plain": [
              "(array([1, 2, 3, 4, 5, 7]), array([0, 1, 4, 2, 4, 5, 0, 3]))"
            ]
          },
          "metadata": {},
          "execution_count": 21
        }
      ]
    },
    {
      "cell_type": "code",
      "source": [
        "a = np.array([1, 2, 6, 4, 2, 3, 2])\n",
        "values, counts = np.unique(a, return_counts=True)\n",
        "values, counts"
      ],
      "metadata": {
        "colab": {
          "base_uri": "https://localhost:8080/"
        },
        "id": "40pENzDjJeEa",
        "outputId": "abf5c10b-db8d-4193-f1a0-4c6c0f8ddef4"
      },
      "execution_count": 22,
      "outputs": [
        {
          "output_type": "execute_result",
          "data": {
            "text/plain": [
              "(array([1, 2, 3, 4, 6]), array([1, 3, 1, 1, 1]))"
            ]
          },
          "metadata": {},
          "execution_count": 22
        }
      ]
    },
    {
      "cell_type": "code",
      "source": [
        "np.repeat(values, counts) # original order not preserved"
      ],
      "metadata": {
        "colab": {
          "base_uri": "https://localhost:8080/"
        },
        "id": "jCs_DUQtKRLc",
        "outputId": "60187c29-9a6a-4116-f0f3-064dd0e27e5c"
      },
      "execution_count": 23,
      "outputs": [
        {
          "output_type": "execute_result",
          "data": {
            "text/plain": [
              "array([1, 2, 2, 2, 3, 4, 6])"
            ]
          },
          "metadata": {},
          "execution_count": 23
        }
      ]
    },
    {
      "cell_type": "markdown",
      "source": [
        "### bincount\n",
        "- Count occurrences of values\n",
        "- **Syntax**: `numpy.bincount(x, /, weights=None, minlength=0)`\n",
        "  - x - Input array.\n",
        "  - weights - Weights, array of the same shape as x.\n",
        "  - minlength - A minimum number of bins for the output array\n"
      ],
      "metadata": {
        "id": "40AmR6U9KcYq"
      }
    },
    {
      "cell_type": "code",
      "source": [
        "np.bincount(np.arange(5))"
      ],
      "metadata": {
        "colab": {
          "base_uri": "https://localhost:8080/"
        },
        "id": "cR_b4USnKWdb",
        "outputId": "4470e98f-e71d-4619-d766-a66a56c5a5c1"
      },
      "execution_count": 24,
      "outputs": [
        {
          "output_type": "execute_result",
          "data": {
            "text/plain": [
              "array([1, 1, 1, 1, 1])"
            ]
          },
          "metadata": {},
          "execution_count": 24
        }
      ]
    },
    {
      "cell_type": "code",
      "source": [
        "np.bincount(np.array([0, 1, 1, 3, 2, 1, 7]))"
      ],
      "metadata": {
        "colab": {
          "base_uri": "https://localhost:8080/"
        },
        "id": "w1tgen6cLpWL",
        "outputId": "342ddc10-0132-4187-eeb7-ccef4265f6b4"
      },
      "execution_count": 25,
      "outputs": [
        {
          "output_type": "execute_result",
          "data": {
            "text/plain": [
              "array([1, 3, 1, 1, 0, 0, 0, 1])"
            ]
          },
          "metadata": {},
          "execution_count": 25
        }
      ]
    },
    {
      "cell_type": "markdown",
      "source": [
        "* `counts[0]` is 1 because '0' appears once in `arr`.\n",
        "* `counts[1]` is 3 because '1' appears three times in `arr`.\n",
        "* `counts[2]` is 1 because '2' appears once in `arr`.\n",
        "* `counts[3]` is 1 because '3' appears once in `arr`.\n",
        "* `counts[4]` is 0 because '4' is not present in `arr`.\n",
        "* `counts[5]` is 0 because '5' is not present in `arr`.\n",
        "* `counts[6]` is 0 because '6' is not present in `arr`.\n",
        "* `counts[7]` is 1 because '7' appears once in `arr`\n",
        "\n",
        "The input array should contain only non-negative integers.\n"
      ],
      "metadata": {
        "id": "T_dtEMZDMEzd"
      }
    },
    {
      "cell_type": "code",
      "source": [
        "w = np.array([0.3, 0.5, 0.2, 0.7, 1., -0.6]) # weights\n",
        "x = np.array([0, 1, 1, 2, 2, 2])\n",
        "np.bincount(x,  weights=w)"
      ],
      "metadata": {
        "colab": {
          "base_uri": "https://localhost:8080/"
        },
        "id": "Va2iS4GHLrwc",
        "outputId": "66aaac2c-bb3a-4d59-9f3b-cbfbd02700ee"
      },
      "execution_count": 26,
      "outputs": [
        {
          "output_type": "execute_result",
          "data": {
            "text/plain": [
              "array([0.3, 0.7, 1.1])"
            ]
          },
          "metadata": {},
          "execution_count": 26
        }
      ]
    },
    {
      "cell_type": "markdown",
      "source": [
        "Imagine you have a set of items, each belonging to a specific category (represented by the numbers in `x`). Each item also has a weight assigned to it (represented by the numbers in `w`). The `np.bincount` function with weights essentially calculates the total weight for each category by summing the weights of all items belonging to that category.\n",
        "\n",
        "How it works with the given data:\n",
        "\n",
        "* The x array has values `[0, 1, 1, 2, 2, 2]`. This means there are `3` categories: `0, 1, and 2`.\n",
        "* The w array has corresponding weights `[0.3, 0.5, 0.2, 0.7, 1., -0.6]`.\n",
        "`np.bincount` will:\n",
        "* Calculate the total weight for category `0: 0.3` (weight of the first element in w corresponding to the first element `'0'` in `x`)\n",
        "* Calculate the total weight for category` 1: 0.5 + 0.2` (weights of the second and third elements in w corresponding to` '1's` in `x`)\n",
        "* Calculate the total weight for category `2: 0.7 + 1.0 + (-0.6)` (weights of the fourth, fifth, and sixth elements in w corresponding to `'2's` in `x`)\n"
      ],
      "metadata": {
        "id": "qDgCXRB7M6HV"
      }
    },
    {
      "cell_type": "markdown",
      "source": [
        "### meshgrid\n",
        "- Generate coordinate grids (useful in visualization)\n",
        "- Return a tuple of coordinate matrices from coordinate vectors.\n",
        "- **Syntax**: `numpy.meshgrid(*xi, copy=True, sparse=False, indexing='xy')`\n",
        "  - x1, x2,…, xn - 1-D arrays representing the coordinates of a grid\n",
        "  - indexing - Cartesian ('xy', default) or matrix ('ij') indexing of output\n",
        "  - sparse - If True the shape of the returned coordinate array for dimension i is reduced from `(N1, ..., Ni, ... Nn)` to `(1, ..., 1, Ni, 1, ..., 1)`.(to reduce the dimensionality of the returned coordinate array for memory conservation.)\n",
        "  - copy - return a view into the original arrays or a copy."
      ],
      "metadata": {
        "id": "Qnc4zJTrNckj"
      }
    },
    {
      "cell_type": "code",
      "source": [
        "nx, ny = (3, 2)\n",
        "x = np.linspace(0, 1, nx)\n",
        "y = np.linspace(0, 1, ny)\n",
        "xv, yv = np.meshgrid(x, y)\n",
        "xv, yv"
      ],
      "metadata": {
        "colab": {
          "base_uri": "https://localhost:8080/"
        },
        "id": "UtcpRXJTL1IM",
        "outputId": "b30eb4e5-d36a-4ee9-aa1b-500d360f81a4"
      },
      "execution_count": 29,
      "outputs": [
        {
          "output_type": "execute_result",
          "data": {
            "text/plain": [
              "(array([[0. , 0.5, 1. ],\n",
              "        [0. , 0.5, 1. ]]),\n",
              " array([[0., 0., 0.],\n",
              "        [1., 1., 1.]]))"
            ]
          },
          "metadata": {},
          "execution_count": 29
        }
      ]
    },
    {
      "cell_type": "markdown",
      "source": [
        "1. x = np.linspace(0, 1, nx): Since nx is 3, this creates an array x with 3 evenly spaced values between 0 and 1: [0. , 0.5, 1. ].\n",
        "\n",
        "2. y = np.linspace(0, 1, ny): Since ny is 2, this creates an array y with 2 evenly spaced values between 0 and 1: [0., 1.].\n",
        "\n",
        "3. xv, yv = np.meshgrid(x, y): This is where the grid is created:\n",
        "  - xv: np.meshgrid repeats the x array ([0. , 0.5, 1. ]) to form the rows of the xv array. Since there are ny (2) rows needed, it creates the following:\n",
        "  ```python\n",
        "  array([[0. , 0.5, 1. ],\n",
        "        [0. , 0.5, 1. ]])\n",
        "    ```\n",
        "  - yv: np.meshgrid repeats the y array ([0., 1.]) to form the columns of the yv array. To fill the nx (3) columns, it generates:\n",
        "  ```python\n",
        "  array([[0., 0., 0.],\n",
        "        [1., 1., 1.]])\n",
        "    ```"
      ],
      "metadata": {
        "id": "zTRTXPmtR9CF"
      }
    },
    {
      "cell_type": "code",
      "source": [
        "# We are just visualising out data with matplotlib. We are not discussing matplotlib, this just for better understanding of our topic - meshgrid\n",
        "import matplotlib.pyplot as plt\n",
        "plt.plot(xv, yv, marker='o', color='k', linestyle='none')\n",
        "plt.show()"
      ],
      "metadata": {
        "colab": {
          "base_uri": "https://localhost:8080/",
          "height": 430
        },
        "id": "z4qF7PhjORs_",
        "outputId": "4811a6e2-a7e4-45b2-dda3-56367bb32e49"
      },
      "execution_count": 34,
      "outputs": [
        {
          "output_type": "display_data",
          "data": {
            "text/plain": [
              "<Figure size 640x480 with 1 Axes>"
            ],
            "image/png": "[encoded data removed]"
          },
          "metadata": {}
        }
      ]
    },
    {
      "cell_type": "code",
      "source": [
        "x = np.linspace(-5, 5, 101)\n",
        "y = np.linspace(-5, 5, 101)\n",
        "# full coordinate arrays\n",
        "xx, yy = np.meshgrid(x, y)\n",
        "zz = np.sqrt(xx**2 + yy**2)\n",
        "xx.shape, yy.shape, zz.shape\n",
        "# sparse coordinate arrays\n",
        "xs, ys = np.meshgrid(x, y, sparse=True)\n",
        "zs = np.sqrt(xs**2 + ys**2)\n",
        "xs.shape, ys.shape, zs.shape\n",
        "np.array_equal(zz, zs)"
      ],
      "metadata": {
        "colab": {
          "base_uri": "https://localhost:8080/"
        },
        "id": "QQ1wAnr-OmWo",
        "outputId": "b3d68c65-1c34-48b4-d8ae-06508a7075c8"
      },
      "execution_count": 31,
      "outputs": [
        {
          "output_type": "execute_result",
          "data": {
            "text/plain": [
              "True"
            ]
          },
          "metadata": {},
          "execution_count": 31
        }
      ]
    },
    {
      "cell_type": "markdown",
      "source": [
        "1. Creating the Input:\n",
        "  - `np.linspace(-5, 5, 101)` generates a 1-dimensional NumPy array named `x` (and `y` similarly) containing 101 evenly spaced points between -5 and 5. These arrays will represent the coordinates along the `x` and `y` axes of our grid.\n",
        "2. Generating Full Coordinate Arrays:\n",
        "  - `np.meshgrid(x, y)` creates two 2-dimensional arrays, `xx` and `yy`.\n",
        "    - `xx` contains the x-coordinates for each point on the grid. Each row of `xx` is a copy of the original `x` array.\n",
        "    - `yy` contains the y-coordinates, with each column being a copy of the original `y` array.\n",
        "  - `zz = np.sqrt(xx**2 + yy**2)` calculates the value of `z` (using the distance formula) for each `(x, y)` coordinate pair on the grid and stores it in the `zz` array. This creates a 2D grid of z values corresponding to the `(x, y)` coordinates.\n",
        "  -` xx.shape, yy.shape, zz.shape` displays the dimensions (shape) of the `xx`, `yy`, and `zz` arrays, providing information about the size of the grid.\n",
        "\n",
        "3. Generating Sparse Coordinate Arrays:\n",
        "  - `np.meshgrid(x, y, sparse=True)` does the same as above but creates `xs` and `ys` as sparse arrays. This means they store only the unique values of `x` and `y`, which can save memory, especially for large grids.\n",
        "  - `zs = np.sqrt(xs**2 + ys**2)` calculates the `z` values similarly to before, but using the sparse coordinate arrays.\n",
        "  - `xs.shape, ys.shape, zs.shape` shows the dimensions of the sparse arrays. Notice that their dimensions are smaller than the full arrays.\n",
        "\n",
        "4. Comparing Results:\n",
        "  - `np.array_equal(zz, zs)` compares the values in the `zz` array (calculated from full coordinates) and the `zs` array (calculated from sparse coordinates). This checks if the two methods produce the same results, verifying that the sparse representation is functionally equivalent to the full representation.\n",
        "\n",
        "\n",
        "\n",
        "> Explanation by gemini\n",
        "\n"
      ],
      "metadata": {
        "id": "5oyPZvrNTp23"
      }
    },
    {
      "cell_type": "code",
      "source": [
        "h = plt.contourf(x, y, zs)\n",
        "plt.axis('scaled')\n",
        "plt.colorbar()\n",
        "plt.show()"
      ],
      "metadata": {
        "colab": {
          "base_uri": "https://localhost:8080/",
          "height": 435
        },
        "id": "ryvWWHyzOpSM",
        "outputId": "eaaee397-7614-49b2-d999-3427332ed23f"
      },
      "execution_count": 32,
      "outputs": [
        {
          "output_type": "display_data",
          "data": {
            "text/plain": [
              "<Figure size 640x480 with 2 Axes>"
            ],
            "image/png": "[encoded data removed]"
          },
          "metadata": {}
        }
      ]
    },
    {
      "cell_type": "markdown",
      "source": [
        "### References\n",
        "- [np.clip()](https://numpy.org/doc/stable/reference/generated/numpy.clip.html)\n",
        "- [np.unique()](https://numpy.org/doc/stable/reference/generated/numpy.unique.html)\n",
        "- [np.bincount()](https://numpy.org/doc/stable/reference/generated/numpy.bincount.html)\n",
        "- [np.meshgrid()](https://numpy.org/doc/2.2/reference/generated/numpy.meshgrid.html)"
      ],
      "metadata": {
        "id": "uecc-lYCVNXJ"
      }
    }
  ]
}