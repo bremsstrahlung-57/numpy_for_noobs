{
  "cells": [
    {
      "cell_type": "markdown",
      "metadata": {
        "id": "Q9HXk-37wlBM"
      },
      "source": [
        "# Introduction to Numpy"
      ]
    },
    {
      "cell_type": "code",
      "execution_count": 1,
      "metadata": {
        "id": "xUka0iT_mxxb"
      },
      "outputs": [],
      "source": [
        "import numpy as np"
      ]
    },
    {
      "cell_type": "markdown",
      "metadata": {
        "id": "TTHnCBq_Gsq9"
      },
      "source": [
        "# VECTORS"
      ]
    },
    {
      "cell_type": "markdown",
      "metadata": {
        "id": "8Lo-2jPqGx95"
      },
      "source": [
        "A vector is essentially an ordered list of numbers. Each number in the list is called an element or component of the vector. Vectors are fundamental data structures used to represent numerical data."
      ]
    },
    {
      "cell_type": "code",
      "execution_count": 6,
      "metadata": {
        "colab": {
          "base_uri": "https://localhost:8080/"
        },
        "id": "655Sw8h_IFng",
        "outputId": "9df896a4-6bf0-41ac-f6bd-d7810a11509d"
      },
      "outputs": [
        {
          "name": "stdout",
          "output_type": "stream",
          "text": [
            "Row Vector:  [1 2 3]\n",
            "Column Vector: \n",
            " [[1]\n",
            " [2]\n",
            " [3]]\n"
          ]
        }
      ],
      "source": [
        "vector_row = np.array([1, 2, 3])\n",
        "print(\"Row Vector: \",vector_row)\n",
        "\n",
        "vector_column = np.array([[1], [2], [3]])\n",
        "print(\"Column Vector: \\n\",vector_column)"
      ]
    },
    {
      "cell_type": "markdown",
      "metadata": {
        "id": "3eW8IOBtHhL0"
      },
      "source": [
        "# MATRIX\n",
        "\n",
        "- A matrix in computer science is like a table of numbers or symbols. Think of it as a grid with rows and columns, where each cell in the grid holds a piece of information. These pieces of information are called elements.\n",
        "- In mathematics, a matrix is a rectangular array of numbers, symbols, or expressions, arranged in rows and columns\n",
        "- Rows tun horizontally and columns run vertically"
      ]
    },
    {
      "cell_type": "markdown",
      "metadata": {
        "id": "1bi6pqAaTHp_"
      },
      "source": [
        "#### Create a Matrix\n",
        " - **Syntax**: `np.matrix(data)`"
      ]
    },
    {
      "cell_type": "code",
      "execution_count": 7,
      "metadata": {
        "colab": {
          "base_uri": "https://localhost:8080/"
        },
        "id": "sCxlMAhCVqwc",
        "outputId": "f4119832-f260-4bdb-e9f9-a4adea7d6e68"
      },
      "outputs": [
        {
          "name": "stdout",
          "output_type": "stream",
          "text": [
            "[[ 1  2  3  4]\n",
            " [ 4  5  6  7]\n",
            " [ 7  8  9 10]]\n"
          ]
        }
      ],
      "source": [
        "mat1 = np.matrix(\"1, 2, 3, 4; 4, 5, 6, 7; 7, 8, 9, 10\")\n",
        "print(mat1)"
      ]
    },
    {
      "cell_type": "code",
      "execution_count": 8,
      "metadata": {
        "colab": {
          "base_uri": "https://localhost:8080/"
        },
        "id": "rfeSaheYI74-",
        "outputId": "26017694-dd11-413c-9a6a-be0699ad4aa0"
      },
      "outputs": [
        {
          "name": "stdout",
          "output_type": "stream",
          "text": [
            "[[1 2]\n",
            " [3 4]\n",
            " [4 6]]\n"
          ]
        }
      ],
      "source": [
        "mat2 = np.array([[1, 2], [3,4], [4, 6]])\n",
        "print(mat2)"
      ]
    },
    {
      "cell_type": "markdown",
      "metadata": {
        "id": "k_oXSbV1Rbic"
      },
      "source": [
        "#### Shape of a matrix\n",
        "- **Syntax**: `mat.shape`\n",
        "    -  **`shape[0]`** - returns the number of rows\n",
        "    - **`shape[1]`** - returns the number of columns"
      ]
    },
    {
      "cell_type": "code",
      "execution_count": 15,
      "metadata": {
        "colab": {
          "base_uri": "https://localhost:8080/"
        },
        "id": "dhou1Ze2JFO0",
        "outputId": "40a468a6-173c-462f-e3c2-5280906de384"
      },
      "outputs": [
        {
          "name": "stdout",
          "output_type": "stream",
          "text": [
            "[[ 1  2  3  4]\n",
            " [ 4  5  6  7]\n",
            " [ 7  8  9 10]]\n",
            "row = 3\n",
            "Column = 4\n"
          ]
        }
      ],
      "source": [
        "# shape\n",
        "mat1.shape, mat2.shape\n",
        "#shape[0] is row and shape[1] is column\n",
        "print(f\"{mat1}\\nrow = {mat1.shape[0]}\\nColumn = {mat1.shape[1]}\")"
      ]
    },
    {
      "cell_type": "markdown",
      "metadata": {
        "id": "fq_Rb_PMRg6a"
      },
      "source": [
        "#### Size\n",
        "- **Syntax**: `array.size`"
      ]
    },
    {
      "cell_type": "code",
      "execution_count": 16,
      "metadata": {
        "colab": {
          "base_uri": "https://localhost:8080/"
        },
        "id": "f-dGUPZ6JMzF",
        "outputId": "2f4358c9-c355-47e1-b31a-d287c73ddb92"
      },
      "outputs": [
        {
          "data": {
            "text/plain": [
              "12"
            ]
          },
          "execution_count": 16,
          "metadata": {},
          "output_type": "execute_result"
        }
      ],
      "source": [
        "#size\n",
        "mat1.size #-> number of elements (rows *  columns)"
      ]
    },
    {
      "cell_type": "markdown",
      "metadata": {},
      "source": [
        "#### Dimensions\n",
        "**Syntax**: `array.ndim`\n",
        "**bold text**- A 1D array (like a list) has ndim = 1.\n",
        "- A 2D array (like a matrix) has ndim = 2.\n",
        "- A 3D array (like a cube) has ndim = 3."
      ]
    },
    {
      "cell_type": "code",
      "execution_count": null,
      "metadata": {},
      "outputs": [],
      "source": [
        "mat1.ndim, vector_row.ndim"
      ]
    },
    {
      "cell_type": "markdown",
      "metadata": {
        "id": "v1irTbSJRjJe"
      },
      "source": [
        "#### Modifying Matrix Using Insert\n",
        "- **Syntax:** `np.insert(matrix, object, values, axis)`\n",
        "  - **matrix** - input matrix\n",
        "  - **object** - index position\n",
        "  - **values** - matrix of values to be inserted\n"
      ]
    },
    {
      "cell_type": "code",
      "execution_count": 40,
      "metadata": {
        "colab": {
          "base_uri": "https://localhost:8080/"
        },
        "id": "VCs4zK_xNcK-",
        "outputId": "1fa9439d-9322-4281-a327-a05bcf0a8608"
      },
      "outputs": [
        {
          "name": "stdout",
          "output_type": "stream",
          "text": [
            "[1 2 5 3 4]\n"
          ]
        }
      ],
      "source": [
        "#insert -> array\n",
        "a = np.array([1,2,3,4])\n",
        "b = np.insert(a, 2, 5) # Insert 5 before index 2\n",
        "print(b)"
      ]
    },
    {
      "cell_type": "code",
      "execution_count": 41,
      "metadata": {
        "colab": {
          "base_uri": "https://localhost:8080/"
        },
        "id": "vJ3plZgvNv_6",
        "outputId": "3011c842-a44c-43c4-c936-c9e83bbcccd8"
      },
      "outputs": [
        {
          "name": "stdout",
          "output_type": "stream",
          "text": [
            "[[1 2]\n",
            " [5 6]\n",
            " [3 4]]\n"
          ]
        }
      ],
      "source": [
        "a = np.array([[1,2],[3,4]])\n",
        "b = np.insert(a, 1, [5,6], axis=0) # Insert [5,6] before row index 1\n",
        "print(b)"
      ]
    },
    {
      "cell_type": "code",
      "execution_count": 48,
      "metadata": {
        "colab": {
          "base_uri": "https://localhost:8080/"
        },
        "id": "WmyXCDONOO4j",
        "outputId": "f93e7372-a09b-4dc9-f34b-22ea18e2aba4"
      },
      "outputs": [
        {
          "name": "stdout",
          "output_type": "stream",
          "text": [
            "[1 5 2 3 6 4]\n"
          ]
        }
      ],
      "source": [
        "a = np.array([1,2,3,4])\n",
        "b = np.insert(a, [1,3], [5,6]) # Insert 5 before index 1 and 6 before index 3\n",
        "print(b)"
      ]
    },
    {
      "cell_type": "code",
      "execution_count": 47,
      "metadata": {
        "colab": {
          "base_uri": "https://localhost:8080/"
        },
        "id": "7hdf_jmeO5zE",
        "outputId": "2579a299-9321-4c1d-d278-dca01067d43d"
      },
      "outputs": [
        {
          "name": "stdout",
          "output_type": "stream",
          "text": [
            "[1 5 2 6 3 4]\n"
          ]
        }
      ],
      "source": [
        "a = np.array([1,2,3,4])\n",
        "b = np.insert(a, slice(1,3),[5,6]) # Insert [5,6] before indices 1 (inclusive) to 3 (exclusive)\n",
        "print(b) # The values in values ([5, 6]) are inserted before the elements within the specified slice (indices 1 and 2 in this case)."
      ]
    },
    {
      "cell_type": "markdown",
      "metadata": {
        "id": "hNII_hAgQe-D"
      },
      "source": [
        "* **Specific Indices vs. Range**: In the first `case ([1, 3])`, you provide explicit indices for insertion. In the second case `(slice(1, 3))`, you define a range of indices.\n",
        "* **Insertion Behavior**: With explicit indices, values are inserted at those precise locations. With a slice, values are inserted sequentially before the elements within the slice."
      ]
    },
    {
      "cell_type": "code",
      "execution_count": 50,
      "metadata": {
        "colab": {
          "base_uri": "https://localhost:8080/"
        },
        "id": "r3K5j4dsQ-Yo",
        "outputId": "623bbaca-7f34-42b6-b088-7f58e922c026"
      },
      "outputs": [
        {
          "name": "stdout",
          "output_type": "stream",
          "text": [
            "[[1 5 2]\n",
            " [3 6 4]]\n"
          ]
        }
      ],
      "source": [
        "a = np.array([[1,2],[3,4]])\n",
        "b = np.insert(a, 1, [5,6], axis=1) # Insert [5,6] before column index 1\n",
        "print(b)"
      ]
    },
    {
      "cell_type": "code",
      "execution_count": 42,
      "metadata": {
        "colab": {
          "base_uri": "https://localhost:8080/"
        },
        "id": "leZrXqwuJ2Gu",
        "outputId": "b712d045-ba3b-48e4-fd81-795d06bb9eae"
      },
      "outputs": [
        {
          "name": "stdout",
          "output_type": "stream",
          "text": [
            "[[1 1 1]]\n",
            "MAT1 ->\n",
            "[[ 1  2  3  4]\n",
            " [ 4  5  6  7]\n",
            " [ 7  8  9 10]]\n",
            "MAT4 ->\n",
            "[[ 1  1  2  3  4]\n",
            " [ 1  4  5  6  7]\n",
            " [ 1  7  8  9 10]]\n"
          ]
        }
      ],
      "source": [
        "#insert -> Matrix // 2D-array\n",
        "col_new = np.matrix(\"1, 1, 1\")\n",
        "print(col_new)\n",
        "\n",
        "mat4 = np.insert(mat1, 0, col_new, axis=1) #-> col_new is inserted in mat1 at index 0\n",
        "# axis=0: Insert along rows (vertical)\n",
        "# axis=1: Insert along columns (horizontal)\n",
        "# axis=None: Flatten and insert in the flattened array\n",
        "print(f\"MAT1 ->\\n{mat1}\\nMAT4 ->\\n{mat4}\")"
      ]
    },
    {
      "cell_type": "code",
      "execution_count": 43,
      "metadata": {
        "colab": {
          "base_uri": "https://localhost:8080/"
        },
        "id": "ck1WN0wVKN4A",
        "outputId": "af306071-27c4-477a-82e5-bb90a182fdcf"
      },
      "outputs": [
        {
          "name": "stdout",
          "output_type": "stream",
          "text": [
            "[[0 0 0 0]]\n",
            "[[ 0  0  0  0]\n",
            " [ 1  2  3  4]\n",
            " [ 4  5  6  7]\n",
            " [ 7  8  9 10]]\n"
          ]
        }
      ],
      "source": [
        "row_new = np.matrix(\"0, 0, 0, 0\")\n",
        "print(row_new)\n",
        "mat5 = np.insert(mat1, 0, row_new, axis=0)\n",
        "print(mat5)"
      ]
    },
    {
      "cell_type": "code",
      "execution_count": 44,
      "metadata": {
        "colab": {
          "base_uri": "https://localhost:8080/"
        },
        "id": "lcZodGAyKzYe",
        "outputId": "0c3b8152-2347-4334-87c3-835729dc7ba3"
      },
      "outputs": [
        {
          "name": "stdout",
          "output_type": "stream",
          "text": [
            "[[1 5 2]\n",
            " [3 6 4]]\n"
          ]
        }
      ],
      "source": [
        "a = np.array([[1, 2], [3, 4]])  # 2x2 array\n",
        "b = np.insert(a, 1, [5, 6], axis=1)  # Insert [5, 6] before column index 1\n",
        "print(b)"
      ]
    },
    {
      "cell_type": "markdown",
      "metadata": {
        "id": "69ivgtLcRvm4"
      },
      "source": [
        "#### Modifying Matrix Using Index\n",
        "- **Syntax**: `mat[row_index, col_index)`"
      ]
    },
    {
      "cell_type": "code",
      "execution_count": 54,
      "metadata": {
        "colab": {
          "base_uri": "https://localhost:8080/"
        },
        "id": "HQWkGOB2NaHi",
        "outputId": "63db5aac-2c1c-4916-ba8f-58eb5c462788"
      },
      "outputs": [
        {
          "name": "stdout",
          "output_type": "stream",
          "text": [
            "[[ 1  2  3  4  5]\n",
            " [ 5  6  7  8  9]\n",
            " [ 9 10 11 12 13]]\n"
          ]
        }
      ],
      "source": [
        "mat_a = np.matrix(\"1, 2, 3, 4, 5; 5, 6, 7, 8, 9; 9, 10, 11, 12, 13\")\n",
        "print(mat_a)"
      ]
    },
    {
      "cell_type": "code",
      "execution_count": 56,
      "metadata": {
        "colab": {
          "base_uri": "https://localhost:8080/"
        },
        "id": "xek6KLslUKnw",
        "outputId": "05696195-1861-44e3-efea-b3bfed12d08e"
      },
      "outputs": [
        {
          "name": "stdout",
          "output_type": "stream",
          "text": [
            "[[ 1  2  3  4  5]\n",
            " [ 5  0  7  8  9]\n",
            " [ 9 10 11 12 13]]\n"
          ]
        }
      ],
      "source": [
        "mat_a[1,1] = 0 # row 1 and column 1 element (6) is changed to 0\n",
        "print(mat_a)"
      ]
    },
    {
      "cell_type": "code",
      "execution_count": 65,
      "metadata": {
        "colab": {
          "base_uri": "https://localhost:8080/"
        },
        "id": "tZvd0WoeUTk9",
        "outputId": "d5727b7d-d86f-45c1-f1f4-62927d87228c"
      },
      "outputs": [
        {
          "data": {
            "text/plain": [
              "matrix([[5, 0, 7, 8, 9]])"
            ]
          },
          "execution_count": 65,
          "metadata": {},
          "output_type": "execute_result"
        }
      ],
      "source": [
        "mat_a[1,:] # extracted 2nd row (not index 2nd)\n",
        "# mat_a[1:] prints matrix([[ 5,  0,  7,  8,  9],[ 9, 10, 11, 12, 13]])\n",
        "# the comma \",\" tells python to only check the given row or column\n",
        "# as we did in list indexing, without using it gives all elements from that index of row or column\n",
        "# In simpler terms: Imagine you have a chocolate, now you want 2nd row i.e. index 1\n",
        "# if we break it from before index 1 , we have two peices (i.e. we used it without a delimiter (,)) but we specificaly\n",
        "# need the the second row (idk why), so break it again, now this time before row 3 (i.e we used a delimiter),\n",
        "# now we have our second row.\n",
        "# i dont think that is a good example."
      ]
    },
    {
      "cell_type": "code",
      "execution_count": 72,
      "metadata": {
        "colab": {
          "base_uri": "https://localhost:8080/"
        },
        "id": "Bf0xx9y8Uh8M",
        "outputId": "d06992fe-2ff3-4833-db5e-26102dfd13f4"
      },
      "outputs": [
        {
          "name": "stdout",
          "output_type": "stream",
          "text": [
            "[[ 3]\n",
            " [ 7]\n",
            " [11]] [[1 2 3 4 5]\n",
            " [5 0 7 8 9]]\n"
          ]
        }
      ],
      "source": [
        "mat_a[:,2] # extracted 3rd column (index 2)\n",
        "#mat_a[: 2]\n",
        "# The `:` before the `2` means \"select from the beginning up to (but not including) index 2\"\n",
        "#mat_a[:,2] is like highlighting the entire 3rd column of the spreadsheet.\n",
        "# mat_a[: 2] is like highlighting the first 2 rows of the spreadsheet."
      ]
    },
    {
      "cell_type": "markdown",
      "metadata": {
        "id": "93GQSoW4YUX-"
      },
      "source": [
        "**Think of it this way**:\n",
        " - Imagine a grid with rows and columns. The comma in slicing helps you navigate and \"zoom in\" on specific parts of that grid. The part before the comma controls your vertical movement (rows), and the part after the comma controls your horizontal movement (columns).\n",
        "\n",
        "**Why is it necessary?**\n",
        " - Matrices (and NumPy arrays in general) are multi-dimensional. To access or manipulate specific elements, rows, or columns, you need a way to tell Python which dimension you're working with. The comma provides that distinction.\n",
        "\n",
        "\n",
        "**Without the comma**:\n",
        " - If you omit the comma, Python assumes you're working with a single dimension. For example, mat_a[1] would try to select the element at index 1 in the flattened (1-dimensional) version of the matrix, which might not be what you intended.\n",
        "\n",
        "In essence, the comma is essential for navigating and slicing multi-dimensional data structures in Python, especially when working with matrices and NumPy arrays. It allows you to precisely select the data you need by specifying both row and column positions."
      ]
    },
    {
      "cell_type": "code",
      "execution_count": 74,
      "metadata": {
        "colab": {
          "base_uri": "https://localhost:8080/"
        },
        "id": "EV1DIlBTXAxR",
        "outputId": "ae294e80-2c9b-4951-d466-17a9703ea884"
      },
      "outputs": [
        {
          "data": {
            "text/plain": [
              "7"
            ]
          },
          "execution_count": 74,
          "metadata": {},
          "output_type": "execute_result"
        }
      ],
      "source": [
        "mat_a[1,2] # extracting a element"
      ]
    },
    {
      "cell_type": "markdown",
      "metadata": {
        "id": "EoMZr0ELY2wQ"
      },
      "source": [
        "#### Matrix Operations"
      ]
    },
    {
      "cell_type": "markdown",
      "metadata": {
        "id": "PiAbrD7CZaOk"
      },
      "source": [
        "**arange()**: Creates an array of evenly spaced values within a given interval. It is similar to Python's built-in `range()` function but returns a NumPy array instead of a list.\n",
        " - **Syntax**: `numpy.arange([start, ]stop, [step, ], dtype=None)`\n",
        "\n",
        "**reshape()**: As the name suggests, Reshaping means changing the shape of an array.(From 1-D to 2-D or vice-versa).\n",
        " - **Syntax**: `numpy.reshape(array, newshape)`"
      ]
    },
    {
      "cell_type": "code",
      "execution_count": 77,
      "metadata": {
        "colab": {
          "base_uri": "https://localhost:8080/"
        },
        "id": "ql9za4IWYyin",
        "outputId": "5cd83986-ac17-476c-fa81-41a628a10025"
      },
      "outputs": [
        {
          "data": {
            "text/plain": [
              "array([[ 0,  1,  2,  3],\n",
              "       [ 4,  5,  6,  7],\n",
              "       [ 8,  9, 10, 11],\n",
              "       [12, 13, 14, 15],\n",
              "       [16, 17, 18, 19]])"
            ]
          },
          "execution_count": 77,
          "metadata": {},
          "output_type": "execute_result"
        }
      ],
      "source": [
        "A = np.arange(0,20).reshape(5, 4)\n",
        "A"
      ]
    },
    {
      "cell_type": "code",
      "execution_count": 78,
      "metadata": {
        "colab": {
          "base_uri": "https://localhost:8080/"
        },
        "id": "HuhxnCDLZMYw",
        "outputId": "d6e9db59-de7f-4353-eb6d-011744d09c7e"
      },
      "outputs": [
        {
          "name": "stdout",
          "output_type": "stream",
          "text": [
            "[[20 21 22 23]\n",
            " [24 25 26 27]\n",
            " [28 29 30 31]\n",
            " [32 33 34 35]\n",
            " [36 37 38 39]]\n"
          ]
        }
      ],
      "source": [
        "B = np.arange(20, 40).reshape(5,4)\n",
        "print(B)"
      ]
    },
    {
      "cell_type": "markdown",
      "metadata": {
        "id": "jD1Jxd6lcDTc"
      },
      "source": [
        "##### ADDITION\n",
        "\n",
        " - **np.add()**- performs element-wise addition between two matrices\n",
        " - **Syntax**: `np.add(matrix_1, matrix_2)`\n"
      ]
    },
    {
      "cell_type": "code",
      "execution_count": 79,
      "metadata": {
        "colab": {
          "base_uri": "https://localhost:8080/"
        },
        "id": "9SJhg9SccFyW",
        "outputId": "315b8c53-151c-47cd-f5cf-6c6805dce876"
      },
      "outputs": [
        {
          "data": {
            "text/plain": [
              "array([[20, 22, 24, 26],\n",
              "       [28, 30, 32, 34],\n",
              "       [36, 38, 40, 42],\n",
              "       [44, 46, 48, 50],\n",
              "       [52, 54, 56, 58]])"
            ]
          },
          "execution_count": 79,
          "metadata": {},
          "output_type": "execute_result"
        }
      ],
      "source": [
        "np.add(A,B)"
      ]
    },
    {
      "cell_type": "markdown",
      "metadata": {
        "id": "c5jpNms-nYUS"
      },
      "source": [
        "##### SUBTRACTION\n",
        " - np.subtract(): performs element-wise subtraction between two matrices.\n",
        " - **Syntax**: `np.subtract(matrix_1, matrix_2)`\n"
      ]
    },
    {
      "cell_type": "code",
      "execution_count": 80,
      "metadata": {
        "colab": {
          "base_uri": "https://localhost:8080/"
        },
        "id": "AjTRSnAncakf",
        "outputId": "f173d058-ff65-42ba-8947-06972aedd470"
      },
      "outputs": [
        {
          "data": {
            "text/plain": [
              "array([[-20, -20, -20, -20],\n",
              "       [-20, -20, -20, -20],\n",
              "       [-20, -20, -20, -20],\n",
              "       [-20, -20, -20, -20],\n",
              "       [-20, -20, -20, -20]])"
            ]
          },
          "execution_count": 80,
          "metadata": {},
          "output_type": "execute_result"
        }
      ],
      "source": [
        "np.subtract(A,B)"
      ]
    },
    {
      "cell_type": "markdown",
      "metadata": {
        "id": "vvom413anwRU"
      },
      "source": [
        "##### TRANSPOSE\n",
        "The transpose of a matrix is a new matrix created by switching the rows and columns of the original matrix. It's represented by the original matrix's name with a superscript \"T\". For example, the transpose of matrix \"A\" is \"Aᵀ\".\n",
        "\n",
        " - `np.transpose()` - Permute the dimensions of an array.\n",
        " - **Syntax**: `np.transpose(matrix)`\n"
      ]
    },
    {
      "cell_type": "code",
      "execution_count": 83,
      "metadata": {
        "colab": {
          "base_uri": "https://localhost:8080/"
        },
        "id": "XZnQ3oLansII",
        "outputId": "743c8f28-a1fe-4fd5-a073-8657db5c274b"
      },
      "outputs": [
        {
          "name": "stdout",
          "output_type": "stream",
          "text": [
            "[[ 0  1  2  3]\n",
            " [ 4  5  6  7]\n",
            " [ 8  9 10 11]\n",
            " [12 13 14 15]\n",
            " [16 17 18 19]]\n"
          ]
        },
        {
          "data": {
            "text/plain": [
              "array([[ 0,  4,  8, 12, 16],\n",
              "       [ 1,  5,  9, 13, 17],\n",
              "       [ 2,  6, 10, 14, 18],\n",
              "       [ 3,  7, 11, 15, 19]])"
            ]
          },
          "execution_count": 83,
          "metadata": {},
          "output_type": "execute_result"
        }
      ],
      "source": [
        "A = np.arange(0, 20).reshape(5,4)\n",
        "print(A)\n",
        "np.transpose(A)"
      ]
    },
    {
      "cell_type": "markdown",
      "metadata": {
        "id": "HgAOPyx4o4QI"
      },
      "source": [
        "##### MULTIPLICATION\n",
        " - **np.dot()** - performs matrix multiplication between two matrices.\n",
        " - **Syntax**: `np.dot(matrix_1, matrix_2)`"
      ]
    },
    {
      "cell_type": "code",
      "execution_count": 93,
      "metadata": {
        "colab": {
          "base_uri": "https://localhost:8080/"
        },
        "id": "7arDooDOovNa",
        "outputId": "64896ef2-e1ff-4eeb-a68e-3fee0a3ca0e0"
      },
      "outputs": [
        {
          "data": {
            "text/plain": [
              "array([[ 134,  158,  182,  206,  230],\n",
              "       [ 478,  566,  654,  742,  830],\n",
              "       [ 822,  974, 1126, 1278, 1430],\n",
              "       [1166, 1382, 1598, 1814, 2030],\n",
              "       [1510, 1790, 2070, 2350, 2630]])"
            ]
          },
          "execution_count": 93,
          "metadata": {},
          "output_type": "execute_result"
        }
      ],
      "source": [
        "# np.dot(A,B) # this will give error because when multiplying two matrices first matrix column should be equal to the row of second matrix\n",
        "# shape of A is (5,4) and shape of B is also (5,4)\n",
        "# we need to change either one of our matrix shape to (4,5)\n",
        "np.dot(A,B.reshape(4,5)) # A.shape = (5,4) | B.shape = (4,5)\n",
        "\n",
        "T = np.transpose(B)\n",
        "np.dot(A,T)"
      ]
    },
    {
      "cell_type": "code",
      "execution_count": 96,
      "metadata": {
        "colab": {
          "base_uri": "https://localhost:8080/"
        },
        "id": "1U_i9F42sy3D",
        "outputId": "498f6dd0-8228-4740-d0d6-5b1996c68a9e"
      },
      "outputs": [
        {
          "data": {
            "text/plain": [
              "array([[ 134,  158,  182,  206,  230],\n",
              "       [ 478,  566,  654,  742,  830],\n",
              "       [ 822,  974, 1126, 1278, 1430],\n",
              "       [1166, 1382, 1598, 1814, 2030],\n",
              "       [1510, 1790, 2070, 2350, 2630]])"
            ]
          },
          "execution_count": 96,
          "metadata": {},
          "output_type": "execute_result"
        }
      ],
      "source": [
        "#using matmul\n",
        "np.matmul(A,T)"
      ]
    },
    {
      "cell_type": "code",
      "execution_count": 97,
      "metadata": {
        "colab": {
          "base_uri": "https://localhost:8080/"
        },
        "id": "ZfpRNjG5uDr4",
        "outputId": "33580b40-5182-493d-8505-3529a30f5ddd"
      },
      "outputs": [
        {
          "data": {
            "text/plain": [
              "array([[ 134,  158,  182,  206,  230],\n",
              "       [ 478,  566,  654,  742,  830],\n",
              "       [ 822,  974, 1126, 1278, 1430],\n",
              "       [1166, 1382, 1598, 1814, 2030],\n",
              "       [1510, 1790, 2070, 2350, 2630]])"
            ]
          },
          "execution_count": 97,
          "metadata": {},
          "output_type": "execute_result"
        }
      ],
      "source": [
        "# using @ operator\n",
        "A @ T"
      ]
    },
    {
      "cell_type": "markdown",
      "metadata": {
        "id": "OxQss12SuV3X"
      },
      "source": [
        "##### Element-wise multiplication¶\n",
        " - **np.multiply()** - performs element-wise multiplication between two matrices.\n",
        " - **Syntax**: `np.multiply(matrix1, matrix2)`\n"
      ]
    },
    {
      "cell_type": "code",
      "execution_count": 99,
      "metadata": {
        "colab": {
          "base_uri": "https://localhost:8080/"
        },
        "id": "p2q0XuVKuS3A",
        "outputId": "f73f4385-f1cb-42e7-c693-832cec37719b"
      },
      "outputs": [
        {
          "data": {
            "text/plain": [
              "array([[  0,  21,  44,  69],\n",
              "       [ 96, 125, 156, 189],\n",
              "       [224, 261, 300, 341],\n",
              "       [384, 429, 476, 525],\n",
              "       [576, 629, 684, 741]])"
            ]
          },
          "execution_count": 99,
          "metadata": {},
          "output_type": "execute_result"
        }
      ],
      "source": [
        "np.multiply(A,B) # this is not matrix multiplication. we are just doing addition but with multiplication."
      ]
    },
    {
      "cell_type": "markdown",
      "metadata": {
        "id": "TrP3zEUluywb"
      },
      "source": [
        "**Division**\n",
        " - **np.divide()** - performs element-wise division between two matrices.\n",
        " - **Syntax**: `np.divide(matrix_1, matrix_2)`"
      ]
    },
    {
      "cell_type": "code",
      "execution_count": 100,
      "metadata": {
        "colab": {
          "base_uri": "https://localhost:8080/"
        },
        "id": "avR7YMBfugTR",
        "outputId": "1e2d1562-83e7-4d87-b4c7-2a3e1e91d8f5"
      },
      "outputs": [
        {
          "data": {
            "text/plain": [
              "array([[0.        , 0.04761905, 0.09090909, 0.13043478],\n",
              "       [0.16666667, 0.2       , 0.23076923, 0.25925926],\n",
              "       [0.28571429, 0.31034483, 0.33333333, 0.35483871],\n",
              "       [0.375     , 0.39393939, 0.41176471, 0.42857143],\n",
              "       [0.44444444, 0.45945946, 0.47368421, 0.48717949]])"
            ]
          },
          "execution_count": 100,
          "metadata": {},
          "output_type": "execute_result"
        }
      ],
      "source": [
        "np.divide(A, B)"
      ]
    },
    {
      "cell_type": "markdown",
      "metadata": {
        "id": "VB-d-Tf7u-j2"
      },
      "source": [
        "## References\n",
        "\n",
        "*   [https://numpy.org/](https://numpy.org/)\n",
        "*   [https://www.kaggle.com/code/jhossain/introduction-to-numpy-vectors-and-matrices](https://www.kaggle.com/code/jhossain/introduction-to-numpy-vectors-and-matrices)"
      ]
    }
  ],
  "metadata": {
    "colab": {
      "authorship_tag": "ABX9TyNAZv0Mw7E5eZVqzBxEpYT5",
      "provenance": []
    },
    "kernelspec": {
      "display_name": "Python 3",
      "name": "python3"
    },
    "language_info": {
      "name": "python"
    }
  },
  "nbformat": 4,
  "nbformat_minor": 0
}
