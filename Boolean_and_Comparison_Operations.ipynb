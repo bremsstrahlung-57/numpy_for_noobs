{
  "nbformat": 4,
  "nbformat_minor": 0,
  "metadata": {
    "colab": {
      "provenance": []
    },
    "kernelspec": {
      "name": "python3",
      "display_name": "Python 3"
    },
    "language_info": {
      "name": "python"
    }
  },
  "cells": [
    {
      "cell_type": "markdown",
      "source": [
        "# Boolean and Comparison Operations"
      ],
      "metadata": {
        "id": "otRHg6UiA20f"
      }
    },
    {
      "cell_type": "code",
      "execution_count": 1,
      "metadata": {
        "colab": {
          "base_uri": "https://localhost:8080/"
        },
        "id": "kkuwWdf-AL7V",
        "outputId": "4182c15d-3652-4a50-c9ab-6612b67bc380"
      },
      "outputs": [
        {
          "output_type": "stream",
          "name": "stdout",
          "text": [
            "Requirement already satisfied: numpy in /usr/local/lib/python3.11/dist-packages (2.2.3)\n"
          ]
        }
      ],
      "source": [
        "!pip install numpy --upgrade"
      ]
    },
    {
      "cell_type": "code",
      "source": [
        "import numpy as np"
      ],
      "metadata": {
        "id": "01ZvV6PxAS3Z"
      },
      "execution_count": 2,
      "outputs": []
    },
    {
      "cell_type": "markdown",
      "source": [
        "### all\n",
        "- Check if all elements satisfy a condition\n",
        "- **Syntax**: `numpy.all(a, axis=None, out=None, keepdims=<no value>, *, where=<no value>)`"
      ],
      "metadata": {
        "id": "sc1EU22fA_iW"
      }
    },
    {
      "cell_type": "code",
      "source": [
        "np.all([[True,False],[True,True]])"
      ],
      "metadata": {
        "colab": {
          "base_uri": "https://localhost:8080/"
        },
        "id": "umvI3UWhA6BX",
        "outputId": "f257ffad-4e1a-4f44-b2be-a7373de085b9"
      },
      "execution_count": 3,
      "outputs": [
        {
          "output_type": "execute_result",
          "data": {
            "text/plain": [
              "np.False_"
            ]
          },
          "metadata": {},
          "execution_count": 3
        }
      ]
    },
    {
      "cell_type": "code",
      "source": [
        "np.all([[True,False],[True,True]], axis=0)"
      ],
      "metadata": {
        "colab": {
          "base_uri": "https://localhost:8080/"
        },
        "id": "RSIpl45-BIpc",
        "outputId": "c83dea2f-3a9f-4e1e-f9b5-b80a793e084a"
      },
      "execution_count": 4,
      "outputs": [
        {
          "output_type": "execute_result",
          "data": {
            "text/plain": [
              "array([ True, False])"
            ]
          },
          "metadata": {},
          "execution_count": 4
        }
      ]
    },
    {
      "cell_type": "code",
      "source": [
        "np.all([[True, True], [False, True]], where=[[True], [False]])"
      ],
      "metadata": {
        "colab": {
          "base_uri": "https://localhost:8080/"
        },
        "id": "zCCPj4n0BLND",
        "outputId": "b078e67b-a28a-42be-ee95-e9aac1e33b2b"
      },
      "execution_count": 5,
      "outputs": [
        {
          "output_type": "execute_result",
          "data": {
            "text/plain": [
              "np.True_"
            ]
          },
          "metadata": {},
          "execution_count": 5
        }
      ]
    },
    {
      "cell_type": "code",
      "source": [
        "o=np.array(False)\n",
        "z=np.all([-1, 4, 5], out=o)\n",
        "id(z), id(o), z , o # may vary"
      ],
      "metadata": {
        "colab": {
          "base_uri": "https://localhost:8080/"
        },
        "id": "QD3Y6vTQBjKs",
        "outputId": "73bd4c54-8cc2-4377-afd1-a94f548654a5"
      },
      "execution_count": 8,
      "outputs": [
        {
          "output_type": "execute_result",
          "data": {
            "text/plain": [
              "(139771735143696, 139771735143696, array(True), array(True))"
            ]
          },
          "metadata": {},
          "execution_count": 8
        }
      ]
    },
    {
      "cell_type": "markdown",
      "source": [
        "### any\n",
        "- Check if any element satisfies a condition\n",
        "- **Syntax**: `numpy.any(a, axis=None, out=None, keepdims=<no value>, *, where=<no value>)`"
      ],
      "metadata": {
        "id": "N0-kcDdVBgkK"
      }
    },
    {
      "cell_type": "code",
      "source": [
        "np.any([[True, False], [True, True]])"
      ],
      "metadata": {
        "colab": {
          "base_uri": "https://localhost:8080/"
        },
        "id": "fMI7EzzQBdHT",
        "outputId": "7e06a006-97fe-4ef0-a37b-b3d86c555c31"
      },
      "execution_count": 9,
      "outputs": [
        {
          "output_type": "execute_result",
          "data": {
            "text/plain": [
              "np.True_"
            ]
          },
          "metadata": {},
          "execution_count": 9
        }
      ]
    },
    {
      "cell_type": "code",
      "source": [
        "np.any([[True,  False, True ],\n",
        "        [False, False, False]], axis=0)"
      ],
      "metadata": {
        "colab": {
          "base_uri": "https://localhost:8080/"
        },
        "id": "l--bLUb4C_u8",
        "outputId": "f277fc33-66cf-44b1-ebc7-cb6fcc13900f"
      },
      "execution_count": 11,
      "outputs": [
        {
          "output_type": "execute_result",
          "data": {
            "text/plain": [
              "array([ True, False,  True])"
            ]
          },
          "metadata": {},
          "execution_count": 11
        }
      ]
    },
    {
      "cell_type": "code",
      "source": [
        "a = np.array([[1, 0, 0],\n",
        "              [0, 0, 1],\n",
        "              [0, 0, 0]])\n",
        "np.any(a, axis=0), np.any(a, axis=1)"
      ],
      "metadata": {
        "colab": {
          "base_uri": "https://localhost:8080/"
        },
        "id": "2ykJCo2vDBxc",
        "outputId": "ad097260-720e-48d2-826b-3e067a3db85c"
      },
      "execution_count": 13,
      "outputs": [
        {
          "output_type": "execute_result",
          "data": {
            "text/plain": [
              "(array([ True, False,  True]), array([ True,  True, False]))"
            ]
          },
          "metadata": {},
          "execution_count": 13
        }
      ]
    },
    {
      "cell_type": "markdown",
      "source": [
        "### isfinite\n",
        "- Check for finite values\n",
        "- **Syntax**: `numpy.isfinite(x, /, out=None, *, where=True)`\n",
        "- Not a Number, positive infinity and negative infinity are considered to be non-finite"
      ],
      "metadata": {
        "id": "_2HZVe2hDS2i"
      }
    },
    {
      "cell_type": "code",
      "source": [
        "np.isfinite(1)"
      ],
      "metadata": {
        "colab": {
          "base_uri": "https://localhost:8080/"
        },
        "id": "T4VaBtVKDIfG",
        "outputId": "7598a13e-f26d-4c3f-9689-1ccf2067ff57"
      },
      "execution_count": 16,
      "outputs": [
        {
          "output_type": "execute_result",
          "data": {
            "text/plain": [
              "np.True_"
            ]
          },
          "metadata": {},
          "execution_count": 16
        }
      ]
    },
    {
      "cell_type": "code",
      "source": [
        "np.isfinite(0)"
      ],
      "metadata": {
        "colab": {
          "base_uri": "https://localhost:8080/"
        },
        "id": "GOYcX-G4DpdT",
        "outputId": "c1fec936-50cc-45b7-e7d8-8d446acc9123"
      },
      "execution_count": 15,
      "outputs": [
        {
          "output_type": "execute_result",
          "data": {
            "text/plain": [
              "np.True_"
            ]
          },
          "metadata": {},
          "execution_count": 15
        }
      ]
    },
    {
      "cell_type": "code",
      "source": [
        "np.isfinite(np.nan)"
      ],
      "metadata": {
        "colab": {
          "base_uri": "https://localhost:8080/"
        },
        "id": "UkyrVhUuDt1K",
        "outputId": "587c8aec-a23e-4637-e09a-d7a3c0ce618f"
      },
      "execution_count": 17,
      "outputs": [
        {
          "output_type": "execute_result",
          "data": {
            "text/plain": [
              "np.False_"
            ]
          },
          "metadata": {},
          "execution_count": 17
        }
      ]
    },
    {
      "cell_type": "code",
      "source": [
        "np.isfinite(np.inf),np.isfinite(-np.inf)"
      ],
      "metadata": {
        "colab": {
          "base_uri": "https://localhost:8080/"
        },
        "id": "OqBTAbKkDwzn",
        "outputId": "0c4622d5-fe98-48f8-95ab-848003d5a386"
      },
      "execution_count": 18,
      "outputs": [
        {
          "output_type": "execute_result",
          "data": {
            "text/plain": [
              "(np.False_, np.False_)"
            ]
          },
          "metadata": {},
          "execution_count": 18
        }
      ]
    },
    {
      "cell_type": "code",
      "source": [
        "x = np.array([-np.inf, 0., np.inf])\n",
        "y = np.array([2, 2, 2])\n",
        "np.isfinite(x, y)"
      ],
      "metadata": {
        "colab": {
          "base_uri": "https://localhost:8080/"
        },
        "id": "7hAEYs9sDzIR",
        "outputId": "174d9201-191b-4780-b036-1187400a6d96"
      },
      "execution_count": 20,
      "outputs": [
        {
          "output_type": "execute_result",
          "data": {
            "text/plain": [
              "array([0, 1, 0])"
            ]
          },
          "metadata": {},
          "execution_count": 20
        }
      ]
    },
    {
      "cell_type": "code",
      "source": [
        "y"
      ],
      "metadata": {
        "colab": {
          "base_uri": "https://localhost:8080/"
        },
        "id": "WfKNy9MBD3PJ",
        "outputId": "955338f7-5c05-41a9-8a3f-8a60b10c600d"
      },
      "execution_count": 21,
      "outputs": [
        {
          "output_type": "execute_result",
          "data": {
            "text/plain": [
              "array([0, 1, 0])"
            ]
          },
          "metadata": {},
          "execution_count": 21
        }
      ]
    },
    {
      "cell_type": "markdown",
      "source": [
        "### ifinf\n",
        "- Check for infinite values\n",
        "- **Syntax**: `numpy.isinf(x, /, out=None, *, where=True)`"
      ],
      "metadata": {
        "id": "ilNljM1cD9D4"
      }
    },
    {
      "cell_type": "code",
      "source": [
        "np.isinf(np.inf), np.isinf(-np.inf)"
      ],
      "metadata": {
        "colab": {
          "base_uri": "https://localhost:8080/"
        },
        "id": "16XU3Tu3D65O",
        "outputId": "d26fc9aa-c63a-4066-b796-cacf33e5e412"
      },
      "execution_count": 24,
      "outputs": [
        {
          "output_type": "execute_result",
          "data": {
            "text/plain": [
              "(np.True_, np.True_)"
            ]
          },
          "metadata": {},
          "execution_count": 24
        }
      ]
    },
    {
      "cell_type": "code",
      "source": [
        "np.isinf(np.nan)"
      ],
      "metadata": {
        "colab": {
          "base_uri": "https://localhost:8080/"
        },
        "id": "8FbnANWdEI1H",
        "outputId": "3a155fbb-8377-46f5-9277-ff9cba6c0b0e"
      },
      "execution_count": 25,
      "outputs": [
        {
          "output_type": "execute_result",
          "data": {
            "text/plain": [
              "np.False_"
            ]
          },
          "metadata": {},
          "execution_count": 25
        }
      ]
    },
    {
      "cell_type": "code",
      "source": [
        "np.isinf(57),np.isinf(1+9j)"
      ],
      "metadata": {
        "colab": {
          "base_uri": "https://localhost:8080/"
        },
        "id": "dfofu_KDEQZf",
        "outputId": "4fd7db81-88b4-4ca4-e4e8-df1ae03b5c34"
      },
      "execution_count": 30,
      "outputs": [
        {
          "output_type": "execute_result",
          "data": {
            "text/plain": [
              "(np.False_, np.False_)"
            ]
          },
          "metadata": {},
          "execution_count": 30
        }
      ]
    },
    {
      "cell_type": "code",
      "source": [
        "x = np.array([-np.inf, 0., np.inf])\n",
        "y = np.array([2, 2, 2])\n",
        "np.isinf(x, y)"
      ],
      "metadata": {
        "colab": {
          "base_uri": "https://localhost:8080/"
        },
        "id": "-mP-KoCcEKtm",
        "outputId": "aaa15aea-ef4e-47c5-c928-ca717c348e11"
      },
      "execution_count": 26,
      "outputs": [
        {
          "output_type": "execute_result",
          "data": {
            "text/plain": [
              "array([1, 0, 1])"
            ]
          },
          "metadata": {},
          "execution_count": 26
        }
      ]
    },
    {
      "cell_type": "code",
      "source": [
        "y"
      ],
      "metadata": {
        "colab": {
          "base_uri": "https://localhost:8080/"
        },
        "id": "nKpR7LRwEPj6",
        "outputId": "4131a866-fb0a-4dc9-96d7-a543e371e5d3"
      },
      "execution_count": 27,
      "outputs": [
        {
          "output_type": "execute_result",
          "data": {
            "text/plain": [
              "array([1, 0, 1])"
            ]
          },
          "metadata": {},
          "execution_count": 27
        }
      ]
    },
    {
      "cell_type": "markdown",
      "source": [
        "### isnan\n",
        "- Check for NaNs\n",
        "- **Syntax**: `numpy.isnan(x, /, out=None, *, where=True)`"
      ],
      "metadata": {
        "id": "RG9yt7Q2EXuv"
      }
    },
    {
      "cell_type": "code",
      "source": [
        "np.isnan(np.nan)"
      ],
      "metadata": {
        "colab": {
          "base_uri": "https://localhost:8080/"
        },
        "id": "pK1WP4kiEP7c",
        "outputId": "08f826ea-f5cc-4302-b930-aa2cb93c3888"
      },
      "execution_count": 31,
      "outputs": [
        {
          "output_type": "execute_result",
          "data": {
            "text/plain": [
              "np.True_"
            ]
          },
          "metadata": {},
          "execution_count": 31
        }
      ]
    },
    {
      "cell_type": "code",
      "source": [
        "np.isnan(np.inf)"
      ],
      "metadata": {
        "colab": {
          "base_uri": "https://localhost:8080/"
        },
        "id": "8LGCnFBoE1iv",
        "outputId": "f825ab9e-dd53-4dae-d87e-44125f6b64a4"
      },
      "execution_count": 32,
      "outputs": [
        {
          "output_type": "execute_result",
          "data": {
            "text/plain": [
              "np.False_"
            ]
          },
          "metadata": {},
          "execution_count": 32
        }
      ]
    },
    {
      "cell_type": "markdown",
      "source": [
        "### Reference\n",
        "-  [numpy: Logic Function](https://numpy.org/doc/stable/reference/routines.logic.html)"
      ],
      "metadata": {
        "id": "_BFT2-oGFFlu"
      }
    }
  ]
}