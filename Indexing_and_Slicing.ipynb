{
  "nbformat": 4,
  "nbformat_minor": 0,
  "metadata": {
    "colab": {
      "provenance": [],
      "gpuType": "V28"
    },
    "kernelspec": {
      "name": "python3",
      "display_name": "Python 3"
    },
    "language_info": {
      "name": "python"
    },
    "accelerator": "TPU"
  },
  "cells": [
    {
      "cell_type": "markdown",
      "source": [
        "# Indexing and Slicing"
      ],
      "metadata": {
        "id": "l7CxaCFJWgL1"
      }
    },
    {
      "cell_type": "code",
      "source": [
        "!pip install numpy --upgrade"
      ],
      "metadata": {
        "colab": {
          "base_uri": "https://localhost:8080/"
        },
        "id": "bBtCP4j7WiDI",
        "outputId": "5a7e0db9-7137-40ee-f9dd-9373b3896fca"
      },
      "execution_count": 1,
      "outputs": [
        {
          "output_type": "stream",
          "name": "stdout",
          "text": [
            "Requirement already satisfied: numpy in /usr/local/lib/python3.11/dist-packages (2.2.3)\n"
          ]
        }
      ]
    },
    {
      "cell_type": "code",
      "source": [
        "import numpy as np"
      ],
      "metadata": {
        "id": "r1V5LvJpWfOX"
      },
      "execution_count": 2,
      "outputs": []
    },
    {
      "cell_type": "markdown",
      "source": [
        "### where\n",
        "- Return elements chosen from x or y depending on condition.\n",
        "- Conditional indexing (e.g., np.where(arr > 0, 1, 0)\n",
        "- **Syntax**: `numpy.where(condition, [x, y, ]/)`"
      ],
      "metadata": {
        "id": "OcCV3VMEXGIv"
      }
    },
    {
      "cell_type": "code",
      "source": [
        "a = np.arange(10)\n",
        "np.where(a < 5)"
      ],
      "metadata": {
        "id": "5uFTcA32WwuS",
        "colab": {
          "base_uri": "https://localhost:8080/"
        },
        "outputId": "1b109cf4-4fac-4b80-c5e4-6c66ba0075b7"
      },
      "execution_count": 5,
      "outputs": [
        {
          "output_type": "execute_result",
          "data": {
            "text/plain": [
              "(array([0, 1, 2, 3, 4]),)"
            ]
          },
          "metadata": {},
          "execution_count": 5
        }
      ]
    },
    {
      "cell_type": "code",
      "source": [
        "np.where(a < 5, a, a*10) , np.where(a > 5, a, a*10)"
      ],
      "metadata": {
        "colab": {
          "base_uri": "https://localhost:8080/"
        },
        "id": "r9BqLLCMXaqX",
        "outputId": "f6c2ee65-764c-4655-99d4-0eb6a5b926c9"
      },
      "execution_count": 9,
      "outputs": [
        {
          "output_type": "execute_result",
          "data": {
            "text/plain": [
              "(array([ 0,  1,  2,  3,  4, 50, 60, 70, 80, 90]),\n",
              " array([ 0, 10, 20, 30, 40, 50,  6,  7,  8,  9]))"
            ]
          },
          "metadata": {},
          "execution_count": 9
        }
      ]
    },
    {
      "cell_type": "code",
      "source": [
        "np.where([[True, False], [True, True]],\n",
        "         [[1, 2], [3, 4]],\n",
        "         [[9, 8], [7, 6]])\n",
        "# It checks each element in condition.\n",
        "# If True, it picks the corresponding element from x.\n",
        "# If False, it picks the corresponding element from y.\n",
        "# [[ True  False]\n",
        "# [ True   True]]\n",
        "# x - >\n",
        "#   [[1  2]\n",
        "#   [3  4]]\n",
        "#\n",
        "# y ->\n",
        "#   [[9  8]\n",
        "#   [7  6]]\n",
        "#\n",
        "#   |:---------:|:-----------:|:-----------:|:------------:|\n",
        "#   | Condition | Pick from x | Pick from y | Final Result |\n",
        "#   |:---------:|:-----------:|:-----------:|:------------:|\n",
        "#   |   True\t|      1\t  |      -\t    |      1       |\n",
        "#   |   False\t|      -\t  |      8\t    |      8       |\n",
        "#   |   True\t|      3\t  |      -\t    |      3       |\n",
        "#   |   True\t|      4\t  |      -\t    |      4       |\n",
        "#   |:---------:|:-----------:|:-----------:|:------------:|"
      ],
      "metadata": {
        "colab": {
          "base_uri": "https://localhost:8080/"
        },
        "id": "tCd_gdk8XwVB",
        "outputId": "2f65e540-7f90-41c1-fc4d-ca25e78622fa"
      },
      "execution_count": 11,
      "outputs": [
        {
          "output_type": "execute_result",
          "data": {
            "text/plain": [
              "array([[1, 8],\n",
              "       [3, 4]])"
            ]
          },
          "metadata": {},
          "execution_count": 11
        }
      ]
    },
    {
      "cell_type": "code",
      "source": [
        "a = np.array([[0, 1, 2],\n",
        "              [0, 2, 4],\n",
        "              [0, 3, 6]])\n",
        "np.where(a < 4, a, -1)"
      ],
      "metadata": {
        "colab": {
          "base_uri": "https://localhost:8080/"
        },
        "id": "mPC4PMnyX-RT",
        "outputId": "e4b77859-3b48-4c8e-a1b5-5badebec27c8"
      },
      "execution_count": 14,
      "outputs": [
        {
          "output_type": "execute_result",
          "data": {
            "text/plain": [
              "array([[ 0,  1,  2],\n",
              "       [ 0,  2, -1],\n",
              "       [ 0,  3, -1]])"
            ]
          },
          "metadata": {},
          "execution_count": 14
        }
      ]
    },
    {
      "cell_type": "markdown",
      "source": [
        "### Take\n",
        "- Select elements at specific indices\n",
        "- **Syntax**: `numpy.take(a, indices, axis=None, out=None, mode='raise')`\n",
        "  - mode - Specifies how out-of-bounds indices will behave.\n",
        "    - 'raise' - raise an error (default)\n",
        "    - 'wrap' - wrap around\n",
        "    - 'clip' - clip to the range\n",
        "      - 'clip' mode means that all indices that are too large are replaced by the index that addresses the last element along that axis. Note that this disables indexing with negative numbers."
      ],
      "metadata": {
        "id": "BiBPBE5lZ73b"
      }
    },
    {
      "cell_type": "code",
      "source": [
        "a = [4, 3, 5, 7, 6, 8]\n",
        "indices = [0, 1, 4]\n",
        "np.take(a, indices)"
      ],
      "metadata": {
        "colab": {
          "base_uri": "https://localhost:8080/"
        },
        "id": "izzCn-P9ZrD9",
        "outputId": "8382a926-7ac9-4fee-aa71-927751a0009e"
      },
      "execution_count": 15,
      "outputs": [
        {
          "output_type": "execute_result",
          "data": {
            "text/plain": [
              "array([4, 3, 6])"
            ]
          },
          "metadata": {},
          "execution_count": 15
        }
      ]
    },
    {
      "cell_type": "code",
      "source": [
        "np.take(a, [[0, 1], [2, 3]]) # If indices is not one dimensional, the output also has these dimensions."
      ],
      "metadata": {
        "colab": {
          "base_uri": "https://localhost:8080/"
        },
        "id": "LwZ0-mJlb3z9",
        "outputId": "c6b4a626-9755-44de-bc8c-b79ae88b82c7"
      },
      "execution_count": 18,
      "outputs": [
        {
          "output_type": "execute_result",
          "data": {
            "text/plain": [
              "array([[4, 3],\n",
              "       [5, 7]])"
            ]
          },
          "metadata": {},
          "execution_count": 18
        }
      ]
    },
    {
      "cell_type": "markdown",
      "source": [
        "### Argsort\n",
        "- Returns the indices that would sort an array.\n",
        "- **Syntax**: `numpy.argsort(a, axis=-1, kind=None, order=None, *, stable=None)`\n",
        "  - kind - {‘quicksort’, ‘mergesort’, ‘heapsort’, ‘stable’}\n",
        "  -"
      ],
      "metadata": {
        "id": "E9wjt4MTcQug"
      }
    },
    {
      "cell_type": "code",
      "source": [
        "x = np.array([3, 1, 2])\n",
        "np.argsort(x) # it returns array indexes of the elements\n",
        "# [1 -> 1] [2 -> 2] [0 -> 3]"
      ],
      "metadata": {
        "colab": {
          "base_uri": "https://localhost:8080/"
        },
        "id": "ey9aIE02cBrJ",
        "outputId": "85965ab2-78aa-4b38-8db3-14bd3f7b4ea1"
      },
      "execution_count": 22,
      "outputs": [
        {
          "output_type": "execute_result",
          "data": {
            "text/plain": [
              "array([1, 2, 0])"
            ]
          },
          "metadata": {},
          "execution_count": 22
        }
      ]
    },
    {
      "cell_type": "code",
      "source": [
        "x = np.array([[0, 3], [2, 2]])\n",
        "np.argsort(x, axis=0)  # sorts along first axis (down)"
      ],
      "metadata": {
        "colab": {
          "base_uri": "https://localhost:8080/"
        },
        "id": "_kT6B3m5eeDc",
        "outputId": "b8602a54-d56a-4a2d-872f-34228ac752e3"
      },
      "execution_count": 32,
      "outputs": [
        {
          "output_type": "execute_result",
          "data": {
            "text/plain": [
              "array([[0, 1],\n",
              "       [1, 0]])"
            ]
          },
          "metadata": {},
          "execution_count": 32
        }
      ]
    },
    {
      "cell_type": "code",
      "source": [
        "np.argsort(x, axis=1)  # sorts along last axis (across)"
      ],
      "metadata": {
        "colab": {
          "base_uri": "https://localhost:8080/"
        },
        "id": "bCCsXfkLe_yr",
        "outputId": "65d5aad5-f139-41cf-b838-91a27ca4e83c"
      },
      "execution_count": 31,
      "outputs": [
        {
          "output_type": "execute_result",
          "data": {
            "text/plain": [
              "array([[0, 1],\n",
              "       [0, 1]])"
            ]
          },
          "metadata": {},
          "execution_count": 31
        }
      ]
    },
    {
      "cell_type": "markdown",
      "source": [
        "### argmax\n",
        "- Get index of max value\n",
        "- **Syntax**: `numpy.argmax(a, axis=None, out=None, *, keepdims=<no value>)`"
      ],
      "metadata": {
        "id": "IXi_35KEfq5D"
      }
    },
    {
      "cell_type": "code",
      "source": [
        "a = np.arange(6).reshape(2,3) + 10\n",
        "a, np.argmax(a)"
      ],
      "metadata": {
        "colab": {
          "base_uri": "https://localhost:8080/"
        },
        "id": "tAQ2CGfHfSQr",
        "outputId": "c889df82-fd58-4860-961f-7888e3227133"
      },
      "execution_count": 39,
      "outputs": [
        {
          "output_type": "execute_result",
          "data": {
            "text/plain": [
              "(array([[10, 11, 12],\n",
              "        [13, 14, 15]]),\n",
              " np.int64(5))"
            ]
          },
          "metadata": {},
          "execution_count": 39
        }
      ]
    },
    {
      "cell_type": "code",
      "source": [
        "np.argmax(a, axis=0)\n",
        "# column 1 -> [10,13] -> max[index] = 1\n",
        "# column 2 -> [11,14] -> max[index] = 1\n",
        "# column 3 -> [12,15] -> max[index] = 1"
      ],
      "metadata": {
        "colab": {
          "base_uri": "https://localhost:8080/"
        },
        "id": "Ut2XcnRzf5Ie",
        "outputId": "61248c1c-d068-4292-c763-6fc306a43857"
      },
      "execution_count": 37,
      "outputs": [
        {
          "output_type": "execute_result",
          "data": {
            "text/plain": [
              "array([1, 1, 1])"
            ]
          },
          "metadata": {},
          "execution_count": 37
        }
      ]
    },
    {
      "cell_type": "code",
      "source": [
        "np.argmax(a, axis=1)\n",
        "# row 1 -> [10,11,12] -> max[index] = 2\n",
        "# row 1 -> [13,14,15] -> max[index] = 2"
      ],
      "metadata": {
        "colab": {
          "base_uri": "https://localhost:8080/"
        },
        "id": "m4xFDXhxgdiM",
        "outputId": "82f2297b-c849-4f0e-ee24-f605ff1c6580"
      },
      "execution_count": 40,
      "outputs": [
        {
          "output_type": "execute_result",
          "data": {
            "text/plain": [
              "array([2, 2])"
            ]
          },
          "metadata": {},
          "execution_count": 40
        }
      ]
    },
    {
      "cell_type": "markdown",
      "source": [
        "### argmin\n",
        "- Get index of min value\n",
        "- **Synatx**: `numpy.argmin(a, axis=None, out=None, *, keepdims=<no value>)`\n"
      ],
      "metadata": {
        "id": "QAtSWRhyg5kU"
      }
    },
    {
      "cell_type": "code",
      "source": [
        "a = np.arange(6).reshape(2,3) + 10\n",
        "a, np.argmin(a)"
      ],
      "metadata": {
        "colab": {
          "base_uri": "https://localhost:8080/"
        },
        "id": "4Ov0sVc2gd3i",
        "outputId": "e55264e4-7541-4fd8-c5a7-7c7b7d919ad4"
      },
      "execution_count": 43,
      "outputs": [
        {
          "output_type": "execute_result",
          "data": {
            "text/plain": [
              "(array([[10, 11, 12],\n",
              "        [13, 14, 15]]),\n",
              " np.int64(0))"
            ]
          },
          "metadata": {},
          "execution_count": 43
        }
      ]
    },
    {
      "cell_type": "code",
      "source": [
        "np.argmin(a, axis=0)\n",
        "# column 1 -> [10,13] -> min[index] = 0\n",
        "# column 2 -> [11,14] -> min[index] = 0\n",
        "# column 3 -> [12,15] -> min[index] = 0"
      ],
      "metadata": {
        "colab": {
          "base_uri": "https://localhost:8080/"
        },
        "id": "bk245u8yhFUl",
        "outputId": "c53e0e4a-0bba-4468-9333-e0baa82e7d05"
      },
      "execution_count": 47,
      "outputs": [
        {
          "output_type": "execute_result",
          "data": {
            "text/plain": [
              "array([0, 0, 0])"
            ]
          },
          "metadata": {},
          "execution_count": 47
        }
      ]
    },
    {
      "cell_type": "code",
      "source": [
        "np.argmin(a, axis=1)\n",
        "# row 1 -> [10,11,12] -> min[index] = 0\n",
        "# row 1 -> [13,14,15] -> min[index] = 0"
      ],
      "metadata": {
        "colab": {
          "base_uri": "https://localhost:8080/"
        },
        "id": "PjcdaSD1hL76",
        "outputId": "6c198ac1-ae91-4e44-ec74-c998d10a9ccf"
      },
      "execution_count": 49,
      "outputs": [
        {
          "output_type": "execute_result",
          "data": {
            "text/plain": [
              "array([0, 0])"
            ]
          },
          "metadata": {},
          "execution_count": 49
        }
      ]
    },
    {
      "cell_type": "markdown",
      "source": [
        "### References\n",
        "- [numpy: Sorting, searching, and counting](https://numpy.org/doc/stable/reference/routines.sort.html)"
      ],
      "metadata": {
        "id": "YtyD6ULKhetZ"
      }
    }
  ]
}