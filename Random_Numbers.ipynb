{
  "nbformat": 4,
  "nbformat_minor": 0,
  "metadata": {
    "colab": {
      "provenance": [],
      "gpuType": "T4"
    },
    "kernelspec": {
      "name": "python3",
      "display_name": "Python 3"
    },
    "language_info": {
      "name": "python"
    }
  },
  "cells": [
    {
      "cell_type": "markdown",
      "source": [
        "# 🔢**Random Numbers**"
      ],
      "metadata": {
        "id": "eYg6ALuLBy1e"
      }
    },
    {
      "cell_type": "markdown",
      "source": [
        "Real-World ML Use Cases:\n",
        "* Dataset shuffling (before splitting into train/test)\n",
        "* Weight initialization (Neural networks)\n",
        "* Monte Carlo simulations"
      ],
      "metadata": {
        "id": "3E19sCsYCEmG"
      }
    },
    {
      "cell_type": "code",
      "execution_count": 5,
      "metadata": {
        "colab": {
          "base_uri": "https://localhost:8080/"
        },
        "id": "BUHLJuQ5Arzr",
        "outputId": "687161a0-bc36-4ee8-cc11-fca3469fa009"
      },
      "outputs": [
        {
          "output_type": "stream",
          "name": "stdout",
          "text": [
            "Requirement already satisfied: numpy in /usr/local/lib/python3.11/dist-packages (2.2.3)\n"
          ]
        }
      ],
      "source": [
        "!pip install numpy --upgrade"
      ]
    },
    {
      "cell_type": "code",
      "source": [
        "import numpy as np"
      ],
      "metadata": {
        "id": "rVkiyqWfAymo"
      },
      "execution_count": 6,
      "outputs": []
    },
    {
      "cell_type": "markdown",
      "source": [
        "## Generating Random Numbers"
      ],
      "metadata": {
        "id": "SsJ6hEHvCNt2"
      }
    },
    {
      "cell_type": "markdown",
      "source": [
        "### rand\n",
        "* Create an array of the given shape and populate it with random samples from a uniform distribution over [0, 1).\n",
        "* **Syntax**: `np.random.rand(d0, d1, ..., dn)`"
      ],
      "metadata": {
        "id": "5uKmd8p5CGuk"
      }
    },
    {
      "cell_type": "code",
      "source": [
        "np.random.rand(3,2)"
      ],
      "metadata": {
        "colab": {
          "base_uri": "https://localhost:8080/"
        },
        "id": "VFgSL4ToCKR4",
        "outputId": "19f0d1e9-f68d-4a09-a187-4c77c7869dae"
      },
      "execution_count": 7,
      "outputs": [
        {
          "output_type": "execute_result",
          "data": {
            "text/plain": [
              "array([[0.65473759, 0.17626375],\n",
              "       [0.34277007, 0.58548578],\n",
              "       [0.53218496, 0.47109441]])"
            ]
          },
          "metadata": {},
          "execution_count": 7
        }
      ]
    },
    {
      "cell_type": "code",
      "source": [
        "np.random.rand(2,2,2)"
      ],
      "metadata": {
        "colab": {
          "base_uri": "https://localhost:8080/"
        },
        "id": "O3bwOeb3DiAo",
        "outputId": "cae523b5-c2c3-47d5-cfe2-fb484e8620e6"
      },
      "execution_count": 8,
      "outputs": [
        {
          "output_type": "execute_result",
          "data": {
            "text/plain": [
              "array([[[0.15754866, 0.04937314],\n",
              "        [0.83534023, 0.63499505]],\n",
              "\n",
              "       [[0.62696522, 0.29651444],\n",
              "        [0.12382881, 0.89623141]]])"
            ]
          },
          "metadata": {},
          "execution_count": 8
        }
      ]
    },
    {
      "cell_type": "markdown",
      "source": [
        "### randn\n",
        "* It draws numbers from a normal (or Gaussian) distribution with a mean of 0 and a standard deviation of 1.  This is also known as the [standard normal distribution]().\n",
        "* **Syntax**: `np.random.randn(d0, d1, ..., dn)`\n"
      ],
      "metadata": {
        "id": "PYACLHNFDs_2"
      }
    },
    {
      "cell_type": "markdown",
      "source": [
        "* Standard deviation measures the amount of variation or dispersion of a set of values.  A low standard deviation means the values are clustered closely around the average (mean), while a high standard deviation means the values are more spread out.  It's like measuring how \"typical\" the average is.  If the standard deviation is small, the average is a good representation of the data. If it's large, the average isn't as informative.\n",
        "\n",
        "* The standard normal distribution is a bell-shaped curve. It's symmetrical, with the highest point in the middle (at 0).  It shows how likely different values are: values closer to 0 are much more common than values far away.  It's \"standard\" because its average (mean) is 0 and its spread (standard deviation) is 1."
      ],
      "metadata": {
        "id": "WoRAJAvKFUOx"
      }
    },
    {
      "cell_type": "markdown",
      "source": [
        "For random samples from the normal distribution with *mean __mu__* and *standard deviation __sigma__*, use:\n",
        "`sigma * np.random.randn(...) + mu`"
      ],
      "metadata": {
        "id": "Rr5tbyHIGlIk"
      }
    },
    {
      "cell_type": "code",
      "source": [
        "np.random.randn(),np.random.randn(),np.random.randn()"
      ],
      "metadata": {
        "id": "FXwrcZ5JGhVl",
        "colab": {
          "base_uri": "https://localhost:8080/"
        },
        "outputId": "c4ed83a8-0d01-4a9e-8ee2-7cc4afa1d978"
      },
      "execution_count": 10,
      "outputs": [
        {
          "output_type": "execute_result",
          "data": {
            "text/plain": [
              "(0.10419636261263085, -0.9391876432287543, 0.3019684244768988)"
            ]
          },
          "metadata": {},
          "execution_count": 10
        }
      ]
    },
    {
      "cell_type": "code",
      "source": [
        "np.random.randn(3,2)"
      ],
      "metadata": {
        "colab": {
          "base_uri": "https://localhost:8080/"
        },
        "id": "VFOhUAO9HRg0",
        "outputId": "1c7c5605-555f-448b-ae35-be1e26be8b30"
      },
      "execution_count": 11,
      "outputs": [
        {
          "output_type": "execute_result",
          "data": {
            "text/plain": [
              "array([[ 2.45185051,  0.45182052],\n",
              "       [-0.28279961, -2.26796675],\n",
              "       [ 0.71621926, -0.47491501]])"
            ]
          },
          "metadata": {},
          "execution_count": 11
        }
      ]
    },
    {
      "cell_type": "code",
      "source": [
        "2.5 * np.random.randn(3,2) + 3"
      ],
      "metadata": {
        "colab": {
          "base_uri": "https://localhost:8080/"
        },
        "id": "eJnuO22GHY8F",
        "outputId": "b896a6aa-f818-4b6d-f1a7-59f83be874f5"
      },
      "execution_count": 14,
      "outputs": [
        {
          "output_type": "execute_result",
          "data": {
            "text/plain": [
              "array([[5.69005497, 2.05046416],\n",
              "       [5.16328243, 2.76221685],\n",
              "       [3.54545977, 6.29084389]])"
            ]
          },
          "metadata": {},
          "execution_count": 14
        }
      ]
    },
    {
      "cell_type": "markdown",
      "source": [
        "### randint\n",
        "* Return random integers from low (inclusive) to high (exclusive).\n",
        "\n",
        " If high is None (the default), then results are from [0, low).\n",
        "* **Syntax**: `np.random.randint(low, high=None, size=None, dtype=int)`"
      ],
      "metadata": {
        "id": "5Edp0rhXHqj5"
      }
    },
    {
      "cell_type": "code",
      "source": [
        "np.random.randint(1,5, size=10)"
      ],
      "metadata": {
        "colab": {
          "base_uri": "https://localhost:8080/"
        },
        "id": "CBnA5y64He_4",
        "outputId": "b7d177eb-0604-406c-8e85-93eb91e61505"
      },
      "execution_count": 19,
      "outputs": [
        {
          "output_type": "execute_result",
          "data": {
            "text/plain": [
              "array([2, 1, 4, 2, 3, 4, 4, 1, 3, 3])"
            ]
          },
          "metadata": {},
          "execution_count": 19
        }
      ]
    },
    {
      "cell_type": "markdown",
      "source": [
        "- np.random.randint has a special capability. When you provide a list or array for the high parameter, it means you want each generated number to have a different upper bound.\n",
        "\n",
        "- The number of upper bounds you provide should match the number of random integers you want to generate (in the corresponding dimension).\n",
        "- The upper bounds apply to the corresponding output."
      ],
      "metadata": {
        "id": "FQRMqNmIJwir"
      }
    },
    {
      "cell_type": "code",
      "source": [
        "np.random.randint(1,5, size=(2,3))"
      ],
      "metadata": {
        "colab": {
          "base_uri": "https://localhost:8080/"
        },
        "id": "RXYUJ3L7IVAe",
        "outputId": "3a6bdb25-1f8b-4e01-afe3-0e13a6286f97"
      },
      "execution_count": 20,
      "outputs": [
        {
          "output_type": "execute_result",
          "data": {
            "text/plain": [
              "array([[2, 2, 3],\n",
              "       [1, 1, 3]])"
            ]
          },
          "metadata": {},
          "execution_count": 20
        }
      ]
    },
    {
      "cell_type": "markdown",
      "source": [
        "⬆️ in above code `np.random.randint(1, [3, 5, 10])`:\n",
        "  - It will generate a 1D array of size 3.\n",
        "  - The first output will be between 1 and 3.\n",
        "  - The second output will be between 1 and 5.\n",
        "  - The third output will be between 1 and 10."
      ],
      "metadata": {
        "id": "86QSxQ9ZKDuI"
      }
    },
    {
      "cell_type": "markdown",
      "source": [
        "Same goes fo Lower bounds"
      ],
      "metadata": {
        "id": "J1qXz2TrKYrS"
      }
    },
    {
      "cell_type": "code",
      "source": [
        "np.random.randint([1, 5, 7], 10)"
      ],
      "metadata": {
        "colab": {
          "base_uri": "https://localhost:8080/"
        },
        "id": "zHInl66YIiBo",
        "outputId": "2077b779-f712-421c-8dbd-42dbcaceac58"
      },
      "execution_count": 21,
      "outputs": [
        {
          "output_type": "execute_result",
          "data": {
            "text/plain": [
              "array([1, 6, 8])"
            ]
          },
          "metadata": {},
          "execution_count": 21
        }
      ]
    },
    {
      "cell_type": "code",
      "source": [
        "np.random.randint([1, 3, 5, 7], [[10], [20]], dtype=np.uint8)"
      ],
      "metadata": {
        "colab": {
          "base_uri": "https://localhost:8080/"
        },
        "id": "37NxBsBIKcDW",
        "outputId": "87954b38-a81a-4f63-9f44-8e69ef1b2b75"
      },
      "execution_count": 22,
      "outputs": [
        {
          "output_type": "execute_result",
          "data": {
            "text/plain": [
              "array([[ 7,  4,  6,  9],\n",
              "       [ 7, 13, 17, 11]], dtype=uint8)"
            ]
          },
          "metadata": {},
          "execution_count": 22
        }
      ]
    },
    {
      "cell_type": "markdown",
      "source": [
        "Above code will generate a array with shape `(2,4)` with every element have different `[lower, upper)` bounds, as we saw from above examples.\n",
        "\n",
        "`dtype` is used for representing the data type of the elements within an array.\n",
        "\n",
        "Number of bits | Min. value | Max. value\n",
        "---------------|------------|------------\n",
        "8bit           |0           |255\n",
        "16 bit         |0           |65535\n",
        "32 bit         |0           |4294967295\n",
        "64 bit         |0           |2^64 - 1    \n",
        "\n",
        "[If you want to learn more of dtype.](https://www.geeksforgeeks.org/data-type-object-dtype-numpy-python/)"
      ],
      "metadata": {
        "id": "3nfRILa3Kgh6"
      }
    },
    {
      "cell_type": "markdown",
      "source": [
        "### choice\n",
        "* Generates a random sample from a given 1-D array\n",
        "* **Syntax**: `random.choice(a, size=None, replace=True, p=None)`\n",
        "  * `replace : (boolean, optional)` : Whether the sample is with or without replacement. Default is True, meaning that a value of a can be selected multiple times.\n",
        "  * `p : (1-D array-like, optional)` : The probabilities associated with each entry in a. If not given, the sample assumes a uniform distribution over all entries in a.\n",
        "    * Example: If you have an array `a = [1, 2, 3]` and you set `p = [0.2, 0.5, 0.3]`, this means:\n",
        "        - The number 1 has a 20% chance of being selected.\n",
        "        - The number 2 has a 50% chance of being selected.\n",
        "        - The number 3 has a 30% chance of being selected.\n",
        "    * In Simple Terms\n",
        "        - **No p**: Every item in your list is equally likely to be picked.\n",
        "        - **With p**: You can set the odds so that some items are more likely to be picked than others.\n"
      ],
      "metadata": {
        "id": "wfo5P3E2NM4A"
      }
    },
    {
      "cell_type": "markdown",
      "source": [
        "All values in p should be between 0 and 1, and they should add up to 1 to represent a valid probability distribution."
      ],
      "metadata": {
        "id": "EXcvBZymPdBh"
      }
    },
    {
      "cell_type": "code",
      "source": [
        "np.random.choice(6,9) # This is equal to np.random.randint(0,6,9)"
      ],
      "metadata": {
        "colab": {
          "base_uri": "https://localhost:8080/"
        },
        "id": "sKQbYGGqKeqD",
        "outputId": "c1c8bd4a-ada8-4642-ecf0-7669d1177cc8"
      },
      "execution_count": 27,
      "outputs": [
        {
          "output_type": "execute_result",
          "data": {
            "text/plain": [
              "array([2, 4, 0, 1, 1, 3, 2, 4, 5])"
            ]
          },
          "metadata": {},
          "execution_count": 27
        }
      ]
    },
    {
      "cell_type": "code",
      "source": [
        "np.random.choice(5, 3, p=[0.1, 0, 0.3, 0.6, 0])"
      ],
      "metadata": {
        "colab": {
          "base_uri": "https://localhost:8080/"
        },
        "id": "ByM7nJ0dOxms",
        "outputId": "3053e3b6-7fb8-4674-8359-cb6626336753"
      },
      "execution_count": 32,
      "outputs": [
        {
          "output_type": "execute_result",
          "data": {
            "text/plain": [
              "array([2, 3, 3])"
            ]
          },
          "metadata": {},
          "execution_count": 32
        }
      ]
    },
    {
      "cell_type": "markdown",
      "source": [
        "* The probability that 0 will be chosen is 0.1.\n",
        "* The probability that 1 will be chosen is 0.\n",
        "* The probability that 2 will be chosen is 0.3.\n",
        "* The probability that 3 will be chosen is 0.6.\n",
        "* The probability that 4 will be chosen is 0.\n",
        "\n",
        "If you ran this code many times, you'd observe that the number 3 is selected roughly 60% of the time, the number 2 roughly 30%, the number 0 roughly 10%, and the numbers 1 and 4 will almost never be selected."
      ],
      "metadata": {
        "id": "CUNIQ-x2PhNo"
      }
    },
    {
      "cell_type": "code",
      "source": [
        "arr = ['pooh', 'rabbit', 'piglet', 'Christopher']\n",
        "np.random.choice(arr, 5, p=[0.5, 0.1, 0.1, 0.3])"
      ],
      "metadata": {
        "colab": {
          "base_uri": "https://localhost:8080/"
        },
        "id": "dfhrRBRmPzj-",
        "outputId": "983016dc-fa34-4f0e-b427-7a7f02af6ec7"
      },
      "execution_count": 34,
      "outputs": [
        {
          "output_type": "execute_result",
          "data": {
            "text/plain": [
              "array(['pooh', 'rabbit', 'Christopher', 'pooh', 'pooh'], dtype='<U11')"
            ]
          },
          "metadata": {},
          "execution_count": 34
        }
      ]
    },
    {
      "cell_type": "markdown",
      "source": [
        "## Setting a Seed for Reproducibility\n"
      ],
      "metadata": {
        "id": "kipPhEdtUBlD"
      }
    },
    {
      "cell_type": "markdown",
      "source": [
        "Reproducibility means generating the same sequence of \"random\" numbers each time you run your code. This is important when you're using NumPy's random number functions (like `np.random.rand, np.random.randint`, etc.) and you need to ensure that the \"randomness\" is the same every time to get consistent results.\n",
        "\n"
      ],
      "metadata": {
        "id": "T4BGCXnsUDJz"
      }
    },
    {
      "cell_type": "markdown",
      "source": [
        "### seed\n",
        "* It ensures that the sequence of random numbers generated is reproducible across multiple runs\n",
        "* **Syntax**: `np.random.seed(seed=None)`"
      ],
      "metadata": {
        "id": "RaBO9K85Uvo8"
      }
    },
    {
      "cell_type": "markdown",
      "source": [
        "**Why setting a seed is important for ML**\n",
        "\n",
        "- Setting a seed is a best practice in machine learning for achieving reproducible, consistent, and more easily debuggable experiments. By controlling the randomness, you can get more reliable results and better understand the performance of your models.\n",
        "\n",
        " In essence, it makes randomness predictable."
      ],
      "metadata": {
        "id": "OpN4oxm5VjEJ"
      }
    },
    {
      "cell_type": "code",
      "source": [
        "np.random.seed(42)"
      ],
      "metadata": {
        "id": "pzpeLOljYbpm"
      },
      "execution_count": 60,
      "outputs": []
    },
    {
      "cell_type": "markdown",
      "source": [
        "## Random Sampling Techniques"
      ],
      "metadata": {
        "id": "dUs6ZOqFZgOa"
      }
    },
    {
      "cell_type": "markdown",
      "source": [
        "### permutation\n",
        "* Returns a randomly permuted sequence of elements. It can shuffle an array or generate a randomly permuted range of numbers.\n",
        "* **Syntax**: `np.random.permutation(x)`"
      ],
      "metadata": {
        "id": "ZI-pK9BTZ6ZS"
      }
    },
    {
      "cell_type": "code",
      "source": [
        "np.random.permutation(10)"
      ],
      "metadata": {
        "colab": {
          "base_uri": "https://localhost:8080/"
        },
        "id": "I8f6I-owY_0P",
        "outputId": "5e45d8fd-d1be-4a2b-a2e7-a2295c541328"
      },
      "execution_count": 64,
      "outputs": [
        {
          "output_type": "execute_result",
          "data": {
            "text/plain": [
              "array([1, 5, 4, 8, 0, 7, 6, 3, 2, 9])"
            ]
          },
          "metadata": {},
          "execution_count": 64
        }
      ]
    },
    {
      "cell_type": "code",
      "source": [
        "np.random.permutation([1, 4, 9, 16, 25])"
      ],
      "metadata": {
        "colab": {
          "base_uri": "https://localhost:8080/"
        },
        "id": "UmN8mVYYaXca",
        "outputId": "adbb5525-da6c-484e-c63a-cf1dd153d6bf"
      },
      "execution_count": 67,
      "outputs": [
        {
          "output_type": "execute_result",
          "data": {
            "text/plain": [
              "array([ 9, 16, 25,  1,  4])"
            ]
          },
          "metadata": {},
          "execution_count": 67
        }
      ]
    },
    {
      "cell_type": "code",
      "source": [
        "arr = np.arange(9).reshape((3, 3))\n",
        "arr,np.random.permutation(arr)"
      ],
      "metadata": {
        "colab": {
          "base_uri": "https://localhost:8080/"
        },
        "id": "tM0rvVgeabMN",
        "outputId": "c7008234-866c-4576-91a5-dc850244c286"
      },
      "execution_count": 82,
      "outputs": [
        {
          "output_type": "execute_result",
          "data": {
            "text/plain": [
              "(array([[0, 1, 2],\n",
              "        [3, 4, 5],\n",
              "        [6, 7, 8]]),\n",
              " array([[6, 7, 8],\n",
              "        [3, 4, 5],\n",
              "        [0, 1, 2]]))"
            ]
          },
          "metadata": {},
          "execution_count": 82
        }
      ]
    },
    {
      "cell_type": "markdown",
      "source": [
        "### shuffle\n",
        "* Modify a sequence in-place by shuffling its contents.\n",
        "* **Syntax**: `np.random.shuffle(x)`\n"
      ],
      "metadata": {
        "id": "ZRdgttokbFAt"
      }
    },
    {
      "cell_type": "code",
      "source": [
        "arr = np.arange(10)\n",
        "np.random.shuffle(arr)\n",
        "arr"
      ],
      "metadata": {
        "colab": {
          "base_uri": "https://localhost:8080/"
        },
        "id": "c3w8bG_wafIb",
        "outputId": "e87499e1-0610-4902-ae10-11ce3d82bbb5"
      },
      "execution_count": 77,
      "outputs": [
        {
          "output_type": "execute_result",
          "data": {
            "text/plain": [
              "array([0, 2, 6, 8, 7, 1, 4, 5, 3, 9])"
            ]
          },
          "metadata": {},
          "execution_count": 77
        }
      ]
    },
    {
      "cell_type": "code",
      "source": [
        "arr = np.arange(9).reshape((3, 3))\n",
        "np.random.shuffle(arr)\n",
        "arr"
      ],
      "metadata": {
        "colab": {
          "base_uri": "https://localhost:8080/"
        },
        "id": "TxKRsZsBbmXE",
        "outputId": "0c79b0d1-7703-4783-fa15-691c7b30d45b"
      },
      "execution_count": 81,
      "outputs": [
        {
          "output_type": "execute_result",
          "data": {
            "text/plain": [
              "array([[6, 7, 8],\n",
              "       [0, 1, 2],\n",
              "       [3, 4, 5]])"
            ]
          },
          "metadata": {},
          "execution_count": 81
        }
      ]
    },
    {
      "cell_type": "markdown",
      "source": [
        "**np.random.permutation()**\n",
        "* Returns a new shuffled array.\n",
        "* Does not modify the original array.\n",
        "\n",
        "**np.random.shuffle()**\n",
        "* Shuffles the array in place (modifies the original array).\n",
        "* Only works on arrays and does not return anything."
      ],
      "metadata": {
        "id": "nVKSGiXQb8wA"
      }
    },
    {
      "cell_type": "markdown",
      "source": [
        "* Use `np.random.permutation()` if you need to <ins>preserve the original array</ins> and want to get back a <ins>new shuffled array</ins>.\n",
        "* Use `np.random.shuffle()` if you want to\n",
        "<ins>shuffle the array</ins> in place and <ins>don't need a new array</ins>."
      ],
      "metadata": {
        "id": "saLqDAwNchoP"
      }
    },
    {
      "cell_type": "markdown",
      "source": [
        "## Creating Random Matrices for ML"
      ],
      "metadata": {
        "id": "jKftdpqZdnqD"
      }
    },
    {
      "cell_type": "markdown",
      "source": [
        "### normal\n",
        "* It is used to generate random numbers following a normal (Gaussian) distribution. This distribution is also known as a bell curve, where most values are clustered around the mean.\n",
        "\n",
        "* **Syntax**: `np.random.normal(loc=0.0, scale=1.0, size=None)`\n",
        "  * `loc` → Mean (center of the distribution).\n",
        "  * `scale` → Standard deviation (spread of values).\n",
        "  * `size` → Number of random values to generate (can be a tuple for multiple dimensions).\n",
        "\n",
        "* **[Gaussian Distribution](https://www.datacamp.com/tutorial/gaussian-distribution)** :\n",
        "  \\begin{align}\n",
        "  f(x)= {\\frac{1}{\\sigma\\sqrt{2\\pi}}}e^{- {\\frac {1}{2}} (\\frac {x-\\mu}{\\sigma})^2}\\\\\n",
        "  \\\\ f(x)\t=\tprobability\\;density\\;function\n",
        "  \\\\ \\sigma\t=\tstandard\\;deviation\n",
        "  \\\\ \\mu\t=\tmean\n",
        "  \\end{align}\n"
      ],
      "metadata": {
        "id": "5JWOzmcxdqmS"
      }
    },
    {
      "cell_type": "code",
      "source": [
        "mu, sigma = 0, 0.1 # mean and standard deviation\n",
        "s = np.random.normal(mu, sigma, 1000)"
      ],
      "metadata": {
        "id": "6j145-KvbzpQ"
      },
      "execution_count": 83,
      "outputs": []
    },
    {
      "cell_type": "code",
      "source": [
        "# Verify the mean and the standard deviation:\n",
        "\n",
        "abs(mu - np.mean(s)) # may vary"
      ],
      "metadata": {
        "colab": {
          "base_uri": "https://localhost:8080/"
        },
        "id": "cM0irrmrgRa1",
        "outputId": "454df7c5-be4b-466b-fbad-5c768eaaf175"
      },
      "execution_count": 86,
      "outputs": [
        {
          "output_type": "execute_result",
          "data": {
            "text/plain": [
              "0.003112911365678263"
            ]
          },
          "metadata": {},
          "execution_count": 86
        }
      ]
    },
    {
      "cell_type": "code",
      "source": [
        "random_value = np.random.normal()\n",
        "random_value"
      ],
      "metadata": {
        "colab": {
          "base_uri": "https://localhost:8080/"
        },
        "id": "sWKI9sOcgTbt",
        "outputId": "63b3358c-d550-4f67-e257-1ab875df44ca"
      },
      "execution_count": 91,
      "outputs": [
        {
          "output_type": "stream",
          "name": "stdout",
          "text": [
            "1.06240150987512\n"
          ]
        }
      ]
    },
    {
      "cell_type": "code",
      "source": [
        "random_array = np.random.normal(loc=10, scale=2, size=5)\n",
        "random_array\n",
        "# Mean (loc) is 10.\n",
        "# Standard deviation (scale) is 2.\n",
        "# Generates 5 random numbers."
      ],
      "metadata": {
        "colab": {
          "base_uri": "https://localhost:8080/"
        },
        "id": "371lq9_WgbMg",
        "outputId": "128b8562-8fe9-458f-cc3a-dbfec184faf4"
      },
      "execution_count": 93,
      "outputs": [
        {
          "output_type": "execute_result",
          "data": {
            "text/plain": [
              "array([ 9.82631045, 11.61458625,  7.50846788, 12.2154409 ,  8.58384227])"
            ]
          },
          "metadata": {},
          "execution_count": 93
        }
      ]
    },
    {
      "cell_type": "code",
      "source": [
        "random_matrix = np.random.normal(loc=5, scale=1.5, size=(3, 3))\n",
        "random_matrix"
      ],
      "metadata": {
        "colab": {
          "base_uri": "https://localhost:8080/"
        },
        "id": "aId-Q4klgqzp",
        "outputId": "29db9c7e-bb49-4e41-8fb8-1dcabbbd79d9"
      },
      "execution_count": 94,
      "outputs": [
        {
          "output_type": "execute_result",
          "data": {
            "text/plain": [
              "array([[2.66615202, 4.59140604, 1.85726372],\n",
              "       [5.38126084, 4.61112434, 6.85053038],\n",
              "       [5.97338632, 2.91200549, 3.74241876]])"
            ]
          },
          "metadata": {},
          "execution_count": 94
        }
      ]
    },
    {
      "cell_type": "code",
      "source": [
        "# just for visualisation of random.normal()\n",
        "# Gaussian Standard Distribution\n",
        "import matplotlib.pyplot as plt\n",
        "count, bins, ignored = plt.hist(s, 30, density=True)\n",
        "plt.plot(bins, 1/(sigma * np.sqrt(2 * np.pi)) *\n",
        "               np.exp( - (bins - mu)**2 / (2 * sigma**2) ),\n",
        "         linewidth=2, color='r')\n",
        "plt.show()"
      ],
      "metadata": {
        "colab": {
          "base_uri": "https://localhost:8080/",
          "height": 430
        },
        "id": "T1pBSUATg3fQ",
        "outputId": "1952839e-3975-462f-95ed-6a052591b339"
      },
      "execution_count": 96,
      "outputs": [
        {
          "output_type": "display_data",
          "data": {
            "text/plain": [
              "<Figure size 640x480 with 1 Axes>"
            ],
            "image/png": "[encoded data removed]"
          },
          "metadata": {}
        }
      ]
    },
    {
      "cell_type": "markdown",
      "source": [
        "### uniform\n",
        "* Draw samples from a uniform distribution.\n",
        "\n",
        "  Samples are uniformly distributed over the half-open interval [low, high) (includes low, but excludes high). In other words, any value within the given interval is equally likely to be drawn by uniform.\n",
        "\n",
        "* **Synatx**: `np.random.uniform(low=0.0, high=1.0, size=None)`"
      ],
      "metadata": {
        "id": "e1POjIK6hvUX"
      }
    },
    {
      "cell_type": "markdown",
      "source": [
        "The probability density function of the uniform distribution is\n",
        "\\begin{align}\n",
        "\\\\p(x) = \\frac{1}{b - a}\\\\\\\\\n",
        "\\end{align}\n",
        "The uniform distribution generates random numbers evenly spread between a given range [a, b).\n",
        "\n",
        "* The probability is constant in this range.\n",
        "* Outside [a, b), the probability is zero.\n",
        "* If high == low, it just returns low.\n",
        "* If high < low, the behavior is undefined (might cause an error).\n",
        "* Due to floating-point rounding, sometimes b might be included in the output.\n"
      ],
      "metadata": {
        "id": "uoTfiAlYiEyG"
      }
    },
    {
      "cell_type": "code",
      "source": [
        "s = np.random.uniform(-1,0,1000)"
      ],
      "metadata": {
        "id": "OYgofMUBhK6z"
      },
      "execution_count": 106,
      "outputs": []
    },
    {
      "cell_type": "code",
      "source": [
        "# Display the histogram of the samples, along with the probability density function\n",
        "count, bins, ignored = plt.hist(s, 15, density=True)\n",
        "plt.plot(bins, np.ones_like(bins), linewidth=2, color='r')\n",
        "plt.show()"
      ],
      "metadata": {
        "colab": {
          "base_uri": "https://localhost:8080/",
          "height": 430
        },
        "id": "R7AdFjnojddX",
        "outputId": "a5c41187-455c-4782-b70a-a324caa98d5d"
      },
      "execution_count": 108,
      "outputs": [
        {
          "output_type": "display_data",
          "data": {
            "text/plain": [
              "<Figure size 640x480 with 1 Axes>"
            ],
            "image/png": "[encoded data removed]"
          },
          "metadata": {}
        }
      ]
    },
    {
      "cell_type": "markdown",
      "source": [
        "## References\n",
        "* [numpy](https://numpy.org/doc/stable/reference/random/legacy.html)\n",
        "* https://www.datacamp.com/tutorial/gaussian-distribution\n",
        "* https://www.geeksforgeeks.org/data-type-object-dtype-numpy-python/"
      ],
      "metadata": {
        "id": "D1fiFL7Ij4r-"
      }
    },
    {
      "cell_type": "markdown",
      "source": [
        "**Real-World ML Use Cases**\n",
        "* Dataset shuffling (before splitting into train/test)\n",
        "* Weight initialization (Neural networks)\n",
        "* Monte Carlo simulations"
      ],
      "metadata": {
        "id": "9T9WZM2zm1G2"
      }
    }
  ]
}