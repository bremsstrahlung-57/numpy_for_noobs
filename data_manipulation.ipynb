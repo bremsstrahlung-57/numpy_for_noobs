{
  "cells": [
    {
      "cell_type": "markdown",
      "metadata": {
        "id": "VyDvMQyBUoAP"
      },
      "source": [
        "# Data Manipulation"
      ]
    },
    {
      "cell_type": "code",
      "execution_count": 17,
      "metadata": {
        "colab": {
          "base_uri": "https://localhost:8080/"
        },
        "id": "VmGLmP4dWfuk",
        "outputId": "15c3760d-0f2b-4990-8049-529044bf9c27"
      },
      "outputs": [
        {
          "name": "stdout",
          "output_type": "stream",
          "text": [
            "Requirement already satisfied: numpy in /usr/local/lib/python3.11/dist-packages (2.2.3)\n"
          ]
        }
      ],
      "source": [
        "!pip install numpy --upgrade"
      ]
    },
    {
      "cell_type": "code",
      "execution_count": 1,
      "metadata": {
        "id": "Dis4F1o9Wi1g"
      },
      "outputs": [],
      "source": [
        "import numpy as np"
      ]
    },
    {
      "cell_type": "markdown",
      "metadata": {},
      "source": [
        "### numpy.copy()\n",
        "- Return an array copy of the given object.\n",
        "- **Syntax**: `numpy.copy(a, order='K', subok=False)`"
      ]
    },
    {
      "cell_type": "code",
      "execution_count": 4,
      "metadata": {},
      "outputs": [
        {
          "data": {
            "text/plain": [
              "array([1, 2, 3])"
            ]
          },
          "execution_count": 4,
          "metadata": {},
          "output_type": "execute_result"
        }
      ],
      "source": [
        "x = np.array([1, 2, 3])\n",
        "y = x\n",
        "z = np.copy(x)\n",
        "z"
      ]
    },
    {
      "cell_type": "code",
      "execution_count": 5,
      "metadata": {},
      "outputs": [
        {
          "data": {
            "text/plain": [
              "np.True_"
            ]
          },
          "execution_count": 5,
          "metadata": {},
          "output_type": "execute_result"
        }
      ],
      "source": [
        "x[0] = 10\n",
        "x[0] == y[0]"
      ]
    },
    {
      "cell_type": "code",
      "execution_count": 6,
      "metadata": {},
      "outputs": [
        {
          "data": {
            "text/plain": [
              "np.False_"
            ]
          },
          "execution_count": 6,
          "metadata": {},
          "output_type": "execute_result"
        }
      ],
      "source": [
        "x[0] == z[0]"
      ]
    },
    {
      "cell_type": "code",
      "execution_count": 8,
      "metadata": {},
      "outputs": [
        {
          "data": {
            "text/plain": [
              "(array([1, 2, 3]), array([0, 2, 3]))"
            ]
          },
          "execution_count": 8,
          "metadata": {},
          "output_type": "execute_result"
        }
      ],
      "source": [
        "a = np.array([1,2,3])\n",
        "b = a.copy()\n",
        "b[0] = 0\n",
        "a,b"
      ]
    },
    {
      "cell_type": "markdown",
      "metadata": {
        "id": "je_HigmMYv5l"
      },
      "source": [
        "### numpy.ravel()\n",
        "- Return a flattened array.\n",
        "- **Syntax**: `numpy.ravel(a, order='C')`"
      ]
    },
    {
      "cell_type": "code",
      "execution_count": 19,
      "metadata": {
        "colab": {
          "base_uri": "https://localhost:8080/"
        },
        "id": "am4pgkbLY_mn",
        "outputId": "309b513f-eb97-4b02-89a3-c9dcc359211a"
      },
      "outputs": [
        {
          "data": {
            "text/plain": [
              "array([1, 2, 3, 4, 5, 6])"
            ]
          },
          "execution_count": 19,
          "metadata": {},
          "output_type": "execute_result"
        }
      ],
      "source": [
        "x = np.array([[1,2],[3,4],[5,6]])\n",
        "np.ravel(x)"
      ]
    },
    {
      "cell_type": "code",
      "execution_count": 20,
      "metadata": {
        "colab": {
          "base_uri": "https://localhost:8080/"
        },
        "id": "FragFuXSZFvE",
        "outputId": "105e0d6f-26a2-4dda-856e-c511ad45ddb7"
      },
      "outputs": [
        {
          "data": {
            "text/plain": [
              "array([1, 2, 3, 4, 5, 6])"
            ]
          },
          "execution_count": 20,
          "metadata": {},
          "output_type": "execute_result"
        }
      ],
      "source": [
        "x.reshape(-1)"
      ]
    },
    {
      "cell_type": "code",
      "execution_count": 21,
      "metadata": {
        "colab": {
          "base_uri": "https://localhost:8080/"
        },
        "id": "2TsENQXKZJkN",
        "outputId": "53801339-eb16-451f-f150-773802aecb10"
      },
      "outputs": [
        {
          "data": {
            "text/plain": [
              "array([1, 3, 5, 2, 4, 6])"
            ]
          },
          "execution_count": 21,
          "metadata": {},
          "output_type": "execute_result"
        }
      ],
      "source": [
        "np.ravel(x, order='F')"
      ]
    },
    {
      "cell_type": "code",
      "execution_count": 22,
      "metadata": {
        "colab": {
          "base_uri": "https://localhost:8080/"
        },
        "id": "0NkOXqbYZeXH",
        "outputId": "96c55234-e057-4f7c-ba38-8e169ed03c88"
      },
      "outputs": [
        {
          "data": {
            "text/plain": [
              "array([1, 2, 3, 4, 5, 6])"
            ]
          },
          "execution_count": 22,
          "metadata": {},
          "output_type": "execute_result"
        }
      ],
      "source": [
        "np.ravel(x.T, order='A') #.T if for transpose\n",
        "# When order is ‘A’, it will preserve the array’s ‘C’ or ‘F’ ordering:"
      ]
    },
    {
      "cell_type": "code",
      "execution_count": 23,
      "metadata": {
        "colab": {
          "base_uri": "https://localhost:8080/"
        },
        "id": "XvyvYMDxZyzz",
        "outputId": "877900e6-8ef0-417b-8e9e-dbda81c223e0"
      },
      "outputs": [
        {
          "data": {
            "text/plain": [
              "(array([2, 1, 0]), array([2, 1, 0]))"
            ]
          },
          "execution_count": 23,
          "metadata": {},
          "output_type": "execute_result"
        }
      ],
      "source": [
        "a = np.arange(3)[::-1]; a\n",
        "a.ravel(order='C'), a.ravel(order='F')\n",
        "# When order is ‘K’, it will preserve orderings that are neither ‘C’ nor ‘F’, but won’t reverse axes:"
      ]
    },
    {
      "cell_type": "code",
      "execution_count": 24,
      "metadata": {
        "colab": {
          "base_uri": "https://localhost:8080/"
        },
        "id": "nglfYPDPZ_xr",
        "outputId": "84ff81e3-804a-48a1-8df5-8ce5425391d7"
      },
      "outputs": [
        {
          "data": {
            "text/plain": [
              "(array([ 0,  2,  4,  1,  3,  5,  6,  8, 10,  7,  9, 11]),\n",
              " array([ 0,  1,  2,  3,  4,  5,  6,  7,  8,  9, 10, 11]),\n",
              " array([ 0,  2,  4,  1,  3,  5,  6,  8, 10,  7,  9, 11]),\n",
              " array([ 0,  6,  1,  7,  2,  8,  3,  9,  4, 10,  5, 11]))"
            ]
          },
          "execution_count": 24,
          "metadata": {},
          "output_type": "execute_result"
        }
      ],
      "source": [
        "a = np.arange(12).reshape(2,3,2).swapaxes(1,2); a\n",
        "a.ravel(order='A'),a.ravel(order='K'),a.ravel(order='C'), a.ravel(order='F')"
      ]
    },
    {
      "cell_type": "markdown",
      "metadata": {
        "id": "hEnYT20lUrk6"
      },
      "source": [
        "### numpy.reshape()\n",
        "- Gives a new shape to an array without changing its data.\n",
        "- **Syntax**:  `numpy.reshape(a, /, shape=None, order='C', *, newshape=None, copy=None)`\n",
        "  - a - The array to reshape.\n",
        "  - shape - The new shape.\n",
        "  - order - 'C' (row-major) or 'F' (column-major). Can be keyword.\n",
        "  - newshape - Alternative way to specify shape. Must be keyword-only.\n",
        "  - copy - Whether to force a copy. Must be keyword-only.\n",
        "  - The `/` in a function signature means that everything before it must be passed as a positional argument, not as a keyword argument.\n",
        "\n"
      ]
    },
    {
      "cell_type": "code",
      "execution_count": 25,
      "metadata": {
        "colab": {
          "base_uri": "https://localhost:8080/"
        },
        "id": "fUDWXBqJUj27",
        "outputId": "35dec5f4-15b7-4659-a014-9e8cfa0f563f"
      },
      "outputs": [
        {
          "data": {
            "text/plain": [
              "array([[0, 1],\n",
              "       [2, 3],\n",
              "       [4, 5]])"
            ]
          },
          "execution_count": 25,
          "metadata": {},
          "output_type": "execute_result"
        }
      ],
      "source": [
        "a = np.arange(6).reshape((3, 2))\n",
        "a"
      ]
    },
    {
      "cell_type": "code",
      "execution_count": 26,
      "metadata": {
        "colab": {
          "base_uri": "https://localhost:8080/"
        },
        "id": "LVuqqkKmWbFi",
        "outputId": "0d4fd4be-1052-4ab4-9a58-6e278aa7e40b"
      },
      "outputs": [
        {
          "data": {
            "text/plain": [
              "array([[0, 1, 2],\n",
              "       [3, 4, 5]])"
            ]
          },
          "execution_count": 26,
          "metadata": {},
          "output_type": "execute_result"
        }
      ],
      "source": [
        "np.reshape(a,(2,3)) # C-like index ordering"
      ]
    },
    {
      "cell_type": "code",
      "execution_count": 27,
      "metadata": {
        "colab": {
          "base_uri": "https://localhost:8080/"
        },
        "id": "HNdGQaeBXk9L",
        "outputId": "8e3b91ab-9d8b-4a37-ebdd-40567aaa83b5"
      },
      "outputs": [
        {
          "data": {
            "text/plain": [
              "array([[0, 1, 2],\n",
              "       [3, 4, 5]])"
            ]
          },
          "execution_count": 27,
          "metadata": {},
          "output_type": "execute_result"
        }
      ],
      "source": [
        "np.reshape(np.ravel(a), (2, 3)) # equivalent to C ravel then C reshape"
      ]
    },
    {
      "cell_type": "code",
      "execution_count": 28,
      "metadata": {
        "colab": {
          "base_uri": "https://localhost:8080/"
        },
        "id": "iDfL6t-0Xy5_",
        "outputId": "7ee21017-ebbf-48f4-ad26-f06dc0d8fcc4"
      },
      "outputs": [
        {
          "data": {
            "text/plain": [
              "array([[0, 4, 3],\n",
              "       [2, 1, 5]])"
            ]
          },
          "execution_count": 28,
          "metadata": {},
          "output_type": "execute_result"
        }
      ],
      "source": [
        "np.reshape(a, (2, 3), order='F') # Fortran-like index ordering"
      ]
    },
    {
      "cell_type": "code",
      "execution_count": 29,
      "metadata": {
        "colab": {
          "base_uri": "https://localhost:8080/"
        },
        "id": "OHWt15CRX0gx",
        "outputId": "679b4438-cc1a-4fda-b945-5dbd589f06c1"
      },
      "outputs": [
        {
          "data": {
            "text/plain": [
              "array([[0, 4, 3],\n",
              "       [2, 1, 5]])"
            ]
          },
          "execution_count": 29,
          "metadata": {},
          "output_type": "execute_result"
        }
      ],
      "source": [
        "np.reshape(np.ravel(a, order='F'), (2, 3), order='F')"
      ]
    },
    {
      "cell_type": "code",
      "execution_count": 30,
      "metadata": {
        "colab": {
          "base_uri": "https://localhost:8080/"
        },
        "id": "K8OTWV3bX2xT",
        "outputId": "5b4e3560-5e41-44f7-aea1-77e56918f647"
      },
      "outputs": [
        {
          "data": {
            "text/plain": [
              "array([1, 2, 3, 4, 5, 6])"
            ]
          },
          "execution_count": 30,
          "metadata": {},
          "output_type": "execute_result"
        }
      ],
      "source": [
        "a = np.array([[1,2,3], [4,5,6]])\n",
        "np.reshape(a, 6)"
      ]
    },
    {
      "cell_type": "code",
      "execution_count": 31,
      "metadata": {
        "colab": {
          "base_uri": "https://localhost:8080/"
        },
        "id": "nZKSB9vwX6ds",
        "outputId": "ad3f6640-4e61-40a9-c10d-fe302a1b5cbf"
      },
      "outputs": [
        {
          "data": {
            "text/plain": [
              "array([[1, 2],\n",
              "       [3, 4],\n",
              "       [5, 6]])"
            ]
          },
          "execution_count": 31,
          "metadata": {},
          "output_type": "execute_result"
        }
      ],
      "source": [
        "np.reshape(a, (3,-1)) # the unspecified value is inferred to be 2"
      ]
    },
    {
      "cell_type": "markdown",
      "metadata": {
        "id": "92hfVUg_L8uf"
      },
      "source": [
        "### flatten()\n",
        "- Convert multi-dimensional arrays to 1D\n",
        "- **Syntax**: `numpy.ndarray.flatten(order='C')`"
      ]
    },
    {
      "cell_type": "code",
      "execution_count": 40,
      "metadata": {
        "colab": {
          "base_uri": "https://localhost:8080/"
        },
        "id": "0vfEM5PoYGqs",
        "outputId": "b4423297-c533-46e1-8e89-05e47a92f617"
      },
      "outputs": [
        {
          "data": {
            "text/plain": [
              "array([1, 2, 3, 4])"
            ]
          },
          "execution_count": 40,
          "metadata": {},
          "output_type": "execute_result"
        }
      ],
      "source": [
        "a = np.array([[1,2],[3,4]])\n",
        "a.flatten()\n",
        "#np.ndarray.flatten(a) # this would also work"
      ]
    },
    {
      "cell_type": "markdown",
      "metadata": {
        "id": "an4FfOIfPbWh"
      },
      "source": [
        "### Stack\n",
        "- Join a sequence of arrays along a new axis.\n",
        "- **Syntax**: `numpy.stack(arrays, axis=0, out=None, *, dtype=None, casting='same_kind')`\n",
        "\n",
        "  1. casting: Controls what kind of data casting may occur\n",
        "    - Imagine you have a number that's stored as a whole number (like 5), but you need to use it in a calculation that only works with decimal numbers (like 5.0). You need to \"translate\" the whole number into a decimal number, which is like casting."
      ]
    },
    {
      "cell_type": "code",
      "execution_count": 61,
      "metadata": {
        "colab": {
          "base_uri": "https://localhost:8080/"
        },
        "id": "DQjTpoSqSTip",
        "outputId": "4d2d2b29-a4d1-404f-d3ab-0cf905468c7c"
      },
      "outputs": [
        {
          "data": {
            "text/plain": [
              "((2, 3, 4), (3, 2, 4), (3, 4, 2))"
            ]
          },
          "execution_count": 61,
          "metadata": {},
          "output_type": "execute_result"
        }
      ],
      "source": [
        "arrays = np.random.rand(2,3,4)\n",
        "np.stack(arrays, axis=0).shape, np.stack(arrays, axis=1).shape, np.stack(arrays, axis=2).shape"
      ]
    },
    {
      "cell_type": "code",
      "execution_count": 65,
      "metadata": {
        "colab": {
          "base_uri": "https://localhost:8080/"
        },
        "id": "NlkdWPb-TH1f",
        "outputId": "98609288-b4df-4fef-a445-790204b5f641"
      },
      "outputs": [
        {
          "data": {
            "text/plain": [
              "array([[1, 2, 3],\n",
              "       [4, 5, 6]])"
            ]
          },
          "execution_count": 65,
          "metadata": {},
          "output_type": "execute_result"
        }
      ],
      "source": [
        "a = np.array([1, 2, 3])\n",
        "b = np.array([4, 5, 6])\n",
        "np.stack((a, b))"
      ]
    },
    {
      "cell_type": "code",
      "execution_count": 64,
      "metadata": {
        "colab": {
          "base_uri": "https://localhost:8080/"
        },
        "id": "Mwre02-TTaqN",
        "outputId": "9eb9fb40-9764-4507-fc71-a8e2c91b4fdf"
      },
      "outputs": [
        {
          "data": {
            "text/plain": [
              "array([[1, 4],\n",
              "       [2, 5],\n",
              "       [3, 6]])"
            ]
          },
          "execution_count": 64,
          "metadata": {},
          "output_type": "execute_result"
        }
      ],
      "source": [
        "np.stack((a, b), axis=-1)"
      ]
    },
    {
      "cell_type": "code",
      "execution_count": 69,
      "metadata": {
        "colab": {
          "base_uri": "https://localhost:8080/"
        },
        "id": "Gfr2V673Thya",
        "outputId": "9929deba-eb39-4952-cf83-0c81915296fa"
      },
      "outputs": [
        {
          "data": {
            "text/plain": [
              "((10, 3, 4), (3, 4, 10))"
            ]
          },
          "execution_count": 69,
          "metadata": {},
          "output_type": "execute_result"
        }
      ],
      "source": [
        "rng = np.random.default_rng() # RNG -> random number generator - This is better than np.random (older method) because it's more flexible and has better statistical properties.\n",
        "arrays = [rng.normal(size=(3,4)) for _ in range(10)] # Generate a list of 10 random (3x4) arrays | `_` is a throwaway variable, just used to loop 10 times\n",
        "np.stack(arrays, axis=0).shape , np.stack(arrays, axis=2).shape"
      ]
    },
    {
      "cell_type": "markdown",
      "metadata": {
        "id": "RdeDrEL9Phnf"
      },
      "source": [
        "#### hstack()\n",
        "- Horizontally stack arrays\n",
        "- **Syntax**: `numpy.hstack(tup, *, dtype=None, casting='same_kind')`"
      ]
    },
    {
      "cell_type": "code",
      "execution_count": 41,
      "metadata": {
        "colab": {
          "base_uri": "https://localhost:8080/"
        },
        "id": "Kk2L7SMSMA4o",
        "outputId": "36f961a7-2939-4f29-f193-d80a59f48489"
      },
      "outputs": [
        {
          "data": {
            "text/plain": [
              "array([1, 2, 3, 4, 5, 6])"
            ]
          },
          "execution_count": 41,
          "metadata": {},
          "output_type": "execute_result"
        }
      ],
      "source": [
        "a = np.array((1,2,3))\n",
        "b = np.array((4,5,6))\n",
        "np.hstack((a,b))"
      ]
    },
    {
      "cell_type": "code",
      "execution_count": 42,
      "metadata": {
        "colab": {
          "base_uri": "https://localhost:8080/"
        },
        "id": "-Toteii4QlWD",
        "outputId": "5c6221d9-9aa8-4516-ab79-e7499e0fbb70"
      },
      "outputs": [
        {
          "data": {
            "text/plain": [
              "array([[1, 4],\n",
              "       [2, 5],\n",
              "       [3, 6]])"
            ]
          },
          "execution_count": 42,
          "metadata": {},
          "output_type": "execute_result"
        }
      ],
      "source": [
        "a = np.array([[1],[2],[3]])\n",
        "b = np.array([[4],[5],[6]])\n",
        "np.hstack((a,b))"
      ]
    },
    {
      "cell_type": "markdown",
      "metadata": {
        "id": "7FpvXDkpUQAd"
      },
      "source": [
        "#### vstack()\n",
        "- Vertically stack arrays\n",
        "- **Syntax**: `numpy.vstack(tup, *, dtype=None, casting='same_kind')`"
      ]
    },
    {
      "cell_type": "code",
      "execution_count": 70,
      "metadata": {
        "colab": {
          "base_uri": "https://localhost:8080/"
        },
        "id": "EsNg8bxcQnQP",
        "outputId": "d352dee4-7d37-48e6-beba-f5780aac6355"
      },
      "outputs": [
        {
          "data": {
            "text/plain": [
              "array([[1, 2, 3],\n",
              "       [4, 5, 6]])"
            ]
          },
          "execution_count": 70,
          "metadata": {},
          "output_type": "execute_result"
        }
      ],
      "source": [
        "a = np.array([1, 2, 3])\n",
        "b = np.array([4, 5, 6])\n",
        "np.vstack((a,b))"
      ]
    },
    {
      "cell_type": "code",
      "execution_count": 71,
      "metadata": {
        "colab": {
          "base_uri": "https://localhost:8080/"
        },
        "id": "91U315MTUe1Y",
        "outputId": "043d8653-fe9c-4330-c90b-668738c5c279"
      },
      "outputs": [
        {
          "data": {
            "text/plain": [
              "array([[1],\n",
              "       [2],\n",
              "       [3],\n",
              "       [4],\n",
              "       [5],\n",
              "       [6]])"
            ]
          },
          "execution_count": 71,
          "metadata": {},
          "output_type": "execute_result"
        }
      ],
      "source": [
        "a = np.array([[1], [2], [3]])\n",
        "b = np.array([[4], [5], [6]])\n",
        "np.vstack((a,b))"
      ]
    },
    {
      "cell_type": "markdown",
      "metadata": {
        "id": "epBdebp2Um0y"
      },
      "source": [
        "### concatenate()\n",
        "- Concatenate multiple arrays. ( Join a sequence of arrays along an existing axis ).\n",
        "- **Syntax**: `numpy.concatenate((a1, a2, ...), axis=0, out=None, dtype=None, casting=\"same_kind\")`\n"
      ]
    },
    {
      "cell_type": "code",
      "execution_count": 84,
      "metadata": {
        "colab": {
          "base_uri": "https://localhost:8080/"
        },
        "id": "3D6YNJnsUgaI",
        "outputId": "5e91efcd-efd1-442b-b837-326f915ac6eb"
      },
      "outputs": [
        {
          "data": {
            "text/plain": [
              "array([[1, 2],\n",
              "       [3, 4],\n",
              "       [1, 2]])"
            ]
          },
          "execution_count": 84,
          "metadata": {},
          "output_type": "execute_result"
        }
      ],
      "source": [
        "a = np.array([[1,2],[3,4]])\n",
        "b = np.array([[1,2]])\n",
        "np.concatenate((a, b), axis=0)"
      ]
    },
    {
      "cell_type": "code",
      "execution_count": 90,
      "metadata": {
        "colab": {
          "base_uri": "https://localhost:8080/"
        },
        "id": "wDQ4DCSZU9a7",
        "outputId": "e4935c2d-63e1-4bb3-a1fc-24e047231a30"
      },
      "outputs": [
        {
          "data": {
            "text/plain": [
              "((2, 2), (1, 2))"
            ]
          },
          "execution_count": 90,
          "metadata": {},
          "output_type": "execute_result"
        }
      ],
      "source": [
        "np.concatenate((a, b.T), axis=1)"
      ]
    },
    {
      "cell_type": "code",
      "execution_count": 88,
      "metadata": {
        "colab": {
          "base_uri": "https://localhost:8080/"
        },
        "id": "dz1XZO--VU6V",
        "outputId": "901cc591-f028-4df0-c2e1-0376be35642c"
      },
      "outputs": [
        {
          "data": {
            "text/plain": [
              "array([1, 2, 3, 4, 1, 2])"
            ]
          },
          "execution_count": 88,
          "metadata": {},
          "output_type": "execute_result"
        }
      ],
      "source": [
        "np.concatenate((a, b), axis=None)"
      ]
    },
    {
      "cell_type": "markdown",
      "metadata": {
        "id": "kfTuFgrAVoHz"
      },
      "source": [
        "### Split()\n",
        "- Split an array into subarrays\n",
        "- **Syntax**: `numpy.split(ary, indices_or_sections, axis=0)`\n",
        "  - If *indices_or_sections* is an integer, N, the array will be divided into N equal arrays along axis. If such a split is not possible, an error is raised."
      ]
    },
    {
      "cell_type": "code",
      "execution_count": 95,
      "metadata": {
        "colab": {
          "base_uri": "https://localhost:8080/"
        },
        "id": "594b_xvOVb6g",
        "outputId": "d3e3682f-09d7-41a9-9d47-c4bd95c7743a"
      },
      "outputs": [
        {
          "data": {
            "text/plain": [
              "[array([0., 1., 2.]), array([3., 4., 5.]), array([6., 7., 8.])]"
            ]
          },
          "execution_count": 95,
          "metadata": {},
          "output_type": "execute_result"
        }
      ],
      "source": [
        "x = np.arange(9.0) # -> [0., 1., 2., 3., 4., 5., 6., 7., 8.]\n",
        "np.split(x, 3)"
      ]
    },
    {
      "cell_type": "code",
      "execution_count": 98,
      "metadata": {
        "colab": {
          "base_uri": "https://localhost:8080/"
        },
        "id": "2xWRWG4HV9hw",
        "outputId": "279d1556-f605-4df2-abb2-3f6da22a047a"
      },
      "outputs": [
        {
          "data": {
            "text/plain": [
              "[array([0., 1., 2.]), array([3.]), array([4.]), array([5., 6., 7.])]"
            ]
          },
          "execution_count": 98,
          "metadata": {},
          "output_type": "execute_result"
        }
      ],
      "source": [
        "x = np.arange(8.0) # -> [0., 1., 2., 3., 4., 5., 6., 7.]\n",
        "np.split(x, [3,4,5])"
      ]
    },
    {
      "cell_type": "markdown",
      "metadata": {
        "id": "Xd5P5Oh5WPTq"
      },
      "source": [
        "### References\n",
        "- [numpy](https://numpy.org/doc/stable/reference/routines.array-manipulation.html)"
      ]
    }
  ],
  "metadata": {
    "colab": {
      "provenance": []
    },
    "kernelspec": {
      "display_name": ".venv",
      "language": "python",
      "name": "python3"
    },
    "language_info": {
      "codemirror_mode": {
        "name": "ipython",
        "version": 3
      },
      "file_extension": ".py",
      "mimetype": "text/x-python",
      "name": "python",
      "nbconvert_exporter": "python",
      "pygments_lexer": "ipython3",
      "version": "3.11.4"
    }
  },
  "nbformat": 4,
  "nbformat_minor": 0
}
