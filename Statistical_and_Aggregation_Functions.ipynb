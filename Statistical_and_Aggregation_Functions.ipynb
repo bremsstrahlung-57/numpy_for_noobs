{
  "nbformat": 4,
  "nbformat_minor": 0,
  "metadata": {
    "colab": {
      "provenance": []
    },
    "kernelspec": {
      "name": "python3",
      "display_name": "Python 3"
    },
    "language_info": {
      "name": "python"
    }
  },
  "cells": [
    {
      "cell_type": "markdown",
      "source": [
        "# Statistical and Aggregation Functions"
      ],
      "metadata": {
        "id": "S471NC_Zsegr"
      }
    },
    {
      "cell_type": "markdown",
      "source": [
        "### Prerequisites\n",
        "- [Probability and Statistics](https://www.mathsisfun.com/data/)"
      ],
      "metadata": {
        "id": "j5Fjq1NMuJJz"
      }
    },
    {
      "cell_type": "code",
      "source": [
        "!pip install numpy --upgrade"
      ],
      "metadata": {
        "colab": {
          "base_uri": "https://localhost:8080/"
        },
        "id": "mNW_C5VyslvF",
        "outputId": "6f01a7e8-99de-4905-c6ac-b727d7419dd2"
      },
      "execution_count": 1,
      "outputs": [
        {
          "output_type": "stream",
          "name": "stdout",
          "text": [
            "Requirement already satisfied: numpy in /usr/local/lib/python3.11/dist-packages (2.2.3)\n"
          ]
        }
      ]
    },
    {
      "cell_type": "code",
      "execution_count": 2,
      "metadata": {
        "id": "5U0H4adwsaoQ"
      },
      "outputs": [],
      "source": [
        "import numpy as np"
      ]
    },
    {
      "cell_type": "markdown",
      "source": [
        "### sum\n",
        "- Sum of elements\n",
        "- **Syntax**: `numpy.sum(a, axis=None, dtype=None, out=None, keepdims=<no value>, initial=<no value>, where=<no value>)`"
      ],
      "metadata": {
        "id": "8JCpB6AztMSm"
      }
    },
    {
      "cell_type": "code",
      "source": [
        "np.sum([0.5, 1.5])"
      ],
      "metadata": {
        "colab": {
          "base_uri": "https://localhost:8080/"
        },
        "id": "HBAZkqBmtJsd",
        "outputId": "a48e3e40-202b-47a4-c652-d943cabfdef5"
      },
      "execution_count": 4,
      "outputs": [
        {
          "output_type": "execute_result",
          "data": {
            "text/plain": [
              "np.float64(2.0)"
            ]
          },
          "metadata": {},
          "execution_count": 4
        }
      ]
    },
    {
      "cell_type": "code",
      "source": [
        "np.sum([0.5, 0.7, 0.2, 1.5], dtype=np.int32)"
      ],
      "metadata": {
        "colab": {
          "base_uri": "https://localhost:8080/"
        },
        "id": "hYuXzi1StVCi",
        "outputId": "c6a11051-dc88-4735-e0c2-bd87c219546c"
      },
      "execution_count": 5,
      "outputs": [
        {
          "output_type": "execute_result",
          "data": {
            "text/plain": [
              "np.int32(1)"
            ]
          },
          "metadata": {},
          "execution_count": 5
        }
      ]
    },
    {
      "cell_type": "code",
      "source": [
        "x = np.array([[1,2,3],[4,5,6]])\n",
        "np.sum(x, axis=1), np.sum(x, axis=0)"
      ],
      "metadata": {
        "colab": {
          "base_uri": "https://localhost:8080/"
        },
        "id": "OpIA_1z4tYXH",
        "outputId": "9690c34f-d953-484c-c3cd-6529b21ccb2c"
      },
      "execution_count": 7,
      "outputs": [
        {
          "output_type": "execute_result",
          "data": {
            "text/plain": [
              "(array([ 6, 15]), array([5, 7, 9]))"
            ]
          },
          "metadata": {},
          "execution_count": 7
        }
      ]
    },
    {
      "cell_type": "code",
      "source": [
        "np.sum([10], initial=5)"
      ],
      "metadata": {
        "colab": {
          "base_uri": "https://localhost:8080/"
        },
        "id": "Lt5y2pDrthcR",
        "outputId": "4bc23b1d-d83d-4533-ff70-eaae0c745c79"
      },
      "execution_count": 8,
      "outputs": [
        {
          "output_type": "execute_result",
          "data": {
            "text/plain": [
              "np.int64(15)"
            ]
          },
          "metadata": {},
          "execution_count": 8
        }
      ]
    },
    {
      "cell_type": "markdown",
      "source": [
        "### mean\n",
        "- Mean of elements\n",
        "- **Syntax**: `numpy.mean(a, axis=None, dtype=None, out=None, keepdims=<no value>, *, where=<no value>)`"
      ],
      "metadata": {
        "id": "yhv0VBFGtxCf"
      }
    },
    {
      "cell_type": "code",
      "source": [
        "a = np.array([[1, 2], [3, 4]])\n",
        "np.mean(a)"
      ],
      "metadata": {
        "colab": {
          "base_uri": "https://localhost:8080/"
        },
        "id": "bAjd7G1QtsdA",
        "outputId": "3901e53f-f232-4290-fc02-bec36300764e"
      },
      "execution_count": 9,
      "outputs": [
        {
          "output_type": "execute_result",
          "data": {
            "text/plain": [
              "np.float64(2.5)"
            ]
          },
          "metadata": {},
          "execution_count": 9
        }
      ]
    },
    {
      "cell_type": "code",
      "source": [
        "np.mean(a, axis=0), np.mean(a, axis=1)"
      ],
      "metadata": {
        "colab": {
          "base_uri": "https://localhost:8080/"
        },
        "id": "-FoTL8H3uZyt",
        "outputId": "8410a26a-5e66-499a-b05e-0aa64bb9b9e7"
      },
      "execution_count": 10,
      "outputs": [
        {
          "output_type": "execute_result",
          "data": {
            "text/plain": [
              "(array([2., 3.]), array([1.5, 3.5]))"
            ]
          },
          "metadata": {},
          "execution_count": 10
        }
      ]
    },
    {
      "cell_type": "code",
      "source": [
        "a = np.array([[5, 9, 13], [14, 10, 12], [11, 15, 19]])\n",
        "np.mean(a)"
      ],
      "metadata": {
        "colab": {
          "base_uri": "https://localhost:8080/"
        },
        "id": "7MOviKe9udYV",
        "outputId": "6ac2f282-9cd9-44a6-f5d0-d85f3551155f"
      },
      "execution_count": 13,
      "outputs": [
        {
          "output_type": "execute_result",
          "data": {
            "text/plain": [
              "np.float64(12.0)"
            ]
          },
          "metadata": {},
          "execution_count": 13
        }
      ]
    },
    {
      "cell_type": "code",
      "source": [
        "np.mean(a, where=[[True], [False], [False]]) # only first row , other two rows are ignored"
      ],
      "metadata": {
        "colab": {
          "base_uri": "https://localhost:8080/"
        },
        "id": "PrpDOpZkuoFm",
        "outputId": "eb6de717-6b57-4959-cb89-13b1e1cbf2e9"
      },
      "execution_count": 15,
      "outputs": [
        {
          "output_type": "execute_result",
          "data": {
            "text/plain": [
              "np.float64(9.0)"
            ]
          },
          "metadata": {},
          "execution_count": 15
        }
      ]
    },
    {
      "cell_type": "markdown",
      "source": [
        "### median\n",
        "- Median of elements\n",
        "- **Syntax**: `numpy.median(a, axis=None, out=None, overwrite_input=False, keepdims=False)`"
      ],
      "metadata": {
        "id": "F6eFYNDyvYHv"
      }
    },
    {
      "cell_type": "code",
      "source": [
        "a = np.array([[10, 7, 4], [3, 2, 1]])\n",
        "np.median(a)"
      ],
      "metadata": {
        "colab": {
          "base_uri": "https://localhost:8080/"
        },
        "id": "d_L8lP4tu1y5",
        "outputId": "ff1c2b1c-ee5f-4e36-d238-7e51f0d5cac4"
      },
      "execution_count": 16,
      "outputs": [
        {
          "output_type": "execute_result",
          "data": {
            "text/plain": [
              "np.float64(3.5)"
            ]
          },
          "metadata": {},
          "execution_count": 16
        }
      ]
    },
    {
      "cell_type": "code",
      "source": [
        "np.median(a, axis=0), np.median(a, axis=1)"
      ],
      "metadata": {
        "colab": {
          "base_uri": "https://localhost:8080/"
        },
        "id": "juqtHAEWvpuF",
        "outputId": "5d2646f1-653c-4aec-9444-e93c47ad2a85"
      },
      "execution_count": 17,
      "outputs": [
        {
          "output_type": "execute_result",
          "data": {
            "text/plain": [
              "(array([6.5, 4.5, 2.5]), array([7., 2.]))"
            ]
          },
          "metadata": {},
          "execution_count": 17
        }
      ]
    },
    {
      "cell_type": "markdown",
      "source": [
        "### std\n",
        "- Standard deviation\n",
        "- **Syntax**: `numpy.std(a, axis=None, dtype=None, out=None, ddof=0, keepdims=<no value>, *, where=<no value>, mean=<no value>, correction=<no value>)`\n",
        "- Read about [Standard Deviation and Variance](https://www.mathsisfun.com/data/standard-deviation.html) Before"
      ],
      "metadata": {
        "id": "JEbNhM9T3qzk"
      }
    },
    {
      "cell_type": "code",
      "source": [
        "a = np.array([[1, 2], [3, 4]])\n",
        "np.std(a)\n",
        "# may vary"
      ],
      "metadata": {
        "colab": {
          "base_uri": "https://localhost:8080/"
        },
        "id": "2DoAi2Ky324N",
        "outputId": "678fc1d3-3faf-4395-a030-8681baf5da0a"
      },
      "execution_count": 31,
      "outputs": [
        {
          "output_type": "execute_result",
          "data": {
            "text/plain": [
              "np.float64(1.118033988749895)"
            ]
          },
          "metadata": {},
          "execution_count": 31
        }
      ]
    },
    {
      "cell_type": "code",
      "source": [
        "a = np.zeros((2, 512*512), dtype=np.float32)\n",
        "a[0, :] = 1.0\n",
        "a[1, :] = 0.1\n",
        "np.std(a)"
      ],
      "metadata": {
        "colab": {
          "base_uri": "https://localhost:8080/"
        },
        "id": "uYR7H5kw387j",
        "outputId": "eddc5b28-cb5f-4d47-a81a-4a21efbb5049"
      },
      "execution_count": 32,
      "outputs": [
        {
          "output_type": "execute_result",
          "data": {
            "text/plain": [
              "np.float32(0.45000005)"
            ]
          },
          "metadata": {},
          "execution_count": 32
        }
      ]
    },
    {
      "cell_type": "code",
      "source": [
        "np.std(a, dtype=np.float64) # Computing the variance in float64 is more accurate\n",
        "# may vary"
      ],
      "metadata": {
        "colab": {
          "base_uri": "https://localhost:8080/"
        },
        "id": "fNRzIuTK3_2l",
        "outputId": "d47d3726-a47a-46c6-f541-0bcd634a2880"
      },
      "execution_count": 33,
      "outputs": [
        {
          "output_type": "execute_result",
          "data": {
            "text/plain": [
              "np.float64(0.4499999992549418)"
            ]
          },
          "metadata": {},
          "execution_count": 33
        }
      ]
    },
    {
      "cell_type": "code",
      "source": [
        "a = np.array([[14, 8, 11, 10], [7, 9, 10, 11], [10, 15, 5, 10]])\n",
        "np.std(a)"
      ],
      "metadata": {
        "colab": {
          "base_uri": "https://localhost:8080/"
        },
        "id": "p8Ra0O194BqT",
        "outputId": "f992f4c6-9b2d-4cd8-85eb-a901efa30e66"
      },
      "execution_count": 34,
      "outputs": [
        {
          "output_type": "execute_result",
          "data": {
            "text/plain": [
              "np.float64(2.614064523559687)"
            ]
          },
          "metadata": {},
          "execution_count": 34
        }
      ]
    },
    {
      "cell_type": "code",
      "source": [
        "np.std(a, where=[[True], [True], [False]]) # 2nd and 3rd row are ignored"
      ],
      "metadata": {
        "colab": {
          "base_uri": "https://localhost:8080/"
        },
        "id": "nBPW2sdj4GC8",
        "outputId": "c3ffd9a8-1e2b-4106-91e0-aafed3c53ed6"
      },
      "execution_count": 36,
      "outputs": [
        {
          "output_type": "execute_result",
          "data": {
            "text/plain": [
              "np.float64(2.0)"
            ]
          },
          "metadata": {},
          "execution_count": 36
        }
      ]
    },
    {
      "cell_type": "markdown",
      "source": [
        "### var\n",
        "- Compute the variance along the specified axis.\n",
        "- **Syntax**: `numpy.var(a, axis=None, dtype=None, out=None, ddof=0, keepdims=<no value>, *, where=<no value>, mean=<no value>, correction=<no value>)`\n",
        "- Read about [Standard Deviation and Variance](https://www.mathsisfun.com/data/standard-deviation.html) Before"
      ],
      "metadata": {
        "id": "t0uuMbpjwPMJ"
      }
    },
    {
      "cell_type": "code",
      "source": [
        "a = np.array([[1, 2], [3, 4]])\n",
        "np.var(a)"
      ],
      "metadata": {
        "colab": {
          "base_uri": "https://localhost:8080/"
        },
        "id": "8qwIde6HvuxP",
        "outputId": "b13a967a-a832-4a8d-d6d8-196ef9662d24"
      },
      "execution_count": 18,
      "outputs": [
        {
          "output_type": "execute_result",
          "data": {
            "text/plain": [
              "np.float64(1.25)"
            ]
          },
          "metadata": {},
          "execution_count": 18
        }
      ]
    },
    {
      "cell_type": "code",
      "source": [
        "np.var(a, axis=0),np.var(a, axis=1)"
      ],
      "metadata": {
        "colab": {
          "base_uri": "https://localhost:8080/"
        },
        "id": "uXP_fGEl3AoH",
        "outputId": "034507e7-bd70-498e-c709-a824f992c72a"
      },
      "execution_count": 19,
      "outputs": [
        {
          "output_type": "execute_result",
          "data": {
            "text/plain": [
              "(array([1., 1.]), array([0.25, 0.25]))"
            ]
          },
          "metadata": {},
          "execution_count": 19
        }
      ]
    },
    {
      "cell_type": "code",
      "source": [
        "a = np.zeros((2, 512*512), dtype=np.float32)\n",
        "a[0, :] = 1.0\n",
        "a[1, :] = 0.1\n",
        "np.var(a)"
      ],
      "metadata": {
        "colab": {
          "base_uri": "https://localhost:8080/"
        },
        "id": "4_4FisLb3DYc",
        "outputId": "b4b0b242-c92e-41d5-bea0-6419bb68caeb"
      },
      "execution_count": 24,
      "outputs": [
        {
          "output_type": "execute_result",
          "data": {
            "text/plain": [
              "np.float32(0.20250003)"
            ]
          },
          "metadata": {},
          "execution_count": 24
        }
      ]
    },
    {
      "cell_type": "code",
      "source": [
        "np.var(a, dtype=np.float64) # Computing the variance in float64 is more accurate\n",
        "# may vary"
      ],
      "metadata": {
        "colab": {
          "base_uri": "https://localhost:8080/"
        },
        "id": "iktvl4Mp3F_5",
        "outputId": "7cf804af-1b16-4484-aeba-5bfca71d8ea2"
      },
      "execution_count": 26,
      "outputs": [
        {
          "output_type": "execute_result",
          "data": {
            "text/plain": [
              "np.float64(0.2024999993294476)"
            ]
          },
          "metadata": {},
          "execution_count": 26
        }
      ]
    },
    {
      "cell_type": "code",
      "source": [
        "a = np.array([[14, 8, 11, 10], [7, 9, 10, 11], [10, 15, 5, 10]])\n",
        "np.var(a)"
      ],
      "metadata": {
        "colab": {
          "base_uri": "https://localhost:8080/"
        },
        "id": "FYc1EJzZ3QWK",
        "outputId": "1a497871-9fbb-4e4d-e877-514b5c8a044f"
      },
      "execution_count": 27,
      "outputs": [
        {
          "output_type": "execute_result",
          "data": {
            "text/plain": [
              "np.float64(6.833333333333333)"
            ]
          },
          "metadata": {},
          "execution_count": 27
        }
      ]
    },
    {
      "cell_type": "code",
      "source": [
        "np.var(a, where=[[True], [True], [False]]) # 2nd and 3rd row are ignored"
      ],
      "metadata": {
        "colab": {
          "base_uri": "https://localhost:8080/"
        },
        "id": "1EVoSRNn3bR7",
        "outputId": "a954d018-0270-428f-f25e-36e5e2bd923d"
      },
      "execution_count": 29,
      "outputs": [
        {
          "output_type": "execute_result",
          "data": {
            "text/plain": [
              "np.float64(4.0)"
            ]
          },
          "metadata": {},
          "execution_count": 29
        }
      ]
    },
    {
      "cell_type": "markdown",
      "source": [
        "### corrcoef\n",
        "- [Pearson correlation coefficient](https://www.geeksforgeeks.org/pearson-correlation-coefficient/)\n",
        "- Return Pearson product-moment correlation coefficients.\n",
        "- **Syntax**: `numpy.corrcoef(x, y=None, rowvar=True, *, dtype=None)`\n",
        "  - rowvar - If rowvar is True (default), then each row represents a variable, with observations in the columns. Otherwise, the relationship is transposed: each column represents a variable, while the rows contain observations.\n",
        "---\n",
        "Please refer to the documentation for [cov](https://numpy.org/doc/stable/reference/generated/numpy.cov.html#numpy.cov) for more detail. The relationship between the correlation coefficient matrix, R, and the covariance matrix, C, is\n",
        "\\begin{align} R_{ij} = \\frac{C_{ij}}{\\sqrt{C_{ii}C_{jj}}} \\end{align}\n",
        "The values of R are between -1 and 1, inclusive.\n",
        "\n"
      ],
      "metadata": {
        "id": "-0C_wdAP4NjV"
      }
    },
    {
      "cell_type": "markdown",
      "source": [
        "In this example we generate two random arrays, `xarr` and `yarr`, and compute the row-wise and column-wise Pearson correlation coefficients, `R`."
      ],
      "metadata": {
        "id": "Hg4QvX1c6SD5"
      }
    },
    {
      "cell_type": "code",
      "source": [
        "rng = np.random.default_rng(seed=42) # random number generator\n",
        "xarr = rng.random((3, 3))\n",
        "xarr"
      ],
      "metadata": {
        "colab": {
          "base_uri": "https://localhost:8080/"
        },
        "id": "Kyezlu173eNQ",
        "outputId": "3fb08bf7-83b4-40a8-a9e7-c526d7435464"
      },
      "execution_count": 41,
      "outputs": [
        {
          "output_type": "execute_result",
          "data": {
            "text/plain": [
              "array([[0.77395605, 0.43887844, 0.85859792],\n",
              "       [0.69736803, 0.09417735, 0.97562235],\n",
              "       [0.7611397 , 0.78606431, 0.12811363]])"
            ]
          },
          "metadata": {},
          "execution_count": 41
        }
      ]
    },
    {
      "cell_type": "code",
      "source": [
        "R1 = np.corrcoef(xarr)\n",
        "R1"
      ],
      "metadata": {
        "colab": {
          "base_uri": "https://localhost:8080/"
        },
        "id": "sr-8AvOB6EDF",
        "outputId": "c81e19ad-e8a3-45b7-f469-13641f66ffc5"
      },
      "execution_count": 42,
      "outputs": [
        {
          "output_type": "execute_result",
          "data": {
            "text/plain": [
              "array([[ 1.        ,  0.99256089, -0.68080986],\n",
              "       [ 0.99256089,  1.        , -0.76492172],\n",
              "       [-0.68080986, -0.76492172,  1.        ]])"
            ]
          },
          "metadata": {},
          "execution_count": 42
        }
      ]
    },
    {
      "cell_type": "markdown",
      "source": [
        "If we add another set of variables and observations `yarr`, we can compute the row-wise Pearson correlation coefficients between the variables in `xarr` and `yarr`.\n",
        "\n"
      ],
      "metadata": {
        "id": "mvrcXfL26U3W"
      }
    },
    {
      "cell_type": "code",
      "source": [
        "yarr = rng.random((3, 3))\n",
        "yarr"
      ],
      "metadata": {
        "colab": {
          "base_uri": "https://localhost:8080/"
        },
        "id": "pwkQ5Gs_6H5p",
        "outputId": "1706dc51-ee71-4474-9756-8a0b3b6813db"
      },
      "execution_count": 43,
      "outputs": [
        {
          "output_type": "execute_result",
          "data": {
            "text/plain": [
              "array([[0.45038594, 0.37079802, 0.92676499],\n",
              "       [0.64386512, 0.82276161, 0.4434142 ],\n",
              "       [0.22723872, 0.55458479, 0.06381726]])"
            ]
          },
          "metadata": {},
          "execution_count": 43
        }
      ]
    },
    {
      "cell_type": "code",
      "source": [
        "R2 = np.corrcoef(xarr, yarr)\n",
        "R2"
      ],
      "metadata": {
        "colab": {
          "base_uri": "https://localhost:8080/"
        },
        "id": "4HJH1Drd6dYV",
        "outputId": "f1f72ff9-8074-4c68-8e06-7970e1030cf7"
      },
      "execution_count": 44,
      "outputs": [
        {
          "output_type": "execute_result",
          "data": {
            "text/plain": [
              "array([[ 1.        ,  0.99256089, -0.68080986,  0.75008178, -0.934284  ,\n",
              "        -0.99004057],\n",
              "       [ 0.99256089,  1.        , -0.76492172,  0.82502011, -0.97074098,\n",
              "        -0.99981569],\n",
              "       [-0.68080986, -0.76492172,  1.        , -0.99507202,  0.89721355,\n",
              "         0.77714685],\n",
              "       [ 0.75008178,  0.82502011, -0.99507202,  1.        , -0.93657855,\n",
              "        -0.83571711],\n",
              "       [-0.934284  , -0.97074098,  0.89721355, -0.93657855,  1.        ,\n",
              "         0.97517215],\n",
              "       [-0.99004057, -0.99981569,  0.77714685, -0.83571711,  0.97517215,\n",
              "         1.        ]])"
            ]
          },
          "metadata": {},
          "execution_count": 44
        }
      ]
    },
    {
      "cell_type": "markdown",
      "source": [
        "Finally if we use the option `rowvar=False`, the columns are now being treated as the variables and we will find the column-wise Pearson correlation coefficients between variables in `xarr` and `yarr`.\n",
        "\n"
      ],
      "metadata": {
        "id": "dCti-oJm6oXt"
      }
    },
    {
      "cell_type": "code",
      "source": [
        "R3 = np.corrcoef(xarr, yarr, rowvar=False)\n",
        "R3"
      ],
      "metadata": {
        "colab": {
          "base_uri": "https://localhost:8080/"
        },
        "id": "DdABaZSk6lA-",
        "outputId": "532e0cda-43de-43d5-ea50-a8c5f8e7ec4e"
      },
      "execution_count": 45,
      "outputs": [
        {
          "output_type": "execute_result",
          "data": {
            "text/plain": [
              "array([[ 1.        ,  0.77598074, -0.47458546, -0.75078643, -0.9665554 ,\n",
              "         0.22423734],\n",
              "       [ 0.77598074,  1.        , -0.92346708, -0.99923895, -0.58826587,\n",
              "        -0.44069024],\n",
              "       [-0.47458546, -0.92346708,  1.        ,  0.93773029,  0.23297648,\n",
              "         0.75137473],\n",
              "       [-0.75078643, -0.99923895,  0.93773029,  1.        ,  0.55627469,\n",
              "         0.47536961],\n",
              "       [-0.9665554 , -0.58826587,  0.23297648,  0.55627469,  1.        ,\n",
              "        -0.46666491],\n",
              "       [ 0.22423734, -0.44069024,  0.75137473,  0.47536961, -0.46666491,\n",
              "         1.        ]])"
            ]
          },
          "metadata": {},
          "execution_count": 45
        }
      ]
    },
    {
      "cell_type": "markdown",
      "source": [
        "### percentile\n",
        "- Compute percentile of data\n",
        "- **Syntax**: `numpy.percentile(a, q, axis=None, out=None, overwrite_input=False, method='linear', keepdims=False, *, weights=None)`\n",
        "  - a - Input array\n",
        "  - q - Percentage or sequence of percentages for the percentiles to compute. Values must be between 0 and 100 inclusive."
      ],
      "metadata": {
        "id": "OIGmU1rh61Az"
      }
    },
    {
      "cell_type": "code",
      "source": [
        "a = np.array([[10, 7, 4], [3, 2, 1]])\n",
        "np.percentile(a, 50)"
      ],
      "metadata": {
        "colab": {
          "base_uri": "https://localhost:8080/"
        },
        "id": "PmsyHZo76t0v",
        "outputId": "25992973-76c1-4094-8aa7-92066152a47d"
      },
      "execution_count": 47,
      "outputs": [
        {
          "output_type": "execute_result",
          "data": {
            "text/plain": [
              "np.float64(3.5)"
            ]
          },
          "metadata": {},
          "execution_count": 47
        }
      ]
    },
    {
      "cell_type": "code",
      "source": [
        "np.percentile(a, 50, axis=0), np.percentile(a, 50, axis=1)"
      ],
      "metadata": {
        "colab": {
          "base_uri": "https://localhost:8080/"
        },
        "id": "IhXX4yAU7GpR",
        "outputId": "150f7b13-2f5c-4ff1-894d-8e4d258d988a"
      },
      "execution_count": 48,
      "outputs": [
        {
          "output_type": "execute_result",
          "data": {
            "text/plain": [
              "(array([6.5, 4.5, 2.5]), array([7., 2.]))"
            ]
          },
          "metadata": {},
          "execution_count": 48
        }
      ]
    },
    {
      "cell_type": "markdown",
      "source": [
        "### histogram\n",
        "- Compute histogram of an array\n",
        "- **Syntax**: `numpy.histogram(a, bins=10, range=None, density=None, weights=None)`\n",
        "  - a - Input data\n",
        "  - bins - If bins is an int, it defines the number of equal-width bins in the given range (10, by default). If bins is a sequence, it defines a monotonically increasing array of bin edges, including the rightmost edge, allowing for non-uniform bin widths.\n",
        "  - range - The lower and upper range of the bins\n",
        "  - weights - This parameter allows you to assign different weights to each value in the input array a.\n",
        "  - density - If True, returns probabilities instead of raw counts.\n",
        "\n"
      ],
      "metadata": {
        "id": "v-EbUj6h7njp"
      }
    },
    {
      "cell_type": "code",
      "source": [
        "np.histogram([1, 2, 1], bins=[0, 1, 2, 3])"
      ],
      "metadata": {
        "colab": {
          "base_uri": "https://localhost:8080/"
        },
        "id": "Xgnz2B6d7eYx",
        "outputId": "7e70a5f6-0958-468c-d042-0ef3b8e5259e"
      },
      "execution_count": 49,
      "outputs": [
        {
          "output_type": "execute_result",
          "data": {
            "text/plain": [
              "(array([0, 2, 1]), array([0, 1, 2, 3]))"
            ]
          },
          "metadata": {},
          "execution_count": 49
        }
      ]
    },
    {
      "cell_type": "code",
      "source": [
        "np.histogram(np.arange(4), bins=np.arange(5), density=True)"
      ],
      "metadata": {
        "colab": {
          "base_uri": "https://localhost:8080/"
        },
        "id": "h1kCcdbo8iCF",
        "outputId": "0d8ffd87-4e98-4c31-a9aa-87ec6c8f6dcd"
      },
      "execution_count": 51,
      "outputs": [
        {
          "output_type": "execute_result",
          "data": {
            "text/plain": [
              "(array([0.25, 0.25, 0.25, 0.25]), array([0, 1, 2, 3, 4]))"
            ]
          },
          "metadata": {},
          "execution_count": 51
        }
      ]
    },
    {
      "cell_type": "code",
      "source": [
        "np.histogram([[1, 2, 1], [1, 0, 1]], bins=[0,1,2,3])"
      ],
      "metadata": {
        "colab": {
          "base_uri": "https://localhost:8080/"
        },
        "id": "zeV7zEfX8mFb",
        "outputId": "7e16705b-d985-47ec-cf65-3a81b1f21d09"
      },
      "execution_count": 52,
      "outputs": [
        {
          "output_type": "execute_result",
          "data": {
            "text/plain": [
              "(array([1, 4, 1]), array([0, 1, 2, 3]))"
            ]
          },
          "metadata": {},
          "execution_count": 52
        }
      ]
    },
    {
      "cell_type": "markdown",
      "source": [
        "### References\n",
        "- https://numpy.org/doc/stable/reference/routines.statistics.html"
      ],
      "metadata": {
        "id": "ScynuvH3__Oh"
      }
    }
  ]
}