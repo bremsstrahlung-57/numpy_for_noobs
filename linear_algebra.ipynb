{
  "cells": [
    {
      "cell_type": "markdown",
      "metadata": {
        "id": "euvYW5_C95hl"
      },
      "source": [
        "# Linear Algebra\n"
      ]
    },
    {
      "cell_type": "code",
      "execution_count": 1,
      "metadata": {
        "colab": {
          "base_uri": "https://localhost:8080/"
        },
        "id": "wcuYDBLPO53D",
        "outputId": "b93feb9f-34c5-458b-e851-9692abd11399"
      },
      "outputs": [
        {
          "name": "stdout",
          "output_type": "stream",
          "text": [
            "Requirement already satisfied: numpy in /usr/local/lib/python3.11/dist-packages (2.2.3)\n"
          ]
        }
      ],
      "source": [
        "!pip install numpy --upgrade"
      ]
    },
    {
      "cell_type": "code",
      "execution_count": 2,
      "metadata": {
        "id": "Oi1v8FVt-O4C"
      },
      "outputs": [],
      "source": [
        "import numpy as np"
      ]
    },
    {
      "cell_type": "markdown",
      "metadata": {
        "id": "P1-FVyTB_L0W"
      },
      "source": [
        "#### dot()\n",
        " - **Syntax**: `numpy.dot(a, b, out=None)`"
      ]
    },
    {
      "cell_type": "code",
      "execution_count": 3,
      "metadata": {
        "colab": {
          "base_uri": "https://localhost:8080/"
        },
        "id": "haf5H1ac9Xqj",
        "outputId": "94e61a94-5635-41b1-c1a4-e8f0c8d4a501"
      },
      "outputs": [
        {
          "data": {
            "text/plain": [
              "np.int64(20)"
            ]
          },
          "execution_count": 3,
          "metadata": {},
          "output_type": "execute_result"
        }
      ],
      "source": [
        "a = np.array([1,2,3])\n",
        "b = np.array([2,3,4])\n",
        "np.dot(a,b) # Returns the dot product of a and b. If a and b are both scalars or both 1-D arrays then a scalar is returned; otherwise an array is returned.\n",
        "# (1*2) + (2*3) + (3*4)\n",
        "#If both a and b are 1-D arrays, it is inner product of vectors.\n",
        "#If both a and b are 2-D arrays, it is matrix multiplication, but using matmul or a @ b is preferred."
      ]
    },
    {
      "cell_type": "code",
      "execution_count": 4,
      "metadata": {
        "colab": {
          "base_uri": "https://localhost:8080/"
        },
        "id": "fAAm7W50-XQW",
        "outputId": "70f92cd6-9eba-44c4-9d6f-0d9fd3467063"
      },
      "outputs": [
        {
          "data": {
            "text/plain": [
              "np.int64(8)"
            ]
          },
          "execution_count": 4,
          "metadata": {},
          "output_type": "execute_result"
        }
      ],
      "source": [
        "np.dot(2,4)"
      ]
    },
    {
      "cell_type": "code",
      "execution_count": 5,
      "metadata": {
        "colab": {
          "base_uri": "https://localhost:8080/"
        },
        "id": "L9ae1jax_gAC",
        "outputId": "e5be00e7-0071-41a4-8b2d-16d86169bd96"
      },
      "outputs": [
        {
          "data": {
            "text/plain": [
              "np.complex128(22j)"
            ]
          },
          "execution_count": 5,
          "metadata": {},
          "output_type": "execute_result"
        }
      ],
      "source": [
        "a = np.array([1+2j,3+4j])\n",
        "b = np.array([4+3j,2+1j])\n",
        "np.dot(a,b) # j is just i for python (imaginary number)"
      ]
    },
    {
      "cell_type": "code",
      "execution_count": 6,
      "metadata": {
        "colab": {
          "base_uri": "https://localhost:8080/"
        },
        "id": "nCijeE3R_uQq",
        "outputId": "cac02f81-18e6-4767-86de-7f4a1e607580"
      },
      "outputs": [
        {
          "data": {
            "text/plain": [
              "array([[4, 1],\n",
              "       [2, 2]])"
            ]
          },
          "execution_count": 6,
          "metadata": {},
          "output_type": "execute_result"
        }
      ],
      "source": [
        "a = [[1, 0], [0, 1]]\n",
        "b = [[4, 1], [2, 2]]\n",
        "np.dot(a, b)"
      ]
    },
    {
      "cell_type": "markdown",
      "metadata": {
        "id": "s-IGTztmGqTd"
      },
      "source": [
        "#### **vdot()**\n",
        " - Return the dot product of two vectors.\n",
        " - **Syntax**:` numpy.vdot(a, b)`"
      ]
    },
    {
      "cell_type": "code",
      "execution_count": 7,
      "metadata": {
        "colab": {
          "base_uri": "https://localhost:8080/"
        },
        "id": "C-V0x8OmGDTZ",
        "outputId": "6b8218c8-6028-45c3-f01c-05866641b9b2"
      },
      "outputs": [
        {
          "data": {
            "text/plain": [
              "np.complex128(20-10j)"
            ]
          },
          "execution_count": 7,
          "metadata": {},
          "output_type": "execute_result"
        }
      ],
      "source": [
        "a = np.array([1+2j,3+4j])\n",
        "b = np.array([4+3j,2+1j])\n",
        "np.vdot(a,b) #i took this code from above dot() example. Look at that output, why both are different? answered below\n",
        "\n",
        "# For complex vectors a and b, dot product is:\n",
        "# dot(a,b) = Σ (aᵢ × bᵢ)\n",
        "# result_dot = np.dot(a,b)\n",
        "# = (1+2j)(4+3j) + (3+4j)(2+1j)\n",
        "\n",
        "# vdot takes the complex conjugate of the first vector:\n",
        "# vdot(a,b) = Σ (aᵢ* × bᵢ) where aᵢ* is complex conjugate\n",
        "# result_vdot = np.vdot(a,b)\n",
        "# = (1-2j)(4+3j) + (3-4j)(2+1j)"
      ]
    },
    {
      "cell_type": "markdown",
      "metadata": {
        "id": "qbo2mw0tIH_z"
      },
      "source": [
        "For dot:\n",
        "\n",
        " - First term: (1+2j)(4+3j) = 4 + 3j + 8j + 6j² = 4 + 11j - 6 = -2 + 11j\n",
        " - Second term: (3+4j)(2+1j) = 6 + 3j + 8j + 4j² = 6 + 11j - 4 = 2 + 11j\n",
        " - Sum: (-2 + 11j) + (2 + 11j) = 22j\n",
        "\n",
        "For vdot:\n",
        "\n",
        " - First term: (1-2j)(4+3j) = 4 - 8j + 3j - 6j² = 4 - 5j + 6 = 10 - 5j\n",
        " - Second term: (3-4j)(2+1j) = 6 - 8j + 3j - 4j² = 6 - 5j + 4 = 10 - 5j\n",
        " - Sum: (10 - 5j) + (10 - 5j) = 20 - 10j"
      ]
    },
    {
      "cell_type": "code",
      "execution_count": 8,
      "metadata": {
        "colab": {
          "base_uri": "https://localhost:8080/"
        },
        "id": "CyIdWFr3HbXb",
        "outputId": "736b7489-c033-4ff4-fd1c-f0418eb1f416"
      },
      "outputs": [
        {
          "data": {
            "text/plain": [
              "(np.int64(1850), np.int64(1850))"
            ]
          },
          "execution_count": 8,
          "metadata": {},
          "output_type": "execute_result"
        }
      ],
      "source": [
        "a = np.array([[10,20], [50, 60]])\n",
        "b = np.array([[40, 30], [5, 10]])\n",
        "np.vdot(a, b), np.vdot(b, a) #10*40 + 20*30 + 50*5 + 60*10"
      ]
    },
    {
      "cell_type": "markdown",
      "metadata": {
        "id": "lZYMxl97LU_9"
      },
      "source": [
        "#### **vecdot()**\n",
        "- Vector dot product of two arrays.\n",
        "- Let be a vector in x1 and  be a corresponding vector in x2. The dot product is defined as:\n",
        "    \\begin{align}\\mathbf{a} \\cdot \\mathbf{b} = \\sum_{i=0}^{n-1} \\overline{a}_i b_i\\end{align}\n",
        "- where the sum is over the last dimension (unless axis is specified) and where  denotes the complex conjugate if  is complex and the identity otherwise."
      ]
    },
    {
      "cell_type": "code",
      "execution_count": 11,
      "metadata": {
        "colab": {
          "base_uri": "https://localhost:8080/"
        },
        "id": "0h3gQ0wUKHYK",
        "outputId": "48783874-2d80-40f1-ac39-75b6642aaa5a"
      },
      "outputs": [
        {
          "data": {
            "text/plain": [
              "array([30, 40, 50])"
            ]
          },
          "execution_count": 11,
          "metadata": {},
          "output_type": "execute_result"
        }
      ],
      "source": [
        "a = np.array([[1,1,0],[1,0,1],[0,1,1]])\n",
        "b = np.array([10,20,30])\n",
        "np.vecdot(a,b) # [10*1 + 20*1 + 30*0, 10*1 + 20*0 + 30*1, 10*0+ 20*1 + 30*1]"
      ]
    },
    {
      "cell_type": "markdown",
      "metadata": {
        "id": "eS1J8OktQYKV"
      },
      "source": [
        "`numpy.linalg.vecdot()` is also have same usage"
      ]
    },
    {
      "cell_type": "code",
      "execution_count": 13,
      "metadata": {
        "colab": {
          "base_uri": "https://localhost:8080/"
        },
        "id": "kR0o5iSnPbDd",
        "outputId": "c7d3094e-04e0-4e28-e7f3-fc7b3c89944c"
      },
      "outputs": [
        {
          "data": {
            "text/plain": [
              "array([30, 40, 50])"
            ]
          },
          "execution_count": 13,
          "metadata": {},
          "output_type": "execute_result"
        }
      ],
      "source": [
        "np.linalg.vecdot(a,b)"
      ]
    },
    {
      "cell_type": "markdown",
      "metadata": {
        "id": "1FX7WkIRVM7M"
      },
      "source": [
        "#### **tensordot() // linlalg.tensordot()**\n",
        "- It computes the dot product along specified axes of two multi-dimensional arrays (tensors).\n",
        "- **Syntax**: `numpy.tensordot(a, b, axes=n)`\n",
        "\n",
        "Think of it like this:\n",
        "- If dot() is for 1D vectors,\n",
        "- And matmul() is for 2D matrices,\n",
        "- Then tensordot() is for higher-dimensional tensors, letting you choose which dimensions to contract.\n"
      ]
    },
    {
      "cell_type": "code",
      "execution_count": 20,
      "metadata": {
        "colab": {
          "base_uri": "https://localhost:8080/"
        },
        "id": "5eUFO9F6QjVb",
        "outputId": "fca45ab8-a643-4424-993c-92d4474d2f85"
      },
      "outputs": [
        {
          "name": "stdout",
          "output_type": "stream",
          "text": [
            "Axis=0->\n",
            "[[[[ 5  6]\n",
            "   [ 7  8]]\n",
            "\n",
            "  [[10 12]\n",
            "   [14 16]]]\n",
            "\n",
            "\n",
            " [[[15 18]\n",
            "   [21 24]]\n",
            "\n",
            "  [[20 24]\n",
            "   [28 32]]]]\n",
            "Axis=1->\n",
            "[[19 22]\n",
            " [43 50]]\n"
          ]
        }
      ],
      "source": [
        "import numpy as np\n",
        "\n",
        "A = np.array([[1, 2], [3, 4]])  # Shape (2,2)\n",
        "B = np.array([[5, 6], [7, 8]])  # Shape (2,2)\n",
        "\n",
        "result_0 = np.tensordot(A, B, axes=0)  # Contract along the last axis of A and first axis of B\n",
        "result_1 = np.tensordot(A, B, axes=1)  # Contract along the last axis of A and first axis of B # Equivalent to A @ B (matrix multiplication).\n",
        "print(f\"Axis=0->\\n{result_0}\\nAxis=1->\\n{result_1}\")"
      ]
    },
    {
      "cell_type": "code",
      "execution_count": 22,
      "metadata": {
        "colab": {
          "base_uri": "https://localhost:8080/"
        },
        "id": "BQDC0KEqQz9F",
        "outputId": "4bf22278-7bcf-43ad-def5-8a69751f4ba4"
      },
      "outputs": [
        {
          "name": "stdout",
          "output_type": "stream",
          "text": [
            "(2, 2)\n"
          ]
        }
      ],
      "source": [
        "A = np.random.rand(2, 3, 4)  # Shape (2,3,4)\n",
        "B = np.random.rand(4, 3, 2)  # Shape (4,3,2)\n",
        "\n",
        "result = np.tensordot(A, B, axes=([1, 2], [1, 0]))  # Contract axes (1,2) of A with (1,0) of B\n",
        "print(result.shape)  # (2,2)"
      ]
    },
    {
      "cell_type": "markdown",
      "metadata": {
        "id": "At8Z-3DXYGur"
      },
      "source": [
        "- tensordot() is like an advanced dot product for higher-dimensional tensors.\n",
        "- You control which axes to multiply over.\n",
        "- When axes=1, it behaves like matrix multiplication.\n",
        "- When axes=([x, y], [p, q]), it generalizes to multi-axis contraction."
      ]
    },
    {
      "cell_type": "markdown",
      "metadata": {
        "id": "pBgIRyMUddwd"
      },
      "source": [
        "**numpy.linalg.svd()**\n",
        "- numpy.linalg.svd() stands for **Singular Value Decomposition** (SVD).\n",
        "- It factorizes a matrix into three matrices:\n",
        "    \\begin{align}\\mathbf{A} = \\mathbf{U} \\cdot \\mathbf{S} \\cdot \\mathbf{V}^{T}  \\end{align}\n",
        "    - A → Original matrix (shape:m * n)\n",
        "    - U → Left singular vectors (shape: m * m)\n",
        "    - S → Singular values (1D array of size min(m, n))\n",
        "    - Vᵀ → Right singular vectors (shape: n * n)\n",
        "\n",
        "For Better Understanding Read This : https://www.geeksforgeeks.org/singular-value-decomposition-svd/\n"
      ]
    },
    {
      "cell_type": "code",
      "execution_count": 31,
      "metadata": {
        "colab": {
          "base_uri": "https://localhost:8080/"
        },
        "id": "q7SGRC02XiKy",
        "outputId": "18481ef9-01ad-4eac-9652-ae895d43c6df"
      },
      "outputs": [
        {
          "name": "stdout",
          "output_type": "stream",
          "text": [
            "U:\n",
            " [[-0.2298477   0.88346102  0.40824829]\n",
            " [-0.52474482  0.24078249 -0.81649658]\n",
            " [-0.81964194 -0.40189603  0.40824829]]\n",
            "S:\n",
            " [9.52551809 0.51430058]\n",
            "Vt:\n",
            " [[-0.61962948 -0.78489445]\n",
            " [-0.78489445  0.61962948]]\n"
          ]
        }
      ],
      "source": [
        "A = np.array([[1, 2], [3, 4], [5, 6]])  # Shape (3,2)\n",
        "\n",
        "U, S, Vt = np.linalg.svd(A)\n",
        "\n",
        "print(\"U:\\n\", U)   # Left singular vectors (3x3)\n",
        "print(\"S:\\n\", S)   # Singular values (2,)\n",
        "print(\"Vt:\\n\", Vt) # Right singular vectors (2x2)\n",
        "#S contains singular values, which indicate the \"importance\" of each dimension."
      ]
    },
    {
      "cell_type": "code",
      "execution_count": 40,
      "metadata": {
        "colab": {
          "base_uri": "https://localhost:8080/"
        },
        "id": "Mx2MLUo_f5Et",
        "outputId": "a352359f-99dc-4ffc-83c9-5c09f6bd059e"
      },
      "outputs": [
        {
          "name": "stdout",
          "output_type": "stream",
          "text": [
            "Reconstructed A:\n",
            " [[1.35662819 1.71846235]\n",
            " [3.09719707 3.92326845]\n",
            " [4.83776596 6.12807454]]\n"
          ]
        }
      ],
      "source": [
        "# Reconstructing the original matrix\n",
        "# Since S is returned as a 1D array, we must convert it to a diagonal matrix before reconstructing:\n",
        "m, n = A.shape\n",
        "S_mat = np.zeros((m, n))\n",
        "S_mat[:n, :n] = np.diag(S)\n",
        "\n",
        "S_mat[1,1] = 0 # Try printing A_reconstructed with this line. You will notice with this line we dont get exact value but without this line we get our original matrix A.\n",
        "# In S, we have two elements, as we already know S tell us the importance of each dimension of a matrix,since, our S is -> [9.52551809 0.51430058]. From line 3-5 we\n",
        "# made our S into 2D array from 1D-array. and we diagonalised it because Matrix multiplication needs correct shapes → U (m×m), S (m×n), Vt (n×n).\n",
        "# but what happened in line 7? We just removed least important values from S_mat (try printing S_mat before setting S_mat[1,1] to 0 and after setting it equal).\n",
        "# by this we lost some data while preserving the main structure. So, what is the use of this?\n",
        "\n",
        "\n",
        "A_reconstructed = U @ S_mat @ Vt  # Matrix multiplication\n",
        "print(\"Reconstructed A:\\n\", A_reconstructed)"
      ]
    },
    {
      "cell_type": "markdown",
      "metadata": {
        "id": "EsS62TXJrykM"
      },
      "source": [
        "**How does this work?**\n",
        " - We compute the SVD of matrix A → U, S, Vt\n",
        " - We create a full diagonal matrix from S\n",
        " - We set the smallest singular value to zero, removing the least significant component\n",
        " - We reconstruct A using the modified S\n",
        "\n",
        "**What happens?**\n",
        " - The compressed matrix will be very close to A but with some lost detail.\n",
        " - If A was an image, setting small values to zero would reduce noise while preserving the main structure.\n",
        " - If A was data, this process could be used for dimensionality reduction (like in PCA).\n",
        "\n",
        "**Why is this useful?**\n",
        "- Image Compression → Less storage, still visually similar.\n",
        "- Data Compression → Lower memory, faster computation.\n",
        "- Noise Reduction → Removing minor variations that don’t matter.\n",
        "- Dimensionality Reduction → Keep the most important info while discarding unimportant details.\n"
      ]
    },
    {
      "cell_type": "code",
      "execution_count": 50,
      "metadata": {
        "colab": {
          "base_uri": "https://localhost:8080/"
        },
        "id": "V_MR6vWwpg7R",
        "outputId": "ecf0d586-32fc-4fd8-b7b1-d3891a9c4315"
      },
      "outputs": [
        {
          "name": "stdout",
          "output_type": "stream",
          "text": [
            "Original Matrix:\n",
            " [[4 2 0]\n",
            " [9 6 3]\n",
            " [2 7 5]]\n",
            "Compressed Matrix:\n",
            " [[4.09 1.69 0.38]\n",
            " [8.95 6.15 2.81]\n",
            " [2.02 6.94 5.08]]\n"
          ]
        }
      ],
      "source": [
        "# Create a 3x3 matrix\n",
        "A = np.array([[4, 2, 0],\n",
        "              [9, 6, 3],\n",
        "              [2, 7, 5]])\n",
        "\n",
        "# Compute SVD\n",
        "U, S, Vt = np.linalg.svd(A)\n",
        "\n",
        "# Convert S (1D array) to diagonal matrix\n",
        "S_matrix = np.zeros((A.shape[0], A.shape[1]))\n",
        "np.fill_diagonal(S_matrix, S)\n",
        "\n",
        "# Zero out the smallest singular value (low-rank approximation)\n",
        "S_matrix[2, 2] = 0  # Removing the least important component\n",
        "# S_matrix[1,1] = 0 # try running with this and see how much of data we lost\n",
        "# Reconstruct the compressed matrix\n",
        "A_compressed = U @ S_matrix @ Vt\n",
        "\n",
        "print(\"Original Matrix:\\n\", A)\n",
        "print(\"Compressed Matrix:\\n\", np.round(A_compressed, 2))\n"
      ]
    },
    {
      "cell_type": "markdown",
      "metadata": {
        "id": "8KHZPi5AzecY"
      },
      "source": [
        "#### **numpy.linalg.eig()**\n",
        "\n",
        "- Compute the eigenvalues and right eigenvectors of a square array.\n",
        "\n",
        "- **Syntax**: `numpy.linalg.eig(a)`\n"
      ]
    },
    {
      "cell_type": "code",
      "execution_count": 52,
      "metadata": {
        "colab": {
          "base_uri": "https://localhost:8080/"
        },
        "id": "dpf9SjtpxTz5",
        "outputId": "1d1af17d-e85c-4c98-edc7-178a7506c7a0"
      },
      "outputs": [
        {
          "data": {
            "text/plain": [
              "(array([1., 2., 3.]),\n",
              " array([[1., 0., 0.],\n",
              "        [0., 1., 0.],\n",
              "        [0., 0., 1.]]))"
            ]
          },
          "execution_count": 52,
          "metadata": {},
          "output_type": "execute_result"
        }
      ],
      "source": [
        "eigenvalues, eigenvectors = np.linalg.eig(np.diag((1, 2, 3)))\n",
        "eigenvalues, eigenvectors"
      ]
    },
    {
      "cell_type": "code",
      "execution_count": 54,
      "metadata": {
        "colab": {
          "base_uri": "https://localhost:8080/"
        },
        "id": "O6KdASIR0S-d",
        "outputId": "b3d48b59-44b9-408c-902d-f8537c7e3304"
      },
      "outputs": [
        {
          "data": {
            "text/plain": [
              "(array([1.+1.j, 1.-1.j]),\n",
              " array([[0.70710678+0.j        , 0.70710678-0.j        ],\n",
              "        [0.        -0.70710678j, 0.        +0.70710678j]]))"
            ]
          },
          "execution_count": 54,
          "metadata": {},
          "output_type": "execute_result"
        }
      ],
      "source": [
        "eigenvalues, eigenvectors = np.linalg.eig(np.array([[1, -1], [1, 1]]))\n",
        "eigenvalues, eigenvectors"
      ]
    },
    {
      "cell_type": "code",
      "execution_count": 57,
      "metadata": {
        "colab": {
          "base_uri": "https://localhost:8080/"
        },
        "id": "XeIbTbnk0aSa",
        "outputId": "14314194-932c-45b4-ffdb-73ebd4774e3f"
      },
      "outputs": [
        {
          "data": {
            "text/plain": [
              "(array([ 3.+0.j, -1.+0.j]),\n",
              " array([[ 0.70710678+0.j        , -0.        -0.70710678j],\n",
              "        [-0.        -0.70710678j,  0.70710678+0.j        ]]))"
            ]
          },
          "execution_count": 57,
          "metadata": {},
          "output_type": "execute_result"
        }
      ],
      "source": [
        "a = np.array([[1, 2j], [-2j, 1]])\n",
        "eigenvalues, eigenvectors = np.linalg.eig(a)\n",
        "eigenvalues, eigenvectors"
      ]
    },
    {
      "cell_type": "markdown",
      "metadata": {
        "id": "WFKINhX402By"
      },
      "source": [
        "#### **numpy.linalg.det()**\n",
        "- Compute the determinant of a matrix\n",
        "- **Syntax**: `numpy.linalg.det(a)`"
      ]
    },
    {
      "cell_type": "code",
      "execution_count": 58,
      "metadata": {
        "colab": {
          "base_uri": "https://localhost:8080/"
        },
        "id": "zxlvuW1b0pnU",
        "outputId": "b13446b3-2656-466d-da5c-efdc9a8d5ae7"
      },
      "outputs": [
        {
          "data": {
            "text/plain": [
              "np.float64(-2.0000000000000004)"
            ]
          },
          "execution_count": 58,
          "metadata": {},
          "output_type": "execute_result"
        }
      ],
      "source": [
        "a = np.array([[1,2],[3,4]])\n",
        "det = np.linalg.det(a)\n",
        "det # may vary"
      ]
    },
    {
      "cell_type": "code",
      "execution_count": 59,
      "metadata": {
        "colab": {
          "base_uri": "https://localhost:8080/"
        },
        "id": "e3LLrJ2z1UMN",
        "outputId": "73bfe207-7e8e-430e-a8d5-ca0b6e01358f"
      },
      "outputs": [
        {
          "data": {
            "text/plain": [
              "array([-2., -3., -8.])"
            ]
          },
          "execution_count": 59,
          "metadata": {},
          "output_type": "execute_result"
        }
      ],
      "source": [
        "a = np.array([ [[1, 2], [3, 4]], [[1, 2], [2, 1]], [[1, 3], [3, 1]] ])\n",
        "det = np.linalg.det(a)\n",
        "det"
      ]
    },
    {
      "cell_type": "markdown",
      "metadata": {
        "id": "MctA3vDP1kCD"
      },
      "source": [
        "**slogdet** - Another way to represent the determinant, more suitable for large matrices where underflow/overflow may occur.\n",
        "\n"
      ]
    },
    {
      "cell_type": "markdown",
      "metadata": {
        "id": "upI0Uls91sr6"
      },
      "source": [
        "#### **numpy.trace() // numpy.linalg.trace()**\n",
        "- Return the sum along diagonals of the array.\n",
        "- **Syntax**: `numpy.trace(a, offset=0, axis1=0, axis2=1, dtype=None, out=None)`\n"
      ]
    },
    {
      "cell_type": "markdown",
      "metadata": {
        "id": "0n66lKdZ2Iu5"
      },
      "source": [
        "  - a - Input array, from which diagonals are tekn\n",
        "  - offset - it's like adding or subtracting a number from all elements from that diagonal\n",
        "  - axes - If a has more than two dimensions, then the axes specified by axis1 and axis2 are used\n",
        "  - dtype - Determines the data-type of the returned array\n",
        "  - out - to save the output into something (it must be of the right shape to hold the output)"
      ]
    },
    {
      "cell_type": "code",
      "execution_count": 61,
      "metadata": {
        "colab": {
          "base_uri": "https://localhost:8080/"
        },
        "id": "82ABqq133LZv",
        "outputId": "7d7b9182-1987-4dc3-d484-2fa8ea252993"
      },
      "outputs": [
        {
          "data": {
            "text/plain": [
              "np.int64(15)"
            ]
          },
          "execution_count": 61,
          "metadata": {},
          "output_type": "execute_result"
        }
      ],
      "source": [
        "a = np.array([[1,2,3],[4,5,6],[7,8,9]])\n",
        "np.trace(a)"
      ]
    },
    {
      "cell_type": "code",
      "execution_count": 60,
      "metadata": {
        "colab": {
          "base_uri": "https://localhost:8080/"
        },
        "id": "bO6G1Jvg17lw",
        "outputId": "0827dd24-e980-4720-9c72-6741ed04fd4a"
      },
      "outputs": [
        {
          "data": {
            "text/plain": [
              "array([6, 8])"
            ]
          },
          "execution_count": 60,
          "metadata": {},
          "output_type": "execute_result"
        }
      ],
      "source": [
        "a = np.arange(8).reshape(2,2,2)\n",
        "np.trace(a)"
      ]
    },
    {
      "cell_type": "code",
      "execution_count": 63,
      "metadata": {
        "colab": {
          "base_uri": "https://localhost:8080/"
        },
        "id": "tiJSOEgq3YWp",
        "outputId": "a106e5ac-96b3-4f96-e0e3-ecec702f7734"
      },
      "outputs": [
        {
          "data": {
            "text/plain": [
              "(2, 2)"
            ]
          },
          "execution_count": 63,
          "metadata": {},
          "output_type": "execute_result"
        }
      ],
      "source": [
        "a = np.arange(24).reshape((2,2,2,3))\n",
        "np.linalg.trace(a).shape"
      ]
    },
    {
      "cell_type": "markdown",
      "metadata": {
        "id": "MqwhJwfg3kbf"
      },
      "source": [
        "#### **numpy.linalg.inv()**\n",
        "\n",
        "- Compute the inverse of a matrix.\n",
        "- **Syntax**: `numpy.linalg.inv(a)`\n",
        "\n",
        "Key points about matrix inverses:\n",
        "- **Square matrix requirement**: Only square matrices can have inverses.\n",
        "- **Non-singular condition**: A matrix is considered \"non-singular\" if its determinant is not zero, which is necessary for an inverse to exist.\n",
        "- **Identity matrix product**: The product of a matrix and its inverse always equals the identity matrix (I).\n",
        "\n",
        "If a is detected to be singular, a LinAlgError is raised. If a is ill-conditioned, a LinAlgError may or may not be raised, and results may be inaccurate due to floating-point errors."
      ]
    },
    {
      "cell_type": "code",
      "execution_count": 64,
      "metadata": {
        "colab": {
          "base_uri": "https://localhost:8080/"
        },
        "id": "aYytS0JL3eki",
        "outputId": "b020cdf7-6511-457e-98fd-c620aa37d59d"
      },
      "outputs": [
        {
          "data": {
            "text/plain": [
              "array([[-2. ,  1. ],\n",
              "       [ 1.5, -0.5]])"
            ]
          },
          "execution_count": 64,
          "metadata": {},
          "output_type": "execute_result"
        }
      ],
      "source": [
        "a = np.array([[1,2],[3,4]])\n",
        "a_inv = np.linalg.inv(a)\n",
        "a_inv"
      ]
    },
    {
      "cell_type": "code",
      "execution_count": 68,
      "metadata": {
        "colab": {
          "base_uri": "https://localhost:8080/"
        },
        "id": "ZZG9kEUi4goS",
        "outputId": "937eae61-cfa8-423c-bf47-74d006f2e385"
      },
      "outputs": [
        {
          "data": {
            "text/plain": [
              "True"
            ]
          },
          "execution_count": 68,
          "metadata": {},
          "output_type": "execute_result"
        }
      ],
      "source": [
        "np.allclose(a @ a_inv, np.eye(2)) # checks if matrix multiplication of our a and inverse of a is equal to identity matrix with similar shape or not"
      ]
    },
    {
      "cell_type": "code",
      "execution_count": 69,
      "metadata": {
        "colab": {
          "base_uri": "https://localhost:8080/"
        },
        "id": "nbTbeXXC43Fq",
        "outputId": "3b1974e1-49bc-4d15-9f36-16dc4b355247"
      },
      "outputs": [
        {
          "data": {
            "text/plain": [
              "array([[-1.12589991e+15, -5.62949953e+14,  5.62949953e+14],\n",
              "       [-1.12589991e+15, -5.62949953e+14,  5.62949953e+14],\n",
              "       [ 1.12589991e+15,  5.62949953e+14, -5.62949953e+14]])"
            ]
          },
          "execution_count": 69,
          "metadata": {},
          "output_type": "execute_result"
        }
      ],
      "source": [
        "# If a matrix is close to singular, the computed inverse may not satisfy a @ ainv = ainv @ a = eye(a.shape[0]) even if a LinAlgError is not raised:\n",
        "a = np.array([[2,4,6],[2,0,2],[6,8,14]])\n",
        "np.linalg.inv(a)"
      ]
    },
    {
      "cell_type": "code",
      "execution_count": 72,
      "metadata": {
        "colab": {
          "base_uri": "https://localhost:8080/"
        },
        "id": "tNrGO-5558TZ",
        "outputId": "14723af2-675a-4ac6-8060-c5604609ed8d"
      },
      "outputs": [
        {
          "data": {
            "text/plain": [
              "array([[ 0.  ,  0.  ,  0.  ],\n",
              "       [-0.5 ,  0.75,  0.25],\n",
              "       [ 0.  ,  0.  ,  1.  ]])"
            ]
          },
          "execution_count": 72,
          "metadata": {},
          "output_type": "execute_result"
        }
      ],
      "source": [
        "a @ np.linalg.inv(a) # may vary"
      ]
    },
    {
      "cell_type": "markdown",
      "metadata": {
        "id": "eyfr3Q_06IxI"
      },
      "source": [
        "To detect ill-conditioned matrices, you can use numpy.linalg.cond to compute its [condition number](https://www.cse.iitd.ac.in/~dheerajb/CS210_lect07.pdf). The larger the condition number, the more ill-conditioned the matrix is. As a rule of thumb, if the condition number cond(a) = 10**k, then you may lose up to k digits of accuracy on top of what would be lost to the numerical method due to loss of precision from arithmetic methods."
      ]
    },
    {
      "cell_type": "code",
      "execution_count": 73,
      "metadata": {
        "colab": {
          "base_uri": "https://localhost:8080/"
        },
        "id": "v3CW5uJ-6IF4",
        "outputId": "263bd4be-25de-4e67-96e1-733d2513a10f"
      },
      "outputs": [
        {
          "data": {
            "text/plain": [
              "np.float64(8.659885634118668e+17)"
            ]
          },
          "execution_count": 73,
          "metadata": {},
          "output_type": "execute_result"
        }
      ],
      "source": [
        "np.linalg.cond(a)"
      ]
    },
    {
      "cell_type": "code",
      "execution_count": 74,
      "metadata": {
        "colab": {
          "base_uri": "https://localhost:8080/"
        },
        "id": "KIV-ebvw5_DI",
        "outputId": "4e669a01-e040-4e70-bdad-32e031067da2"
      },
      "outputs": [
        {
          "data": {
            "text/plain": [
              "np.float64(8.659885634118668e+17)"
            ]
          },
          "execution_count": 74,
          "metadata": {},
          "output_type": "execute_result"
        }
      ],
      "source": [
        "# It is also possible to detect ill-conditioning by inspecting the matrix’s singular values directly.\n",
        "# The ratio between the largest and the smallest singular value is the condition number:\n",
        "sigma = np.linalg.svd(a, compute_uv=False)  # Do not compute singular vectors\n",
        "sigma.max()/sigma.min() # may vary"
      ]
    },
    {
      "cell_type": "markdown",
      "metadata": {
        "id": "ImaIp3Zv7Evq"
      },
      "source": [
        "#### References\n",
        "- [numpy.linalg](https://numpy.org/doc/stable/reference/routines.linalg.html)"
      ]
    }
  ],
  "metadata": {
    "colab": {
      "provenance": [],
      "toc_visible": true
    },
    "kernelspec": {
      "display_name": "Python 3",
      "name": "python3"
    },
    "language_info": {
      "name": "python"
    }
  },
  "nbformat": 4,
  "nbformat_minor": 0
}
