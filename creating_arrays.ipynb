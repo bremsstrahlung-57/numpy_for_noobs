{
  "nbformat": 4,
  "nbformat_minor": 0,
  "metadata": {
    "colab": {
      "provenance": []
    },
    "kernelspec": {
      "name": "python3",
      "display_name": "Python 3"
    },
    "language_info": {
      "name": "python"
    }
  },
  "cells": [
    {
      "cell_type": "markdown",
      "source": [
        "# Creating and Initializing Arrays"
      ],
      "metadata": {
        "id": "mk3Cpdi2-Y3U"
      }
    },
    {
      "cell_type": "code",
      "source": [
        "!pip install numpy --upgrade"
      ],
      "metadata": {
        "colab": {
          "base_uri": "https://localhost:8080/"
        },
        "id": "0kcOcGDvBZ-9",
        "outputId": "8b2cce90-1329-4670-d358-235d5735eef4"
      },
      "execution_count": 6,
      "outputs": [
        {
          "output_type": "stream",
          "name": "stdout",
          "text": [
            "Requirement already satisfied: numpy in /usr/local/lib/python3.11/dist-packages (2.2.3)\n"
          ]
        }
      ]
    },
    {
      "cell_type": "code",
      "source": [
        "import numpy as np"
      ],
      "metadata": {
        "id": "7amLjSKEBiX1"
      },
      "execution_count": null,
      "outputs": []
    },
    {
      "cell_type": "markdown",
      "source": [
        "### **np.array()**\n",
        "\n",
        "- Create arrays\n",
        "- **Syntax**: `numpy.array(object, dtype=None, *, copy=True, order='K', subok=False, ndmin=0, like=None)`\n",
        "    - object - list or nested-list that will be converted to array like [ [ 1 , 2 ] , [ 3 , 4 ] ]\n",
        "    - dtype - desired data-type for the array (defualt = int64 or int32)\n",
        "    - copy - If True (default), then the array data is copied\n",
        "    - order - Specify the memory layout of the array (see [docs](https://numpy.org/doc/stable/reference/generated/numpy.array.html) for more info)\n",
        "    - subok - If True, then sub-classes will be passed-through, otherwise the returned array will be forced to be a base-class array (default).\n",
        "    - ndim - Specifies the minimum number of dimensions that the resulting array should have\n",
        "    - like - Reference object to allow the creation of arrays which are not NumPy arrays.\n"
      ],
      "metadata": {
        "id": "rVSnLePQ-ef5"
      }
    },
    {
      "cell_type": "code",
      "execution_count": 5,
      "metadata": {
        "colab": {
          "base_uri": "https://localhost:8080/"
        },
        "id": "-DyRoPc59-6n",
        "outputId": "d514620b-3419-4b16-b00d-6b3cb8ee1ee3"
      },
      "outputs": [
        {
          "output_type": "execute_result",
          "data": {
            "text/plain": [
              "array([1, 2, 3])"
            ]
          },
          "metadata": {},
          "execution_count": 5
        }
      ],
      "source": [
        "np.array([1,2,3])"
      ]
    },
    {
      "cell_type": "code",
      "source": [
        "np.array([1, 2, 3.0])"
      ],
      "metadata": {
        "id": "7zbF0KR3BYKb",
        "colab": {
          "base_uri": "https://localhost:8080/"
        },
        "outputId": "322500b0-42ba-4c7b-bfa7-56b99702a312"
      },
      "execution_count": 8,
      "outputs": [
        {
          "output_type": "execute_result",
          "data": {
            "text/plain": [
              "array([1., 2., 3.])"
            ]
          },
          "metadata": {},
          "execution_count": 8
        }
      ]
    },
    {
      "cell_type": "code",
      "source": [
        "np.array([[1,2],[3,4]])"
      ],
      "metadata": {
        "colab": {
          "base_uri": "https://localhost:8080/"
        },
        "id": "aeE-7RcZBzk6",
        "outputId": "8317f191-c3ff-4964-a8bb-6f3ed045258b"
      },
      "execution_count": 9,
      "outputs": [
        {
          "output_type": "execute_result",
          "data": {
            "text/plain": [
              "array([[1, 2],\n",
              "       [3, 4]])"
            ]
          },
          "metadata": {},
          "execution_count": 9
        }
      ]
    },
    {
      "cell_type": "code",
      "source": [
        "np.array([1, 2, 3], ndmin=3)"
      ],
      "metadata": {
        "colab": {
          "base_uri": "https://localhost:8080/"
        },
        "id": "U91Icct2CC9-",
        "outputId": "bd72be86-cc5c-4ab2-c7d0-fc743b98fc15"
      },
      "execution_count": 11,
      "outputs": [
        {
          "output_type": "execute_result",
          "data": {
            "text/plain": [
              "array([[[1, 2, 3]]])"
            ]
          },
          "metadata": {},
          "execution_count": 11
        }
      ]
    },
    {
      "cell_type": "code",
      "source": [
        "np.array([1,2,3], dtype=complex)"
      ],
      "metadata": {
        "colab": {
          "base_uri": "https://localhost:8080/"
        },
        "id": "5nOl3q4rCDrw",
        "outputId": "7fac3c08-5bbd-4a03-962c-81a64585edf2"
      },
      "execution_count": 12,
      "outputs": [
        {
          "output_type": "execute_result",
          "data": {
            "text/plain": [
              "array([1.+0.j, 2.+0.j, 3.+0.j])"
            ]
          },
          "metadata": {},
          "execution_count": 12
        }
      ]
    },
    {
      "cell_type": "code",
      "source": [
        "np.array(np.asmatrix('1 2; 3 4'), subok=True)"
      ],
      "metadata": {
        "colab": {
          "base_uri": "https://localhost:8080/"
        },
        "id": "hklSufVfCIL8",
        "outputId": "408dec5a-61bd-4950-a83c-4917b24fd203"
      },
      "execution_count": 13,
      "outputs": [
        {
          "output_type": "execute_result",
          "data": {
            "text/plain": [
              "matrix([[1, 2],\n",
              "        [3, 4]])"
            ]
          },
          "metadata": {},
          "execution_count": 13
        }
      ]
    },
    {
      "cell_type": "markdown",
      "source": [
        "### **numpy.zeros()**\n",
        "- Return a new array of given shape and type, filled with zeros.\n",
        "- **Syntax**: `numpy.zeros(shape, dtype=float, order='C', *, like=None)`\n",
        "\n"
      ],
      "metadata": {
        "id": "QhOBj4wjDiLq"
      }
    },
    {
      "cell_type": "code",
      "source": [
        "np.zeros(5)"
      ],
      "metadata": {
        "colab": {
          "base_uri": "https://localhost:8080/"
        },
        "id": "WZ-ZE3XJCS6Y",
        "outputId": "40f58d53-89d0-44d2-8b4f-667957f76683"
      },
      "execution_count": 17,
      "outputs": [
        {
          "output_type": "execute_result",
          "data": {
            "text/plain": [
              "array([0., 0., 0., 0., 0.])"
            ]
          },
          "metadata": {},
          "execution_count": 17
        }
      ]
    },
    {
      "cell_type": "code",
      "source": [
        "np.zeros((5,), dtype=int)"
      ],
      "metadata": {
        "colab": {
          "base_uri": "https://localhost:8080/"
        },
        "id": "RXXx5ObND_Gh",
        "outputId": "bea419dc-8998-4f76-f3a6-c8b232cff5ce"
      },
      "execution_count": 18,
      "outputs": [
        {
          "output_type": "execute_result",
          "data": {
            "text/plain": [
              "array([0, 0, 0, 0, 0])"
            ]
          },
          "metadata": {},
          "execution_count": 18
        }
      ]
    },
    {
      "cell_type": "code",
      "source": [
        "np.zeros([2,2,3])"
      ],
      "metadata": {
        "colab": {
          "base_uri": "https://localhost:8080/"
        },
        "id": "TIgG3yKaD_Y1",
        "outputId": "038e9fcf-04c9-4cda-93bb-08183e54ef52"
      },
      "execution_count": 20,
      "outputs": [
        {
          "output_type": "execute_result",
          "data": {
            "text/plain": [
              "array([[[0., 0., 0.],\n",
              "        [0., 0., 0.]],\n",
              "\n",
              "       [[0., 0., 0.],\n",
              "        [0., 0., 0.]]])"
            ]
          },
          "metadata": {},
          "execution_count": 20
        }
      ]
    },
    {
      "cell_type": "code",
      "source": [
        "np.zeros((2,), dtype=[('x', 'i4'), ('y', 'i4')]) # custom dtype"
      ],
      "metadata": {
        "colab": {
          "base_uri": "https://localhost:8080/"
        },
        "id": "uF0LMplLEBj_",
        "outputId": "d07c7bc0-2602-4208-a1dd-cb49cdf4ce59"
      },
      "execution_count": 21,
      "outputs": [
        {
          "output_type": "execute_result",
          "data": {
            "text/plain": [
              "array([(0, 0), (0, 0)], dtype=[('x', '<i4'), ('y', '<i4')])"
            ]
          },
          "metadata": {},
          "execution_count": 21
        }
      ]
    },
    {
      "cell_type": "markdown",
      "source": [
        "### **numpy.zeros_like()**\n",
        "- Return an array of zeros with the same shape and type as a given array.\n",
        "- **Syntax**: `numpy.zeros_like(a, dtype=None, order='K', subok=True, shape=None, *, device=None)`\n",
        "  - device: The device on which to place the created array. (cpu or gpu)\n"
      ],
      "metadata": {
        "id": "pEgDwgIaEONT"
      }
    },
    {
      "cell_type": "code",
      "source": [
        "x = [[1,2,3],[2,5,6]]\n",
        "np.zeros_like(x)"
      ],
      "metadata": {
        "colab": {
          "base_uri": "https://localhost:8080/"
        },
        "id": "4jpXIfSYE3fw",
        "outputId": "f44000eb-ec42-41ad-e48b-0dfba87c5a56"
      },
      "execution_count": 32,
      "outputs": [
        {
          "output_type": "execute_result",
          "data": {
            "text/plain": [
              "array([[0, 0, 0],\n",
              "       [0, 0, 0]])"
            ]
          },
          "metadata": {},
          "execution_count": 32
        }
      ]
    },
    {
      "cell_type": "code",
      "source": [
        "x = np.arange(16).reshape((4, 4))\n",
        "np.zeros_like(x)"
      ],
      "metadata": {
        "colab": {
          "base_uri": "https://localhost:8080/"
        },
        "id": "181ddWGkE7Bm",
        "outputId": "7c3ef176-15c0-4022-b549-73d714d90dd9"
      },
      "execution_count": 33,
      "outputs": [
        {
          "output_type": "execute_result",
          "data": {
            "text/plain": [
              "array([[0, 0, 0, 0],\n",
              "       [0, 0, 0, 0],\n",
              "       [0, 0, 0, 0],\n",
              "       [0, 0, 0, 0]])"
            ]
          },
          "metadata": {},
          "execution_count": 33
        }
      ]
    },
    {
      "cell_type": "markdown",
      "source": [
        "### **numpy.ones()**\n",
        "- same as zeros() but with 1\n",
        "- **Syntax**: `numpy.ones(shape, dtype=None, order='C', *, device=None, like=None)`"
      ],
      "metadata": {
        "id": "SIMlvh_pFIbv"
      }
    },
    {
      "cell_type": "code",
      "source": [
        "np.ones(5)"
      ],
      "metadata": {
        "colab": {
          "base_uri": "https://localhost:8080/"
        },
        "id": "ofvIOifbFAmP",
        "outputId": "c7d4d4b5-9f27-46f9-aacd-3e227a59340a"
      },
      "execution_count": 34,
      "outputs": [
        {
          "output_type": "execute_result",
          "data": {
            "text/plain": [
              "array([1., 1., 1., 1., 1.])"
            ]
          },
          "metadata": {},
          "execution_count": 34
        }
      ]
    },
    {
      "cell_type": "code",
      "source": [
        "np.ones((5), dtype=int)"
      ],
      "metadata": {
        "colab": {
          "base_uri": "https://localhost:8080/"
        },
        "id": "dJg0xvGtFbe2",
        "outputId": "780fad75-7d97-4472-896f-3e35ba4e3fb0"
      },
      "execution_count": 35,
      "outputs": [
        {
          "output_type": "execute_result",
          "data": {
            "text/plain": [
              "array([1, 1, 1, 1, 1])"
            ]
          },
          "metadata": {},
          "execution_count": 35
        }
      ]
    },
    {
      "cell_type": "code",
      "source": [
        "np.ones([4,4])"
      ],
      "metadata": {
        "colab": {
          "base_uri": "https://localhost:8080/"
        },
        "id": "ylSCI4oEFfMO",
        "outputId": "a4a0f45d-553b-41ae-bf83-a6ec45b2451a"
      },
      "execution_count": 36,
      "outputs": [
        {
          "output_type": "execute_result",
          "data": {
            "text/plain": [
              "array([[1., 1., 1., 1.],\n",
              "       [1., 1., 1., 1.],\n",
              "       [1., 1., 1., 1.],\n",
              "       [1., 1., 1., 1.]])"
            ]
          },
          "metadata": {},
          "execution_count": 36
        }
      ]
    },
    {
      "cell_type": "markdown",
      "source": [
        "### **numpy.ones_like()**\n",
        "- Same as zeros_like but with 1\n",
        "- **Syntax**: `numpy.ones_like(a, dtype=None, order='K', subok=True, shape=None, *, device=None`"
      ],
      "metadata": {
        "id": "pPD1vJdiFjY4"
      }
    },
    {
      "cell_type": "code",
      "source": [
        "x = [[1,2,3],[2,5,6]]\n",
        "np.ones_like(x)"
      ],
      "metadata": {
        "colab": {
          "base_uri": "https://localhost:8080/"
        },
        "id": "dMIUrw9BFhbQ",
        "outputId": "e333d5b9-89c0-46a7-94a8-713e6a5e646b"
      },
      "execution_count": 37,
      "outputs": [
        {
          "output_type": "execute_result",
          "data": {
            "text/plain": [
              "array([[1, 1, 1],\n",
              "       [1, 1, 1]])"
            ]
          },
          "metadata": {},
          "execution_count": 37
        }
      ]
    },
    {
      "cell_type": "code",
      "source": [
        "x = np.arange(16).reshape((4, 4))\n",
        "np.ones_like(x)"
      ],
      "metadata": {
        "colab": {
          "base_uri": "https://localhost:8080/"
        },
        "id": "pfNR7TByF2j-",
        "outputId": "1d903a35-3d67-4682-db1e-f8984995590f"
      },
      "execution_count": 38,
      "outputs": [
        {
          "output_type": "execute_result",
          "data": {
            "text/plain": [
              "array([[1, 1, 1, 1],\n",
              "       [1, 1, 1, 1],\n",
              "       [1, 1, 1, 1],\n",
              "       [1, 1, 1, 1]])"
            ]
          },
          "metadata": {},
          "execution_count": 38
        }
      ]
    },
    {
      "cell_type": "markdown",
      "source": [
        "### **numpy.full()**\n",
        "- Return a new array of given shape and type, filled with *fill_value*.\n",
        "- **Syntax**: `numpy.full(shape, fill_value, dtype=None, order='C', *, device=None, like=None)`"
      ],
      "metadata": {
        "id": "wwEAwb5DKqKb"
      }
    },
    {
      "cell_type": "code",
      "source": [
        "np.full((2, 2), np.inf)"
      ],
      "metadata": {
        "colab": {
          "base_uri": "https://localhost:8080/"
        },
        "id": "5xjh4E69K4cY",
        "outputId": "79ff5e1b-ae65-46c7-cf23-b5cfb93a73f5"
      },
      "execution_count": 39,
      "outputs": [
        {
          "output_type": "execute_result",
          "data": {
            "text/plain": [
              "array([[inf, inf],\n",
              "       [inf, inf]])"
            ]
          },
          "metadata": {},
          "execution_count": 39
        }
      ]
    },
    {
      "cell_type": "code",
      "source": [
        "np.full((4,4),[1,2,3,4])"
      ],
      "metadata": {
        "colab": {
          "base_uri": "https://localhost:8080/"
        },
        "id": "u0gK_RUcK9DL",
        "outputId": "7d990bcf-8f5c-48c1-af8c-9a62e381b30c"
      },
      "execution_count": 40,
      "outputs": [
        {
          "output_type": "execute_result",
          "data": {
            "text/plain": [
              "array([[1, 2, 3, 4],\n",
              "       [1, 2, 3, 4],\n",
              "       [1, 2, 3, 4],\n",
              "       [1, 2, 3, 4]])"
            ]
          },
          "metadata": {},
          "execution_count": 40
        }
      ]
    },
    {
      "cell_type": "markdown",
      "source": [
        "### **numpy.empty()**\n",
        "- Return a new array of given shape and type, without initializing entries.\n",
        "- **Syntax**: `numpy.empty(shape, dtype=float, order='C', *, device=None, like=None)`"
      ],
      "metadata": {
        "id": "SXbt6Nt_GB1d"
      }
    },
    {
      "cell_type": "code",
      "source": [
        "np.empty([2, 2]) # uninitialized"
      ],
      "metadata": {
        "colab": {
          "base_uri": "https://localhost:8080/"
        },
        "id": "-BcgjQ0DF5MG",
        "outputId": "58162456-7097-4387-885c-05d2d91df3b0"
      },
      "execution_count": 41,
      "outputs": [
        {
          "output_type": "execute_result",
          "data": {
            "text/plain": [
              "array([[4.9e-324, 9.9e-324],\n",
              "       [1.5e-323, 2.0e-323]])"
            ]
          },
          "metadata": {},
          "execution_count": 41
        }
      ]
    },
    {
      "cell_type": "code",
      "source": [
        "np.empty([2, 2], dtype=int) # uninitialized"
      ],
      "metadata": {
        "colab": {
          "base_uri": "https://localhost:8080/"
        },
        "id": "1qHS9NJ3LLVo",
        "outputId": "f6479cae-2b7b-4a93-d840-5d43e546e94b"
      },
      "execution_count": 43,
      "outputs": [
        {
          "output_type": "execute_result",
          "data": {
            "text/plain": [
              "array([[1, 2],\n",
              "       [3, 4]])"
            ]
          },
          "metadata": {},
          "execution_count": 43
        }
      ]
    },
    {
      "cell_type": "markdown",
      "source": [
        "### **numpy.empty_like()**\n",
        "- Return a new array with the same shape and type as a given array.\n",
        "- **Syntax**: `numpy.empty_like(prototype, dtype=None, order='K', subok=True, shape=None, *, device=None)`\n"
      ],
      "metadata": {
        "id": "hWZScXf3LRCk"
      }
    },
    {
      "cell_type": "code",
      "source": [
        "a = ([1,2,3], [4,5,6])\n",
        "np.empty_like(a) # uninitialized\n"
      ],
      "metadata": {
        "colab": {
          "base_uri": "https://localhost:8080/"
        },
        "id": "rh5RiUcNLNE_",
        "outputId": "20736794-ac46-4166-c707-5131d520198b"
      },
      "execution_count": 45,
      "outputs": [
        {
          "output_type": "execute_result",
          "data": {
            "text/plain": [
              "array([[      102683177,               0, 140550553073456],\n",
              "       [       10798352, 140549106399984, 140550553073840]])"
            ]
          },
          "metadata": {},
          "execution_count": 45
        }
      ]
    },
    {
      "cell_type": "code",
      "source": [
        "a = [[1.1,2.2,3.3],[4.4,5.5,6.6]]\n",
        "np.empty_like(a) # uninitialized"
      ],
      "metadata": {
        "colab": {
          "base_uri": "https://localhost:8080/"
        },
        "id": "I2n-GYRlLe-t",
        "outputId": "ea623c55-1278-4833-bdb8-b6412a30e0c1"
      },
      "execution_count": 46,
      "outputs": [
        {
          "output_type": "execute_result",
          "data": {
            "text/plain": [
              "array([[2.91070381e-316, 0.00000000e+000, 5.19201334e-316],\n",
              "       [6.94412048e-310, 5.09145399e-316, 6.94404863e-310]])"
            ]
          },
          "metadata": {},
          "execution_count": 46
        }
      ]
    },
    {
      "cell_type": "markdown",
      "source": [
        "### **numpy.eye()**\n",
        "- Return a 2-D array with ones on the diagonal and zeros elsewhere.\n",
        "- **Syntax**: `numpy.eye(N, M=None, k=0, dtype=<class 'float'>, order='C', *, device=None, like=None)`\n",
        "  - N - Number of rows in the output.\n",
        "  - M - Number of columns in the output. If None, defaults to N.\n",
        "  - k - Index of the diagonal: 0 (the default) refers to the main diagonal, a positive value refers to an upper diagonal, and a negative value to a lower diagonal.\n"
      ],
      "metadata": {
        "id": "2QfuqAHBLuWl"
      }
    },
    {
      "cell_type": "code",
      "source": [
        "np.eye(2, dtype=int)"
      ],
      "metadata": {
        "colab": {
          "base_uri": "https://localhost:8080/"
        },
        "id": "WV5CpgxkLrAm",
        "outputId": "78beae3a-2053-465f-cc19-e7097f8e44ee"
      },
      "execution_count": 47,
      "outputs": [
        {
          "output_type": "execute_result",
          "data": {
            "text/plain": [
              "array([[1, 0],\n",
              "       [0, 1]])"
            ]
          },
          "metadata": {},
          "execution_count": 47
        }
      ]
    },
    {
      "cell_type": "code",
      "source": [
        "np.eye(3, k=1), np.eye(3, k=0)"
      ],
      "metadata": {
        "colab": {
          "base_uri": "https://localhost:8080/"
        },
        "id": "WCzrwxHSMIw3",
        "outputId": "1fda80e6-c913-4345-d8a3-92e4d5d7b476"
      },
      "execution_count": 52,
      "outputs": [
        {
          "output_type": "execute_result",
          "data": {
            "text/plain": [
              "(array([[0., 1., 0.],\n",
              "        [0., 0., 1.],\n",
              "        [0., 0., 0.]]),\n",
              " array([[1., 0., 0.],\n",
              "        [0., 1., 0.],\n",
              "        [0., 0., 1.]]))"
            ]
          },
          "metadata": {},
          "execution_count": 52
        }
      ]
    },
    {
      "cell_type": "markdown",
      "source": [
        "### **numpy.identity()**\n",
        "- Return the identity array.The identity array is a square array with ones on the main diagonal.\n",
        "- **Syntax**: `numpy.identity(n, dtype=None, *, like=None)`"
      ],
      "metadata": {
        "id": "JVb4haBnMaa-"
      }
    },
    {
      "cell_type": "code",
      "source": [
        "np.identity(3)"
      ],
      "metadata": {
        "colab": {
          "base_uri": "https://localhost:8080/"
        },
        "id": "S4ljXUbCMZX3",
        "outputId": "d9460026-81c9-4364-fbe7-263ef1562502"
      },
      "execution_count": 53,
      "outputs": [
        {
          "output_type": "execute_result",
          "data": {
            "text/plain": [
              "array([[1., 0., 0.],\n",
              "       [0., 1., 0.],\n",
              "       [0., 0., 1.]])"
            ]
          },
          "metadata": {},
          "execution_count": 53
        }
      ]
    },
    {
      "cell_type": "markdown",
      "source": [
        "### **numpy.arange()**\n",
        "- Return evenly spaced values within a given interval.\n",
        "- **Syntax**: `numpy.arange([start, ]stop, [step, ]dtype=None, *, device=None, like=None)`"
      ],
      "metadata": {
        "id": "zIvDz-mkMwHO"
      }
    },
    {
      "cell_type": "code",
      "source": [
        "np.arange(4)"
      ],
      "metadata": {
        "colab": {
          "base_uri": "https://localhost:8080/"
        },
        "id": "Ad63UwSAMLjG",
        "outputId": "788c8641-51cc-42d6-d6d3-752664c18dc1"
      },
      "execution_count": 54,
      "outputs": [
        {
          "output_type": "execute_result",
          "data": {
            "text/plain": [
              "array([0, 1, 2, 3])"
            ]
          },
          "metadata": {},
          "execution_count": 54
        }
      ]
    },
    {
      "cell_type": "code",
      "source": [
        "np.arange(3,7)"
      ],
      "metadata": {
        "colab": {
          "base_uri": "https://localhost:8080/"
        },
        "id": "8F0KWvGsNa46",
        "outputId": "26810992-c9ff-4130-ddae-c8a53c866113"
      },
      "execution_count": 57,
      "outputs": [
        {
          "output_type": "execute_result",
          "data": {
            "text/plain": [
              "array([3, 4, 5, 6])"
            ]
          },
          "metadata": {},
          "execution_count": 57
        }
      ]
    },
    {
      "cell_type": "code",
      "source": [
        "np.arange(1,10,2)"
      ],
      "metadata": {
        "colab": {
          "base_uri": "https://localhost:8080/"
        },
        "id": "QMMbblbgNdd4",
        "outputId": "b0ea3e32-684f-45fc-9b4d-94b20a824a6a"
      },
      "execution_count": 58,
      "outputs": [
        {
          "output_type": "execute_result",
          "data": {
            "text/plain": [
              "array([1, 3, 5, 7, 9])"
            ]
          },
          "metadata": {},
          "execution_count": 58
        }
      ]
    },
    {
      "cell_type": "markdown",
      "source": [
        "### **numpy.linspace()**\n",
        "- Return evenly spaced numbers over a specified interval.\n",
        "- **Syntax**: `numpy.linspace(start, stop, num=50, endpoint=True, retstep=False, dtype=None, axis=0, *, device=None)`"
      ],
      "metadata": {
        "id": "e5ifX22ANqLx"
      }
    },
    {
      "cell_type": "code",
      "source": [
        "np.linspace(2.0, 3.0, num=5)"
      ],
      "metadata": {
        "colab": {
          "base_uri": "https://localhost:8080/"
        },
        "id": "-UiRHVQcNl5j",
        "outputId": "6fe6afc0-fc7b-4b70-f3ef-23d15a43fd5d"
      },
      "execution_count": 59,
      "outputs": [
        {
          "output_type": "execute_result",
          "data": {
            "text/plain": [
              "array([2.  , 2.25, 2.5 , 2.75, 3.  ])"
            ]
          },
          "metadata": {},
          "execution_count": 59
        }
      ]
    },
    {
      "cell_type": "code",
      "source": [
        "np.linspace(2.0, 3.0, num=5, endpoint=False)"
      ],
      "metadata": {
        "colab": {
          "base_uri": "https://localhost:8080/"
        },
        "id": "z9q1WyvqOIBN",
        "outputId": "b07feab5-a2a6-4a7a-f6db-e91569262883"
      },
      "execution_count": 60,
      "outputs": [
        {
          "output_type": "execute_result",
          "data": {
            "text/plain": [
              "array([2. , 2.2, 2.4, 2.6, 2.8])"
            ]
          },
          "metadata": {},
          "execution_count": 60
        }
      ]
    },
    {
      "cell_type": "code",
      "source": [
        "np.linspace(2.0, 3.0, num=5, retstep=True)"
      ],
      "metadata": {
        "colab": {
          "base_uri": "https://localhost:8080/"
        },
        "id": "8fipuOegOMNi",
        "outputId": "2c22e471-9eb1-436f-8d32-a729e6ac9bb1"
      },
      "execution_count": 61,
      "outputs": [
        {
          "output_type": "execute_result",
          "data": {
            "text/plain": [
              "(array([2.  , 2.25, 2.5 , 2.75, 3.  ]), 0.25)"
            ]
          },
          "metadata": {},
          "execution_count": 61
        }
      ]
    },
    {
      "cell_type": "markdown",
      "source": [
        "- Use `np.arange()` when you care about step size.\n",
        "- Use `np.linspace()` when you care about the number of points.\n",
        "- `np.linspace()` is better for floating-point numbers because it's more precise.\n",
        "- Which one should you use?\n",
        "  - If you want fixed spacing, go with `arange()`.\n",
        "  - If you want a specific number of points, go with `linspace()`."
      ],
      "metadata": {
        "id": "csXBAb6UOyvO"
      }
    },
    {
      "cell_type": "markdown",
      "source": [
        "### **np.random.rand()**\n",
        "- Random values in a given shape.\n",
        "- **Syntax**: `random.rand(d0, d1, ..., dn)`\n"
      ],
      "metadata": {
        "id": "Drgc_EPkPsHI"
      }
    },
    {
      "cell_type": "code",
      "source": [
        "np.random.rand(3,2) # Random samples from uniform distribution (0,1)"
      ],
      "metadata": {
        "colab": {
          "base_uri": "https://localhost:8080/"
        },
        "id": "MoE_UOejON7h",
        "outputId": "42e2b44d-5b08-4278-e308-1fd6e1b033dd"
      },
      "execution_count": 64,
      "outputs": [
        {
          "output_type": "execute_result",
          "data": {
            "text/plain": [
              "array([[0.74081427, 0.8902915 ],\n",
              "       [0.06520686, 0.05130925],\n",
              "       [0.91891829, 0.75443934]])"
            ]
          },
          "metadata": {},
          "execution_count": 64
        }
      ]
    },
    {
      "cell_type": "markdown",
      "source": [
        "### **np.random.randn()**\n",
        "- Random samples from normal distribution\n",
        "- **Syntax**: `numpy.random.randn(d0, d1, ..., dn)`"
      ],
      "metadata": {
        "id": "atb2YdryQDz8"
      }
    },
    {
      "cell_type": "code",
      "source": [
        "np.random.randn()"
      ],
      "metadata": {
        "colab": {
          "base_uri": "https://localhost:8080/"
        },
        "id": "GZN7onxbQAkc",
        "outputId": "44612940-862f-4e81-ec23-18ce1aa87d62"
      },
      "execution_count": 65,
      "outputs": [
        {
          "output_type": "execute_result",
          "data": {
            "text/plain": [
              "0.290879005383138"
            ]
          },
          "metadata": {},
          "execution_count": 65
        }
      ]
    },
    {
      "cell_type": "code",
      "source": [
        "10 + 2 * np.random.randn(2, 4) # Two-by-four array of samples from the normal distribution with mean 3 and standard deviation 2.5"
      ],
      "metadata": {
        "colab": {
          "base_uri": "https://localhost:8080/"
        },
        "id": "sKdVQJh-Qehe",
        "outputId": "3dc6c4b1-db82-4254-ab56-2d2e2cdd0d81"
      },
      "execution_count": 67,
      "outputs": [
        {
          "output_type": "execute_result",
          "data": {
            "text/plain": [
              "array([[ 9.33516862,  7.40641078,  8.42549359, 11.8776971 ],\n",
              "       [11.5933156 , 10.92857404,  9.18557111, 11.19032411]])"
            ]
          },
          "metadata": {},
          "execution_count": 67
        }
      ]
    },
    {
      "cell_type": "markdown",
      "source": [
        "For random samples from the normal distribution with mean *mu* and standard deviation *sigma*, use:\n",
        "\n",
        "`sigma * np.random.randn(...) + mu`"
      ],
      "metadata": {
        "id": "iptujGhjQtSo"
      }
    },
    {
      "cell_type": "markdown",
      "source": [
        "### **np.random.randint()**\n",
        "- Random integers in a given range\n",
        "- **Syntax**: `numpy.random.randint(low, high=None, size=None, dtype=int)`"
      ],
      "metadata": {
        "id": "LnLNL2A4Q7D-"
      }
    },
    {
      "cell_type": "code",
      "source": [
        "np.random.randint(2, size=10)"
      ],
      "metadata": {
        "colab": {
          "base_uri": "https://localhost:8080/"
        },
        "id": "xK9p5LchRg9z",
        "outputId": "dd308c07-3ffb-47ce-93ef-6f6776f53f5a"
      },
      "execution_count": 71,
      "outputs": [
        {
          "output_type": "execute_result",
          "data": {
            "text/plain": [
              "array([0, 0, 1, 0, 0, 0, 1, 0, 1, 1])"
            ]
          },
          "metadata": {},
          "execution_count": 71
        }
      ]
    },
    {
      "cell_type": "code",
      "source": [
        "np.random.randint(2, 20, size=10)"
      ],
      "metadata": {
        "colab": {
          "base_uri": "https://localhost:8080/"
        },
        "id": "r4QF3M35QhSX",
        "outputId": "0f363a61-644c-41d3-e207-94de951bde38"
      },
      "execution_count": 68,
      "outputs": [
        {
          "output_type": "execute_result",
          "data": {
            "text/plain": [
              "array([ 4, 18, 10,  2, 10,  5,  4,  7, 12, 16])"
            ]
          },
          "metadata": {},
          "execution_count": 68
        }
      ]
    },
    {
      "cell_type": "code",
      "source": [
        "np.random.randint(0,4, size=(2,4))"
      ],
      "metadata": {
        "colab": {
          "base_uri": "https://localhost:8080/"
        },
        "id": "JBOq45sLRShh",
        "outputId": "8eb55be0-e0d1-4e9d-e47b-71a0064ae455"
      },
      "execution_count": 70,
      "outputs": [
        {
          "output_type": "execute_result",
          "data": {
            "text/plain": [
              "array([[1, 0, 0, 3],\n",
              "       [1, 1, 1, 3]])"
            ]
          },
          "metadata": {},
          "execution_count": 70
        }
      ]
    },
    {
      "cell_type": "code",
      "source": [
        "np.random.randint(1,[3,5,7]) # a 1 x 3 array with 3 different upper bounds"
      ],
      "metadata": {
        "colab": {
          "base_uri": "https://localhost:8080/"
        },
        "id": "NnZPLc2kRa-B",
        "outputId": "68aa0f6c-8c13-4543-e669-150bea893ddb"
      },
      "execution_count": 72,
      "outputs": [
        {
          "output_type": "execute_result",
          "data": {
            "text/plain": [
              "array([2, 4, 4])"
            ]
          },
          "metadata": {},
          "execution_count": 72
        }
      ]
    },
    {
      "cell_type": "code",
      "source": [
        "np.random.randint([1,2,3],5)# a 1 by 3 array with 3 different lower bounds"
      ],
      "metadata": {
        "colab": {
          "base_uri": "https://localhost:8080/"
        },
        "id": "lrjkEHw8RtX8",
        "outputId": "ca2b0670-bf4f-4441-80ab-c8bc6717db99"
      },
      "execution_count": 73,
      "outputs": [
        {
          "output_type": "execute_result",
          "data": {
            "text/plain": [
              "array([1, 3, 3])"
            ]
          },
          "metadata": {},
          "execution_count": 73
        }
      ]
    },
    {
      "cell_type": "code",
      "source": [
        "np.random.randint([1, 3, 5, 7], [[10], [20]], dtype=np.uint8)\n",
        "# a 2 by 4 array using broadcasting with dtype of uint8\n",
        "# numpy generates this code like this\n",
        "\n",
        "# np.random.randint([[1, 3, 5, 7],\n",
        "#                   [1, 3, 5, 7]],\n",
        "#                  [[10, 10, 10, 10],\n",
        "#                   [20, 20, 20, 20]], dtype=np.uint8)\n",
        "#\n",
        "# So NumPy will generate a (2,4) array where:\n",
        "# Row 1 → Random numbers between [1-10], [3-10], [5-10], [7-10].\n",
        "# Row 2 → Random numbers between [1-20], [3-20], [5-20], [7-20].\n"
      ],
      "metadata": {
        "colab": {
          "base_uri": "https://localhost:8080/"
        },
        "id": "62vwQb6qRzdo",
        "outputId": "d918c6de-d72e-493c-eaca-6ec518acd3ba"
      },
      "execution_count": 76,
      "outputs": [
        {
          "output_type": "execute_result",
          "data": {
            "text/plain": [
              "array([[ 6,  6,  9,  9],\n",
              "       [ 3,  4, 18, 11]], dtype=uint8)"
            ]
          },
          "metadata": {},
          "execution_count": 76
        }
      ]
    },
    {
      "cell_type": "markdown",
      "source": [
        "### Reference\n",
        "- [numpy](https://numpy.org/doc/stable/user/index.html#user)"
      ],
      "metadata": {
        "id": "kdxlhnKrTM1o"
      }
    }
  ]
}