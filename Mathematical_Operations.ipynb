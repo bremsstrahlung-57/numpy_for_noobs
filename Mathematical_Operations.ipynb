{
  "nbformat": 4,
  "nbformat_minor": 0,
  "metadata": {
    "colab": {
      "provenance": [],
      "gpuType": "V28"
    },
    "kernelspec": {
      "name": "python3",
      "display_name": "Python 3"
    },
    "language_info": {
      "name": "python"
    },
    "accelerator": "TPU"
  },
  "cells": [
    {
      "cell_type": "markdown",
      "source": [
        "# Mathematical Operations"
      ],
      "metadata": {
        "id": "6lIo3nzhiR0L"
      }
    },
    {
      "cell_type": "markdown",
      "source": [
        "### Prerequisites\n",
        "If you dont know basic trignometry , logarithmic or exponential functions/operations, I would suggest you to learn them first.\n",
        "- [Exponents and Logarithms](https://www.mathsisfun.com/algebra/exponents-logarithms.html)\n",
        "- [Trignometry](https://www.mathsisfun.com/algebra/trigonometry.html)"
      ],
      "metadata": {
        "id": "IcQtqg3xm8Sa"
      }
    },
    {
      "cell_type": "code",
      "source": [
        "!pip install numpy --upgrade"
      ],
      "metadata": {
        "colab": {
          "base_uri": "https://localhost:8080/"
        },
        "id": "LJARuWNliIHV",
        "outputId": "211d5840-e0ec-47a9-e1a7-5b6384c39b9a"
      },
      "execution_count": 1,
      "outputs": [
        {
          "output_type": "stream",
          "name": "stdout",
          "text": [
            "Requirement already satisfied: numpy in /usr/local/lib/python3.11/dist-packages (2.2.3)\n"
          ]
        }
      ]
    },
    {
      "cell_type": "code",
      "execution_count": 2,
      "metadata": {
        "id": "udknOQ2ohvTe"
      },
      "outputs": [],
      "source": [
        "import numpy as np"
      ]
    },
    {
      "cell_type": "markdown",
      "source": [
        "### Power\n",
        "- Element-wise exponentiation\n",
        "- **Syntax**:  `numpy.power(x1, x2, /, out=None, *, where=True, casting='same_kind', order='K', dtype=None, subok=True[, signature]) = <ufunc 'power'>`"
      ],
      "metadata": {
        "id": "xK29fWJqiWEh"
      }
    },
    {
      "cell_type": "code",
      "source": [
        "x1 = np.array([1,2,3])\n",
        "np.power(x1, 2)"
      ],
      "metadata": {
        "colab": {
          "base_uri": "https://localhost:8080/"
        },
        "id": "OJVE6Ap9hzB1",
        "outputId": "c51809bc-41eb-4e61-bcd2-c63807957d49"
      },
      "execution_count": 3,
      "outputs": [
        {
          "output_type": "execute_result",
          "data": {
            "text/plain": [
              "array([1, 4, 9])"
            ]
          },
          "metadata": {},
          "execution_count": 3
        }
      ]
    },
    {
      "cell_type": "code",
      "source": [
        "x2 = [1.0, 2.0, 3.0]\n",
        "np.power(x1, x2)"
      ],
      "metadata": {
        "colab": {
          "base_uri": "https://localhost:8080/"
        },
        "id": "FBLawy1OjAjp",
        "outputId": "a08ecff3-6994-4fa2-f361-f66cf00286af"
      },
      "execution_count": 5,
      "outputs": [
        {
          "output_type": "execute_result",
          "data": {
            "text/plain": [
              "array([ 1.,  4., 27.])"
            ]
          },
          "metadata": {},
          "execution_count": 5
        }
      ]
    },
    {
      "cell_type": "code",
      "source": [
        "a = np.array([1,2,3,4,5,6])\n",
        "b = np.array([[1, 2, 3, 3, 2, 1], [1, 2, 3, 3, 2, 1]])\n",
        "np.power(a,b)"
      ],
      "metadata": {
        "colab": {
          "base_uri": "https://localhost:8080/"
        },
        "id": "31BbygWIjCnf",
        "outputId": "ec6d5ac9-dee2-45b8-ae3f-7deba92f71dc"
      },
      "execution_count": 6,
      "outputs": [
        {
          "output_type": "execute_result",
          "data": {
            "text/plain": [
              "array([[ 1,  4, 27, 64, 25,  6],\n",
              "       [ 1,  4, 27, 64, 25,  6]])"
            ]
          },
          "metadata": {},
          "execution_count": 6
        }
      ]
    },
    {
      "cell_type": "markdown",
      "source": [
        "Negative values raised to a non-integral value will result in `nan`"
      ],
      "metadata": {
        "id": "xUQASAiwjaUX"
      }
    },
    {
      "cell_type": "markdown",
      "source": [
        "### exp\n",
        "- Exponential function $e^{x}$\n",
        "- **Syntax**: `numpy.exp(x, /, out=None, *, where=True, casting='same_kind', order='K', dtype=None, subok=True[, signature]) = <ufunc 'exp'>`\n",
        "\n",
        "- The irrational number e is also known as Euler’s number. It is approximately 2.718281, and is the base of the natural logarithm, ln"
      ],
      "metadata": {
        "id": "95g1Q08ejhYy"
      }
    },
    {
      "cell_type": "code",
      "source": [
        "np.exp(4)"
      ],
      "metadata": {
        "colab": {
          "base_uri": "https://localhost:8080/"
        },
        "id": "JrTeUNGVjQPJ",
        "outputId": "66bb67f6-2d18-43ee-828a-ccea27cad875"
      },
      "execution_count": 8,
      "outputs": [
        {
          "output_type": "execute_result",
          "data": {
            "text/plain": [
              "np.float64(54.598150033144236)"
            ]
          },
          "metadata": {},
          "execution_count": 8
        }
      ]
    },
    {
      "cell_type": "code",
      "source": [
        "x = np.linspace(-2*np.pi, 2*np.pi, 10)\n",
        "np.exp(x)"
      ],
      "metadata": {
        "colab": {
          "base_uri": "https://localhost:8080/"
        },
        "id": "o08qhQTrjUAx",
        "outputId": "4cc4a73d-c1f0-4fa4-d61f-7f54a19693d1"
      },
      "execution_count": 12,
      "outputs": [
        {
          "output_type": "execute_result",
          "data": {
            "text/plain": [
              "array([1.86744273e-03, 7.54460979e-03, 3.04807938e-02, 1.23144711e-01,\n",
              "       4.97513941e-01, 2.00999393e+00, 8.12052740e+00, 3.28075445e+01,\n",
              "       1.32544960e+02, 5.35491656e+02])"
            ]
          },
          "metadata": {},
          "execution_count": 12
        }
      ]
    },
    {
      "cell_type": "markdown",
      "source": [
        "### log\n",
        "- Natural logarithm\n",
        "- **Syntax**: `numpy.log(x, /, out=None, *, where=True, casting='same_kind', order='K', dtype=None, subok=True[, signature]) = <ufunc 'log'>`\n",
        "- The natural logarithm log is the inverse of the exponential function, so that log(exp(x)) = x. The natural logarithm is logarithm in base e.\n",
        "\n"
      ],
      "metadata": {
        "id": "tMhQ8ba8k7tj"
      }
    },
    {
      "cell_type": "code",
      "source": [
        "x = np.array([1,2,3,4,5])\n",
        "np.log(x)"
      ],
      "metadata": {
        "colab": {
          "base_uri": "https://localhost:8080/"
        },
        "id": "zLq6NGaOkx9S",
        "outputId": "f77f86f3-5f0f-4aad-ecaa-fcabe5353188"
      },
      "execution_count": 15,
      "outputs": [
        {
          "output_type": "execute_result",
          "data": {
            "text/plain": [
              "array([0.        , 0.69314718, 1.09861229, 1.38629436, 1.60943791])"
            ]
          },
          "metadata": {},
          "execution_count": 15
        }
      ]
    },
    {
      "cell_type": "markdown",
      "source": [
        "### log10\n",
        "- Base-10 logarithm\n",
        "- **Syntax**: `numpy.log10(x, /, out=None, *, where=True, casting='same_kind', order='K', dtype=None, subok=True[, signature]) = <ufunc 'log10'>`"
      ],
      "metadata": {
        "id": "1tVDbw_olVQa"
      }
    },
    {
      "cell_type": "code",
      "source": [
        "np.log10([1,20,3,100])"
      ],
      "metadata": {
        "colab": {
          "base_uri": "https://localhost:8080/"
        },
        "id": "JpItT0k5lPAr",
        "outputId": "5e151358-3244-48f8-ef18-678cb5dc42e3"
      },
      "execution_count": 20,
      "outputs": [
        {
          "output_type": "execute_result",
          "data": {
            "text/plain": [
              "array([0.        , 1.30103   , 0.47712125, 2.        ])"
            ]
          },
          "metadata": {},
          "execution_count": 20
        }
      ]
    },
    {
      "cell_type": "markdown",
      "source": [
        "### sqrt\n",
        "- Square root\n",
        "- **Syntax**: `numpy.sqrt(x, /, out=None, *, where=True, casting='same_kind', order='K', dtype=None, subok=True[, signature]) = <ufunc 'sqrt'>`"
      ],
      "metadata": {
        "id": "jIf6qS1vlsQ6"
      }
    },
    {
      "cell_type": "code",
      "source": [
        "np.sqrt([1,4,9])"
      ],
      "metadata": {
        "colab": {
          "base_uri": "https://localhost:8080/"
        },
        "id": "XhDB_NoilhU-",
        "outputId": "045d5d2b-b3f7-432f-82d3-4d901ec85f9b"
      },
      "execution_count": 21,
      "outputs": [
        {
          "output_type": "execute_result",
          "data": {
            "text/plain": [
              "array([1., 2., 3.])"
            ]
          },
          "metadata": {},
          "execution_count": 21
        }
      ]
    },
    {
      "cell_type": "code",
      "source": [
        "np.sqrt([4, -1, np.inf])"
      ],
      "metadata": {
        "colab": {
          "base_uri": "https://localhost:8080/"
        },
        "id": "ljQP-uvBl8mY",
        "outputId": "e11d8ef8-aa55-4c7c-8382-fda499c2bfbd"
      },
      "execution_count": 22,
      "outputs": [
        {
          "output_type": "stream",
          "name": "stderr",
          "text": [
            "<ipython-input-22-b744eda02914>:1: RuntimeWarning: invalid value encountered in sqrt\n",
            "  np.sqrt([4, -1, np.inf])\n"
          ]
        },
        {
          "output_type": "execute_result",
          "data": {
            "text/plain": [
              "array([ 2., nan, inf])"
            ]
          },
          "metadata": {},
          "execution_count": 22
        }
      ]
    },
    {
      "cell_type": "code",
      "source": [
        "np.sqrt([4, -1, -3+4J])"
      ],
      "metadata": {
        "colab": {
          "base_uri": "https://localhost:8080/"
        },
        "id": "1Uwj9S9Pl99Q",
        "outputId": "75e98d19-c1bb-4776-d6b1-491384521009"
      },
      "execution_count": 23,
      "outputs": [
        {
          "output_type": "execute_result",
          "data": {
            "text/plain": [
              "array([2.+0.j, 0.+1.j, 1.+2.j])"
            ]
          },
          "metadata": {},
          "execution_count": 23
        }
      ]
    },
    {
      "cell_type": "markdown",
      "source": [
        "## Trigonometric functions"
      ],
      "metadata": {
        "id": "mHMqY-tPmAe-"
      }
    },
    {
      "cell_type": "markdown",
      "source": [
        "### sin\n",
        "- **Syntax**: `numpy.sin(x, /, out=None, *, where=True, casting='same_kind', order='K', dtype=None, subok=True[, signature]) = <ufunc 'sin'>`"
      ],
      "metadata": {
        "id": "0m6Z9ElvmE6S"
      }
    },
    {
      "cell_type": "code",
      "source": [
        "np.sin(np.pi/2)"
      ],
      "metadata": {
        "colab": {
          "base_uri": "https://localhost:8080/"
        },
        "id": "5YHDGs8dl_Sn",
        "outputId": "9c79ff22-fca1-4cf2-9b4d-fd60d2641ca1"
      },
      "execution_count": 25,
      "outputs": [
        {
          "output_type": "execute_result",
          "data": {
            "text/plain": [
              "np.float64(1.0)"
            ]
          },
          "metadata": {},
          "execution_count": 25
        }
      ]
    },
    {
      "cell_type": "code",
      "source": [
        "np.sin(np.array((0., 30., 45., 60., 90.)) * np.pi / 180. )"
      ],
      "metadata": {
        "colab": {
          "base_uri": "https://localhost:8080/"
        },
        "id": "CbHW9av2mT7O",
        "outputId": "2370c95d-f77e-4502-d6d5-31fb2b5ea52f"
      },
      "execution_count": 28,
      "outputs": [
        {
          "output_type": "execute_result",
          "data": {
            "text/plain": [
              "array([0.        , 0.5       , 0.70710678, 0.8660254 , 1.        ])"
            ]
          },
          "metadata": {},
          "execution_count": 28
        }
      ]
    },
    {
      "cell_type": "markdown",
      "source": [
        "### cos\n",
        "- **Syntax**: `numpy.cos(x, /, out=None, *, where=True, casting='same_kind', order='K', dtype=None, subok=True[, signature]) = <ufunc 'cos'>`"
      ],
      "metadata": {
        "id": "Rsk-IjM3mdaJ"
      }
    },
    {
      "cell_type": "code",
      "source": [
        "np.cos(np.array([0, np.pi/2, np.pi]))"
      ],
      "metadata": {
        "colab": {
          "base_uri": "https://localhost:8080/"
        },
        "id": "p39uU2ZGm0xP",
        "outputId": "8e307ae8-5774-4ad9-f3b1-b18af637cb5c"
      },
      "execution_count": 31,
      "outputs": [
        {
          "output_type": "execute_result",
          "data": {
            "text/plain": [
              "array([ 1.000000e+00,  6.123234e-17, -1.000000e+00])"
            ]
          },
          "metadata": {},
          "execution_count": 31
        }
      ]
    },
    {
      "cell_type": "markdown",
      "source": [
        "### tan\n",
        "- **Syntax**: `numpy.tan(x, /, out=None, *, where=True, casting='same_kind', order='K', dtype=None, subok=True[, signature]) = <ufunc 'tan'>`"
      ],
      "metadata": {
        "id": "sSuHJudKmjl2"
      }
    },
    {
      "cell_type": "code",
      "source": [
        "np.tan(np.array([-np.pi,np.pi/2,np.pi]))"
      ],
      "metadata": {
        "colab": {
          "base_uri": "https://localhost:8080/"
        },
        "id": "x-S2z-qmmogt",
        "outputId": "29ba30f8-8e1e-42e9-edd7-2e7c9aa908f3"
      },
      "execution_count": 30,
      "outputs": [
        {
          "output_type": "execute_result",
          "data": {
            "text/plain": [
              "array([ 1.22464680e-16,  1.63312394e+16, -1.22464680e-16])"
            ]
          },
          "metadata": {},
          "execution_count": 30
        }
      ]
    },
    {
      "cell_type": "code",
      "source": [],
      "metadata": {
        "id": "bMw6-U4AmWKR"
      },
      "execution_count": null,
      "outputs": []
    }
  ]
}